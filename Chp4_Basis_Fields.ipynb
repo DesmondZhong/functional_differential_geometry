{
 "cells": [
  {
   "cell_type": "code",
   "execution_count": 1,
   "id": "utility-challenge",
   "metadata": {},
   "outputs": [
    {
     "data": {
      "text/plain": [
       "#'chp4/render"
      ]
     },
     "execution_count": 1,
     "metadata": {},
     "output_type": "execute_result"
    }
   ],
   "source": [
    "(require '[clojupyter.misc.helper :as helper])\n",
    "(run! helper/add-dependencies '[[sicmutils \"0.18.0\"]])\n",
    "\n",
    "(ns chp4\n",
    "    (:refer-clojure :exclude [partial zero? + - * / ref compare =])\n",
    "    (:require [sicmutils.env :refer :all]\n",
    "              [sicmutils.value :as v]))\n",
    "(def render (comp ->infix simplify))"
   ]
  },
  {
   "cell_type": "code",
   "execution_count": 2,
   "id": "quick-president",
   "metadata": {},
   "outputs": [
    {
     "data": {
      "text/plain": [
       "#'chp4/e1"
      ]
     },
     "execution_count": 2,
     "metadata": {},
     "output_type": "execute_result"
    }
   ],
   "source": [
    ";; two general vector fields\n",
    "(let-coordinates\n",
    " [[x y] R2-rect]\n",
    " (def e0 (+ (* (literal-manifold-function 'e0x R2-rect) d:dx)\n",
    "            (* (literal-manifold-function 'e0y R2-rect) d:dy)))\n",
    " (def e1 (+ (* (literal-manifold-function 'e1x R2-rect) d:dx)\n",
    "            (* (literal-manifold-function 'e1y R2-rect) d:dy))))"
   ]
  },
  {
   "cell_type": "code",
   "execution_count": 3,
   "id": "neutral-equilibrium",
   "metadata": {},
   "outputs": [
    {
     "data": {
      "text/plain": [
       "#'chp4/e-vector-basis"
      ]
     },
     "execution_count": 3,
     "metadata": {},
     "output_type": "execute_result"
    }
   ],
   "source": [
    "(def e-vector-basis (down e0 e1))"
   ]
  },
  {
   "cell_type": "code",
   "execution_count": 4,
   "id": "gross-communications",
   "metadata": {},
   "outputs": [
    {
     "data": {
      "text/plain": [
       "#'chp4/e-dual-basis"
      ]
     },
     "execution_count": 4,
     "metadata": {},
     "output_type": "execute_result"
    }
   ],
   "source": [
    "(def e-dual-basis \n",
    "    (vector-basis->dual e-vector-basis R2-polar))"
   ]
  },
  {
   "cell_type": "markdown",
   "id": "scenic-appointment",
   "metadata": {},
   "source": [
    "- The coefficients of the basis vectors $\\mathsf{e}$, $\\mathsf{c}_j^k s$, are associated with the polar coordinate system. \n",
    "- The coefficients of the dual one-forms $\\tilde{\\mathsf{e}}$, $\\mathsf{d}_l^i s$, are associated with the polar coordinate system too. \n",
    "- $\\mathsf{d}_l^i s$ are calculated from $\\mathsf{c}_j^k s$ by matrix inversion.\n",
    "- The duality is independent of the coordinates in which they are express."
   ]
  },
  {
   "cell_type": "code",
   "execution_count": 5,
   "id": "political-thanks",
   "metadata": {},
   "outputs": [
    {
     "data": {
      "text/plain": [
       "\"up(down(1, 0), down(0, 1))\""
      ]
     },
     "execution_count": 5,
     "metadata": {},
     "output_type": "execute_result"
    }
   ],
   "source": [
    "(def R2-rect-point ((point R2-rect) (up 'x0 'y0)))\n",
    "(render ((e-dual-basis e-vector-basis) R2-rect-point))"
   ]
  },
  {
   "cell_type": "markdown",
   "id": "complete-disabled",
   "metadata": {},
   "source": [
    "- we can make a general vector field with this basis and then pick out the coefficients by applying the dual basis"
   ]
  },
  {
   "cell_type": "code",
   "execution_count": 6,
   "id": "unexpected-shoot",
   "metadata": {},
   "outputs": [
    {
     "data": {
      "text/plain": [
       "\"up(b0(up(x0, y0)), b1(up(x0, y0)))\""
      ]
     },
     "execution_count": 6,
     "metadata": {},
     "output_type": "execute_result"
    }
   ],
   "source": [
    "(def v\n",
    "    (* (up (literal-manifold-function 'b0 R2-rect)\n",
    "           (literal-manifold-function 'b1 R2-rect))\n",
    "       e-vector-basis))\n",
    "(render ((e-dual-basis v) R2-rect-point))"
   ]
  },
  {
   "cell_type": "markdown",
   "id": "disciplinary-print",
   "metadata": {},
   "source": [
    "- Likewise, we can also make a general one form with the dual basis and then pick put the coefficients by applying the one form to the vector basis"
   ]
  },
  {
   "cell_type": "code",
   "execution_count": 7,
   "id": "athletic-filing",
   "metadata": {},
   "outputs": [
    {
     "data": {
      "text/plain": [
       "\"down(a₀(up(x0, y0)), a₁(up(x0, y0)))\""
      ]
     },
     "execution_count": 7,
     "metadata": {},
     "output_type": "execute_result"
    }
   ],
   "source": [
    "(def omega\n",
    "    (* (down (literal-manifold-function 'a_0 R2-rect)\n",
    "             (literal-manifold-function 'a_1 R2-rect))\n",
    "       e-dual-basis))\n",
    "(render ((omega e-vector-basis) R2-rect-point))"
   ]
  },
  {
   "cell_type": "markdown",
   "id": "heard-opportunity",
   "metadata": {},
   "source": [
    "## 4.1 Change of Basis"
   ]
  },
  {
   "cell_type": "code",
   "execution_count": 8,
   "id": "billion-western",
   "metadata": {},
   "outputs": [
    {
     "name": "stdout",
     "output_type": "stream",
     "text": [
      "(defn Jacobian\n",
      "  \"Returns the Jacobian of transition from `from-basis` to `to-basis`.\n",
      "\n",
      "  The Jacobian is a structure of manifold functions. The outer index is the\n",
      "  from-basis index, so this structure can be multiplied by tuple of component\n",
      "  functions of a vector field relative to `from-basis` to get component\n",
      "  functions for a vector field in `to-basis`.\"\n",
      "  [to-basis from-basis]\n",
      "  (s/mapr (basis->oneform-basis to-basis)\n",
      "          (basis->vector-basis from-basis)))\n"
     ]
    },
    {
     "data": {
      "text/plain": [
       "nil"
      ]
     },
     "execution_count": 8,
     "metadata": {},
     "output_type": "execute_result"
    }
   ],
   "source": [
    "(clojure.repl/source Jacobian)"
   ]
  },
  {
   "cell_type": "code",
   "execution_count": 9,
   "id": "concerned-angle",
   "metadata": {},
   "outputs": [
    {
     "data": {
      "text/plain": [
       "#'chp4/b-rect"
      ]
     },
     "execution_count": 9,
     "metadata": {},
     "output_type": "execute_result"
    }
   ],
   "source": [
    "(def b-rect\n",
    "    ((coordinate-system->oneform-basis R2-rect)\n",
    "     (literal-vector-field 'b R2-rect)))"
   ]
  },
  {
   "cell_type": "code",
   "execution_count": 10,
   "id": "continuing-stage",
   "metadata": {},
   "outputs": [
    {
     "data": {
      "text/plain": [
       "\"up(b⁰(up(x0, y0)), b¹(up(x0, y0)))\""
      ]
     },
     "execution_count": 10,
     "metadata": {},
     "output_type": "execute_result"
    }
   ],
   "source": [
    "(render (b-rect ((point R2-rect) (up 'x0 'y0))))"
   ]
  },
  {
   "cell_type": "code",
   "execution_count": 11,
   "id": "absent-malawi",
   "metadata": {},
   "outputs": [
    {
     "data": {
      "text/plain": [
       "#'chp4/b-polar"
      ]
     },
     "execution_count": 11,
     "metadata": {},
     "output_type": "execute_result"
    }
   ],
   "source": [
    "(def b-polar\n",
    "    ((coordinate-system->oneform-basis R2-polar)\n",
    "     (literal-vector-field 'b R2-rect)))"
   ]
  },
  {
   "cell_type": "code",
   "execution_count": 12,
   "id": "athletic-fraud",
   "metadata": {},
   "outputs": [
    {
     "data": {
      "text/plain": [
       "#'chp4/b-polar-trans"
      ]
     },
     "execution_count": 12,
     "metadata": {},
     "output_type": "execute_result"
    }
   ],
   "source": [
    "(def b-polar-trans\n",
    "    (* (Jacobian (coordinate-system->basis R2-polar)\n",
    "                 (coordinate-system->basis R2-rect))\n",
    "       b-rect))"
   ]
  },
  {
   "cell_type": "code",
   "execution_count": 13,
   "id": "assigned-massage",
   "metadata": {},
   "outputs": [
    {
     "data": {
      "text/plain": [
       "\"up((x0 b⁰(up(x0, y0)) + y0 b¹(up(x0, y0))) / sqrt(x0² + y0²), (x0 b¹(up(x0, y0)) - y0 b⁰(up(x0, y0))) / (x0² + y0²))\""
      ]
     },
     "execution_count": 13,
     "metadata": {},
     "output_type": "execute_result"
    }
   ],
   "source": [
    "(render (b-polar ((point R2-rect) (up 'x0 'y0))))"
   ]
  },
  {
   "cell_type": "code",
   "execution_count": 14,
   "id": "outstanding-distributor",
   "metadata": {},
   "outputs": [
    {
     "data": {
      "text/plain": [
       "\"up((x0 b⁰(up(x0, y0)) + y0 b¹(up(x0, y0))) / sqrt(x0² + y0²), (x0 b¹(up(x0, y0)) - y0 b⁰(up(x0, y0))) / (x0² + y0²))\""
      ]
     },
     "execution_count": 14,
     "metadata": {},
     "output_type": "execute_result"
    }
   ],
   "source": [
    "(render (b-polar-trans ((point R2-rect) (up 'x0 'y0))))"
   ]
  },
  {
   "cell_type": "markdown",
   "id": "nuclear-message",
   "metadata": {},
   "source": [
    "## 4.2 Rotation Basis"
   ]
  },
  {
   "cell_type": "code",
   "execution_count": 15,
   "id": "vertical-biography",
   "metadata": {
    "scrolled": false
   },
   "outputs": [
    {
     "data": {
      "text/plain": [
       "#object[sicmutils.matrix.Matrix 0x7963b697 \"[[(+ (* (cos ϕ) (cos ψ)) (* (- (sin ϕ)) (cos θ) (sin ψ))) (+ (* (cos ϕ) (- (sin ψ))) (* (- (sin ϕ)) (cos θ) (cos ψ))) (* (- (sin ϕ)) (- (sin θ)))] [(+ (* (sin ϕ) (cos ψ)) (* (cos ϕ) (cos θ) (sin ψ))) (+ (* (sin ϕ) (- (sin ψ))) (* (cos ϕ) (cos θ) (cos ψ))) (* (cos ϕ) (- (sin θ)))] [(* (sin θ) (sin ψ)) (* (sin θ) (cos ψ)) (cos θ)]]\"]"
      ]
     },
     "execution_count": 15,
     "metadata": {},
     "output_type": "execute_result"
    }
   ],
   "source": [
    "(* (rotate-z-matrix 'ϕ)\n",
    "   (rotate-x-matrix 'θ)\n",
    "   (rotate-z-matrix 'ψ))"
   ]
  },
  {
   "cell_type": "code",
   "execution_count": 16,
   "id": "protective-observer",
   "metadata": {},
   "outputs": [
    {
     "data": {
      "text/plain": [
       "#object[sicmutils.matrix.Matrix 0x2b1538ce \"[[-0.4854784609636683 0.864780102737098 0.12832006020245673] [0.42291857174254777 0.1038465651516682 0.9001976297355174] [0.7651474012342926 0.49129549643388193 -0.4161468365471424]]\"]"
      ]
     },
     "execution_count": 16,
     "metadata": {},
     "output_type": "execute_result"
    }
   ],
   "source": [
    "(* (rotate-z-matrix 3)\n",
    "   (rotate-x-matrix 2)\n",
    "   (rotate-z-matrix 1)) ;; intrindix"
   ]
  },
  {
   "cell_type": "code",
   "execution_count": 17,
   "id": "public-physiology",
   "metadata": {},
   "outputs": [
    {
     "data": {
      "text/plain": [
       "#object[sicmutils.matrix.Matrix 0x7fc32f1 \"[[-0.4854784609636683 -0.42291857174254777 0.7651474012342926] [-0.864780102737098 0.1038465651516682 -0.49129549643388193] [0.12832006020245673 -0.9001976297355174 -0.4161468365471424]]\"]"
      ]
     },
     "execution_count": 17,
     "metadata": {},
     "output_type": "execute_result"
    }
   ],
   "source": [
    "(* (rotate-z-matrix 1)\n",
    "   (rotate-x-matrix 2)\n",
    "   (rotate-z-matrix 3))"
   ]
  },
  {
   "cell_type": "code",
   "execution_count": 18,
   "id": "transparent-ballot",
   "metadata": {
    "scrolled": true
   },
   "outputs": [
    {
     "data": {
      "text/plain": [
       "\"matrix-by-rows(up(-0.4854784609636683, -0.42291857174254777, 0.7651474012342926), up(-0.864780102737098, 0.1038465651516682, -0.49129549643388193), up(0.12832006020245673, -0.9001976297355174, -0.4161468365471424))\""
      ]
     },
     "execution_count": 18,
     "metadata": {},
     "output_type": "execute_result"
    }
   ],
   "source": [
    "(render *1)"
   ]
  },
  {
   "cell_type": "code",
   "execution_count": 19,
   "id": "rapid-stake",
   "metadata": {},
   "outputs": [
    {
     "data": {
      "text/plain": [
       "#object[sicmutils.matrix.Matrix 0x22be2850 \"[[(+ (* (cos ϕ) (cos θ) (cos ψ)) (* (- (sin ϕ)) (sin ψ))) (+ (* (cos ϕ) (cos θ) (- (sin ψ))) (* (- (sin ϕ)) (cos ψ))) (* (cos ϕ) (sin θ))] [(+ (* (sin ϕ) (cos θ) (cos ψ)) (* (cos ϕ) (sin ψ))) (+ (* (sin ϕ) (cos θ) (- (sin ψ))) (* (cos ϕ) (cos ψ))) (* (sin ϕ) (sin θ))] [(* (- (sin θ)) (cos ψ)) (* (- (sin θ)) (- (sin ψ))) (cos θ)]]\"]"
      ]
     },
     "execution_count": 19,
     "metadata": {},
     "output_type": "execute_result"
    }
   ],
   "source": [
    "(* (rotate-z-matrix 'ϕ)\n",
    "   (rotate-y-matrix 'θ)\n",
    "   (rotate-z-matrix 'ψ))"
   ]
  },
  {
   "cell_type": "code",
   "execution_count": 20,
   "id": "protecting-chance",
   "metadata": {},
   "outputs": [
    {
     "data": {
      "text/plain": [
       "\"matrix-by-rows(up(cos(ϕ) cos(θ) cos(ψ) - sin(ψ) sin(ϕ), - cos(ϕ) cos(θ) sin(ψ) - cos(ψ) sin(ϕ), cos(ϕ) sin(θ)), up(cos(θ) cos(ψ) sin(ϕ) + cos(ϕ) sin(ψ), - cos(θ) sin(ψ) sin(ϕ) + cos(ϕ) cos(ψ), sin(ϕ) sin(θ)), up(- cos(ψ) sin(θ), sin(ψ) sin(θ), cos(θ)))\""
      ]
     },
     "execution_count": 20,
     "metadata": {},
     "output_type": "execute_result"
    }
   ],
   "source": [
    "(render *1)"
   ]
  },
  {
   "cell_type": "code",
   "execution_count": 21,
   "id": "nuclear-passenger",
   "metadata": {},
   "outputs": [
    {
     "data": {
      "text/plain": [
       "#object[sicmutils.matrix.Matrix 0x3868d3c0 \"[[0.1038465651516682 -0.42291857174254777 -0.9001976297355174] [-0.864780102737098 -0.4854784609636683 0.12832006020245673] [-0.49129549643388193 0.7651474012342926 -0.4161468365471424]]\"]"
      ]
     },
     "execution_count": 21,
     "metadata": {},
     "output_type": "execute_result"
    }
   ],
   "source": [
    "(* (rotate-z-matrix 3)\n",
    "   (rotate-y-matrix 2)\n",
    "   (rotate-z-matrix 1))"
   ]
  },
  {
   "cell_type": "code",
   "execution_count": 22,
   "id": "fatty-commodity",
   "metadata": {},
   "outputs": [
    {
     "data": {
      "text/plain": [
       "#object[sicmutils.matrix.Matrix 0x5c6fbcfe \"[[(+ (* (cos ϕ) (cos ψ)) (* (- (sin ϕ)) (cos θ) (sin ψ))) (+ (* (cos ϕ) (- (sin ψ))) (* (- (sin ϕ)) (cos θ) (cos ψ))) (* (- (sin ϕ)) (- (sin θ)))] [(+ (* (sin ϕ) (cos ψ)) (* (cos ϕ) (cos θ) (sin ψ))) (+ (* (sin ϕ) (- (sin ψ))) (* (cos ϕ) (cos θ) (cos ψ))) (* (cos ϕ) (- (sin θ)))] [(* (sin θ) (sin ψ)) (* (sin θ) (cos ψ)) (cos θ)]]\"]"
      ]
     },
     "execution_count": 22,
     "metadata": {},
     "output_type": "execute_result"
    }
   ],
   "source": [
    ";; The euler angle rotation defined in the book.\n",
    "(* (rotate-z-matrix 'ϕ)\n",
    "   (rotate-x-matrix 'θ)\n",
    "   (rotate-z-matrix 'ψ))"
   ]
  },
  {
   "cell_type": "code",
   "execution_count": 23,
   "id": "representative-graphics",
   "metadata": {},
   "outputs": [
    {
     "data": {
      "text/plain": [
       "#'chp4/f"
      ]
     },
     "execution_count": 23,
     "metadata": {},
     "output_type": "execute_result"
    }
   ],
   "source": [
    "(defn f\n",
    "    [epsilon]\n",
    "    (+ (up 'θ 'ϕ 'ψ) (* epsilon (up 'a 'b 'c))))"
   ]
  },
  {
   "cell_type": "code",
   "execution_count": 24,
   "id": "floral-therapist",
   "metadata": {},
   "outputs": [
    {
     "data": {
      "text/plain": [
       "#'chp4/g"
      ]
     },
     "execution_count": 24,
     "metadata": {},
     "output_type": "execute_result"
    }
   ],
   "source": [
    "(def g (comp Euler->M f))"
   ]
  },
  {
   "cell_type": "code",
   "execution_count": 25,
   "id": "palestinian-probe",
   "metadata": {},
   "outputs": [
    {
     "data": {
      "text/plain": [
       "\"matrix-by-rows(up(a sin(ψ) sin(ϕ) sin(θ) - b cos(ϕ) cos(θ) sin(ψ) - c cos(θ) cos(ψ) sin(ϕ) - b cos(ψ) sin(ϕ) - c cos(ϕ) sin(ψ), a cos(ψ) sin(ϕ) sin(θ) - b cos(ϕ) cos(θ) cos(ψ) + c cos(θ) sin(ψ) sin(ϕ) + b sin(ψ) sin(ϕ) - c cos(ϕ) cos(ψ), a cos(θ) sin(ϕ) + b cos(ϕ) sin(θ)), up(- a cos(ϕ) sin(ψ) sin(θ) - b cos(θ) sin(ψ) sin(ϕ) + c cos(ϕ) cos(θ) cos(ψ) + b cos(ϕ) cos(ψ) - c sin(ψ) sin(ϕ), - a cos(ϕ) cos(ψ) sin(θ) - b cos(θ) cos(ψ) sin(ϕ) - c cos(ϕ) cos(θ) sin(ψ) - b cos(ϕ) sin(ψ) - c cos(ψ) sin(ϕ), - a cos(ϕ) cos(θ) + b sin(ϕ) sin(θ)), up(a cos(θ) sin(ψ) + c cos(ψ) sin(θ), a cos(θ) cos(ψ) - c sin(ψ) sin(θ), - a sin(θ)))\""
      ]
     },
     "execution_count": 25,
     "metadata": {},
     "output_type": "execute_result"
    }
   ],
   "source": [
    "(render ((D g) 0))"
   ]
  },
  {
   "cell_type": "markdown",
   "id": "functional-arabic",
   "metadata": {},
   "source": [
    "### 4.3 Commutators"
   ]
  },
  {
   "cell_type": "code",
   "execution_count": 26,
   "id": "premium-french",
   "metadata": {},
   "outputs": [
    {
     "data": {
      "text/plain": [
       "#'chp4/e1"
      ]
     },
     "execution_count": 26,
     "metadata": {},
     "output_type": "execute_result"
    }
   ],
   "source": [
    "(def polar-vector-basis (coordinate-system->vector-basis R2-polar))\n",
    "(def polar-dual-basis (coordinate-system->oneform-basis R2-polar))\n",
    "(def f-rect (literal-manifold-function 'f-rect R2-rect))\n",
    "(def e0 (* (up (literal-manifold-function 'e0x R2-rect)\n",
    "               (literal-manifold-function 'e0y R2-rect))\n",
    "           (coordinate-system->vector-basis R2-rect)))\n",
    "(def e1 (* (up (literal-manifold-function 'e1x R2-rect)\n",
    "                (literal-manifold-function 'e1y R2-rect))\n",
    "           (coordinate-system->vector-basis R2-rect)))"
   ]
  },
  {
   "cell_type": "code",
   "execution_count": 27,
   "id": "contained-grenada",
   "metadata": {},
   "outputs": [
    {
     "data": {
      "text/plain": [
       "0"
      ]
     },
     "execution_count": 27,
     "metadata": {},
     "output_type": "execute_result"
    }
   ],
   "source": [
    ";; validate Eqn. 4.34\n",
    "(simplify\n",
    "((- ((commutator e0 e1) f-rect)\n",
    "    (* (- (e0 (polar-dual-basis e1))\n",
    "          (e1 (polar-dual-basis e0)))\n",
    "       (polar-vector-basis f-rect)))\n",
    " R2-rect-point))"
   ]
  },
  {
   "cell_type": "code",
   "execution_count": 28,
   "id": "still-coalition",
   "metadata": {},
   "outputs": [
    {
     "data": {
      "text/plain": [
       "#'chp4/Jy"
      ]
     },
     "execution_count": 28,
     "metadata": {},
     "output_type": "execute_result"
    }
   ],
   "source": [
    "(let-coordinates\n",
    " [[x y z] R3-rect]\n",
    " (def Jz (- (* x d:dy) (* y d:dx)))\n",
    " (def Jx (- (* y d:dz) (* z d:dy)))\n",
    " (def Jy (- (* z d:dx) (* x d:dz))))"
   ]
  },
  {
   "cell_type": "code",
   "execution_count": 29,
   "id": "unable-party",
   "metadata": {
    "scrolled": false
   },
   "outputs": [
    {
     "data": {
      "text/plain": [
       "#'chp4/g"
      ]
     },
     "execution_count": 29,
     "metadata": {},
     "output_type": "execute_result"
    }
   ],
   "source": [
    "(def R3-rect-point ((point R3-rect) (up 'x0 'y0 'z0)))\n",
    "(def g (literal-manifold-function 'g-rect R3-rect))"
   ]
  },
  {
   "cell_type": "code",
   "execution_count": 30,
   "id": "square-singing",
   "metadata": {
    "scrolled": true
   },
   "outputs": [
    {
     "data": {
      "text/plain": [
       "\"0\""
      ]
     },
     "execution_count": 30,
     "metadata": {},
     "output_type": "execute_result"
    }
   ],
   "source": [
    "(render (((+ (commutator Jx Jy) Jz) g) R3-rect-point))"
   ]
  },
  {
   "cell_type": "code",
   "execution_count": 31,
   "id": "figured-orleans",
   "metadata": {},
   "outputs": [
    {
     "data": {
      "text/plain": [
       "#'chp4/e_z"
      ]
     },
     "execution_count": 31,
     "metadata": {},
     "output_type": "execute_result"
    }
   ],
   "source": [
    "(let-coordinates\n",
    " [[θ ϕ ψ] Euler-angles]\n",
    " (def e_x (+ (* d:dθ (cos ϕ))\n",
    "             (* d:dϕ -1 (/ (* (sin ϕ) (cos θ)) (sin θ)))\n",
    "             (* d:dψ (/ (sin ϕ) (sin θ)))))\n",
    " (def e_y (+ (* d:dθ (sin ϕ))\n",
    "             (* d:dϕ (/ (* (cos ϕ) (cos θ)) (sin θ)))\n",
    "             (* d:dψ -1 (/ (cos ϕ) (sin θ)))))\n",
    " (def e_z d:dϕ))"
   ]
  },
  {
   "cell_type": "code",
   "execution_count": 32,
   "id": "appreciated-matter",
   "metadata": {},
   "outputs": [
    {
     "data": {
      "text/plain": [
       "#'chp4/f"
      ]
     },
     "execution_count": 32,
     "metadata": {},
     "output_type": "execute_result"
    }
   ],
   "source": [
    "(def SO3-point ((point Euler-angles) (up 'θ 'ϕ 'ψ)))\n",
    "(def f (literal-manifold-function 'f-Euler Euler-angles))"
   ]
  },
  {
   "cell_type": "code",
   "execution_count": 73,
   "id": "piano-printer",
   "metadata": {
    "scrolled": true
   },
   "outputs": [
    {
     "data": {
      "text/plain": [
       "\"0\""
      ]
     },
     "execution_count": 73,
     "metadata": {},
     "output_type": "execute_result"
    }
   ],
   "source": [
    "(render (((+ (commutator e_x e_y) e_z) f) SO3-point))"
   ]
  },
  {
   "cell_type": "code",
   "execution_count": 33,
   "id": "innocent-newton",
   "metadata": {
    "scrolled": true
   },
   "outputs": [
    {
     "data": {
      "text/plain": [
       "\"0\""
      ]
     },
     "execution_count": 33,
     "metadata": {},
     "output_type": "execute_result"
    }
   ],
   "source": [
    "(render (((+ (commutator e_y e_z) e_x) f) SO3-point))"
   ]
  },
  {
   "cell_type": "code",
   "execution_count": 34,
   "id": "strange-wrestling",
   "metadata": {},
   "outputs": [
    {
     "data": {
      "text/plain": [
       "\"0\""
      ]
     },
     "execution_count": 34,
     "metadata": {},
     "output_type": "execute_result"
    }
   ],
   "source": [
    "(render (((+ (commutator e_z e_x) e_y) f) SO3-point))"
   ]
  },
  {
   "cell_type": "markdown",
   "id": "suspended-worry",
   "metadata": {},
   "source": [
    "- here we consider the evolution of a loop with sides made from the integral curves of two vector fields $Jx$ and $Jz$ at the vector $(0, 0, 1)$ in $R^3$. "
   ]
  },
  {
   "cell_type": "code",
   "execution_count": 68,
   "id": "isolated-smell",
   "metadata": {},
   "outputs": [
    {
     "data": {
      "text/plain": [
       "#'chp4/after-Jx"
      ]
     },
     "execution_count": 68,
     "metadata": {},
     "output_type": "execute_result"
    }
   ],
   "source": [
    "(def after-Jx-seq\n",
    "    (((exp (* 't Jx)) (chart R3-rect))\n",
    "     ((point R3-rect) (up 0 0 1))))\n",
    "(def after-Jx\n",
    "    (reduce + (take 3 after-Jx-seq)))"
   ]
  },
  {
   "cell_type": "code",
   "execution_count": null,
   "id": "consolidated-latino",
   "metadata": {},
   "outputs": [],
   "source": []
  },
  {
   "cell_type": "code",
   "execution_count": 69,
   "id": "proof-wheel",
   "metadata": {},
   "outputs": [
    {
     "data": {
      "text/plain": [
       "#'chp4/after-Jz"
      ]
     },
     "execution_count": 69,
     "metadata": {},
     "output_type": "execute_result"
    }
   ],
   "source": [
    "(def after-Jz-seq\n",
    "    (((exp (* 't Jz)) (chart R3-rect))\n",
    "     ((point R3-rect) after-Jx)))\n",
    "(def after-Jz\n",
    "    (reduce + (take 3 after-Jz-seq)))"
   ]
  },
  {
   "cell_type": "code",
   "execution_count": 70,
   "id": "hearing-terry",
   "metadata": {},
   "outputs": [
    {
     "data": {
      "text/plain": [
       "#'chp4/after-inv-Jx"
      ]
     },
     "execution_count": 70,
     "metadata": {},
     "output_type": "execute_result"
    }
   ],
   "source": [
    "(def after-inv-Jx-seq\n",
    "    (((exp (* 't (- Jx))) (chart R3-rect))\n",
    "     ((point R3-rect) after-Jz)))\n",
    "(def after-inv-Jx\n",
    "    (reduce + (take 3 after-inv-Jx-seq)))"
   ]
  },
  {
   "cell_type": "code",
   "execution_count": 71,
   "id": "contemporary-dining",
   "metadata": {},
   "outputs": [
    {
     "data": {
      "text/plain": [
       "#'chp4/after-inv-Jz"
      ]
     },
     "execution_count": 71,
     "metadata": {},
     "output_type": "execute_result"
    }
   ],
   "source": [
    "(def after-inv-Jz-seq\n",
    "    (((exp (* 't (- Jz))) (chart R3-rect))\n",
    "     ((point R3-rect) after-inv-Jx)))\n",
    "(def after-inv-Jz\n",
    "    (reduce + (take 3 after-inv-Jz-seq)))"
   ]
  },
  {
   "cell_type": "code",
   "execution_count": 72,
   "id": "extreme-navigator",
   "metadata": {},
   "outputs": [
    {
     "data": {
      "text/plain": [
       "\"up(t², -1/4 t⁵ + 1/2 t³, -1/4 t⁴ + 1) + up(-1/4 t⁶ + 1/2 t⁴, - t³, 0) + up(-1/2 t⁴, 1/8 t⁷ -1/4 t⁵, 0) + up(1/24 t⁸ -1/12 t⁶, 1/6 t⁵, 0) + ...\""
      ]
     },
     "execution_count": 72,
     "metadata": {},
     "output_type": "execute_result"
    }
   ],
   "source": [
    "(render after-inv-Jz-seq)"
   ]
  },
  {
   "cell_type": "markdown",
   "id": "previous-salem",
   "metadata": {},
   "source": [
    "- here we consider the evolution of a loop with sides made from the integral curves of two vector fields $ex$ and $ez$ at the vector $(1, 0, 0)$ in $SO(3)$. "
   ]
  },
  {
   "cell_type": "code",
   "execution_count": 127,
   "id": "permanent-valuable",
   "metadata": {},
   "outputs": [
    {
     "data": {
      "text/plain": [
       "(up 1.5707963267948966 0 0)"
      ]
     },
     "execution_count": 127,
     "metadata": {},
     "output_type": "execute_result"
    }
   ],
   "source": [
    "(def t 0.1)\n",
    "(def euler-angles-cood (up (/ pi 2) 0 0))\n",
    "euler-angles-cood"
   ]
  },
  {
   "cell_type": "code",
   "execution_count": 138,
   "id": "facial-dating",
   "metadata": {},
   "outputs": [
    {
     "data": {
      "text/plain": [
       "(up 1.6791852497670348 0 0)"
      ]
     },
     "execution_count": 138,
     "metadata": {},
     "output_type": "execute_result"
    }
   ],
   "source": [
    "(def after-ex-seq\n",
    "    (((exp (* t e_x)) (chart Euler-angles))\n",
    "     ((point Euler-angles) euler-angles-cood)))\n",
    "(def after-ex\n",
    "    (reduce + (take 7 after-ex-seq)))\n",
    "after-ex"
   ]
  },
  {
   "cell_type": "code",
   "execution_count": 139,
   "id": "premier-humidity",
   "metadata": {},
   "outputs": [
    {
     "data": {
      "text/plain": [
       "(up 1.6791852497670348 0.1 0.0)"
      ]
     },
     "execution_count": 139,
     "metadata": {},
     "output_type": "execute_result"
    }
   ],
   "source": [
    "(def after-ez-seq\n",
    "    (((exp (* t e_z)) (chart Euler-angles))\n",
    "     ((point Euler-angles) after-ex)))\n",
    "(def after-ez\n",
    "    (reduce + (take 7 after-ez-seq)))\n",
    "after-ez"
   ]
  },
  {
   "cell_type": "code",
   "execution_count": 140,
   "id": "apart-momentum",
   "metadata": {},
   "outputs": [
    {
     "data": {
      "text/plain": [
       "(up 1.570472999881411 0.09883565859924028 -0.00990916635880347)"
      ]
     },
     "execution_count": 140,
     "metadata": {},
     "output_type": "execute_result"
    }
   ],
   "source": [
    "(def after-inv-ex-seq\n",
    "    (((exp (* t (- e_x))) (chart Euler-angles))\n",
    "     ((point Euler-angles) after-ez)))\n",
    "(def after-inv-ex\n",
    "    (reduce + (take 7 after-inv-ex-seq)))\n",
    "after-inv-ex"
   ]
  },
  {
   "cell_type": "code",
   "execution_count": 141,
   "id": "fixed-samba",
   "metadata": {},
   "outputs": [
    {
     "data": {
      "text/plain": [
       "(up 1.570472999881411 -0.0011643414007597164 -0.00990916635880347)"
      ]
     },
     "execution_count": 141,
     "metadata": {},
     "output_type": "execute_result"
    }
   ],
   "source": [
    "(def after-inv-ez-seq\n",
    "    (((exp (* t (- e_z))) (chart Euler-angles))\n",
    "     ((point Euler-angles) after-inv-ex)))\n",
    "(def after-inv-ez\n",
    "    (reduce + (take 7 after-inv-ez-seq)))\n",
    "after-inv-ez"
   ]
  },
  {
   "cell_type": "code",
   "execution_count": 122,
   "id": "hydraulic-corpus",
   "metadata": {},
   "outputs": [
    {
     "data": {
      "text/plain": [
       "\"up(1.570796326561851, -1.0015686259957218E-9, -9.999983325480414E-7)\""
      ]
     },
     "execution_count": 122,
     "metadata": {},
     "output_type": "execute_result"
    }
   ],
   "source": [
    "(render after-inv-ez)"
   ]
  },
  {
   "cell_type": "code",
   "execution_count": 142,
   "id": "chemical-barbados",
   "metadata": {},
   "outputs": [
    {
     "data": {
      "text/plain": [
       "(up 1.5707963267948966 0.1 0.0)"
      ]
     },
     "execution_count": 142,
     "metadata": {},
     "output_type": "execute_result"
    }
   ],
   "source": [
    ";; z first\n",
    "(def after-ez-seq-2\n",
    "    (((exp (* t e_z)) (chart Euler-angles))\n",
    "     ((point Euler-angles) euler-angles-cood)))\n",
    "(def after-ez-2\n",
    "    (reduce + (take 7 after-ez-seq-2)))\n",
    "after-ez-2"
   ]
  },
  {
   "cell_type": "code",
   "execution_count": 144,
   "id": "refined-prescription",
   "metadata": {},
   "outputs": [
    {
     "data": {
      "text/plain": [
       "(up 1.67859728164069 0.10099825524795271 0.010066202125322365)"
      ]
     },
     "execution_count": 144,
     "metadata": {},
     "output_type": "execute_result"
    }
   ],
   "source": [
    ";; then x \n",
    "(def after-ex-seq-2\n",
    "    (((exp (* t e_x)) (chart Euler-angles))\n",
    "     ((point Euler-angles) after-ez-2)))\n",
    "(def after-ex-2\n",
    "    (reduce + (take 7 after-ex-seq-2)))\n",
    "after-ex-2"
   ]
  },
  {
   "cell_type": "code",
   "execution_count": null,
   "id": "sought-invention",
   "metadata": {},
   "outputs": [],
   "source": []
  }
 ],
 "metadata": {
  "kernelspec": {
   "display_name": "Clojure (clojupyter=0.3.2=1)",
   "language": "clojure",
   "name": "conda-clojupyter"
  },
  "language_info": {
   "file_extension": ".clj",
   "mimetype": "text/x-clojure",
   "name": "clojure",
   "version": "1.10.1"
  }
 },
 "nbformat": 4,
 "nbformat_minor": 5
}
