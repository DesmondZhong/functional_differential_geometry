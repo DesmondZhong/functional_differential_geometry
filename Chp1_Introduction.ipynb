{
 "cells": [
  {
   "cell_type": "code",
   "execution_count": 1,
   "id": "postal-arena",
   "metadata": {},
   "outputs": [
    {
     "data": {
      "text/plain": [
       "nil"
      ]
     },
     "execution_count": 1,
     "metadata": {},
     "output_type": "execute_result"
    }
   ],
   "source": [
    "(require '[clojupyter.misc.helper :as helper])\n",
    "(run! helper/add-dependencies '[[sicmutils \"0.15.0\"]])\n",
    "\n",
    "(ns chp1\n",
    "    (:refer-clojure :exclude [partial zero? + - * / ref compare])\n",
    "    (:require [sicmutils.env :refer :all]\n",
    "              [sicmutils.value :as v]))\n"
   ]
  },
  {
   "cell_type": "markdown",
   "id": "decent-welcome",
   "metadata": {},
   "source": [
    "- The motion of a ball constrained on a surface can be described by Euler-Lagrange equations. There are coeffcients of terms in the Euler-Lagrange equations, connecting the static shape of the surface with the dynamical behavior of the balls. \n",
    "- The dynamical evolution of the balls may be viewed as parallel transport of the ball's velocity vector in the direction of the velocity vector. \n",
    "- THis motion by parallel transport of velocity is called _geodesic motion_.\n",
    "- There are deep connections between\n",
    "    - the dynamics of particles\n",
    "    - the geometry of the space that the particles move in\n",
    "- When we express the Lagrangian and the Lagrange equations in differential geometry language, geometric properties become apparent. \n",
    "- In the case of systems with no potential energy the Euler-Lagrange equations are equivalent to the geodesic equations on the configuration manifold. \n",
    "- The coefficients of terms in the Lagrange equations are Christoffel coefficients, which define parallel transport on the manifold. "
   ]
  },
  {
   "cell_type": "markdown",
   "id": "spectacular-vatican",
   "metadata": {},
   "source": [
    "## Lagrange Equations"
   ]
  },
  {
   "cell_type": "code",
   "execution_count": 2,
   "id": "protecting-inflation",
   "metadata": {},
   "outputs": [
    {
     "data": {
      "text/plain": [
       "#'chp1/Lfree"
      ]
     },
     "execution_count": 2,
     "metadata": {},
     "output_type": "execute_result"
    }
   ],
   "source": [
    ";; the Lagrangian for a free particle of mass m and velocity v\n",
    ";; no potential energy\n",
    "(defn Lfree\n",
    "    [mass]\n",
    "    (fn [[t q v]]\n",
    "        (* (/ 1 2) mass (square v))))"
   ]
  },
  {
   "cell_type": "code",
   "execution_count": 3,
   "id": "preceding-supply",
   "metadata": {},
   "outputs": [
    {
     "data": {
      "text/plain": [
       "#'chp1/sphere->R3"
      ]
     },
     "execution_count": 3,
     "metadata": {},
     "output_type": "execute_result"
    }
   ],
   "source": [
    ";; coordinate transformation\n",
    ";; generalized coordinates on the sphere -> Cartesian coordinates\n",
    "(defn sphere->R3\n",
    "    [R]\n",
    "    (fn [[t [theta phi] v]]\n",
    "        (up (* R (sin theta) (cos phi))   ; x\n",
    "            (* R (sin theta) (sin phi))   ; y\n",
    "            (* R (cos theta)))))          ; z"
   ]
  },
  {
   "cell_type": "code",
   "execution_count": 15,
   "id": "twenty-clarity",
   "metadata": {},
   "outputs": [
    {
     "data": {
      "text/plain": [
       "#'chp1/Lsphere"
      ]
     },
     "execution_count": 15,
     "metadata": {},
     "output_type": "execute_result"
    }
   ],
   "source": [
    "(defn Lsphere\n",
    "    [m R]\n",
    "    (compose (Lfree m) (F->C (sphere->R3 R))))"
   ]
  },
  {
   "cell_type": "code",
   "execution_count": 7,
   "id": "attended-creator",
   "metadata": {},
   "outputs": [
    {
     "name": "stdout",
     "output_type": "stream",
     "text": [
      "(defn compose\n",
      "  \"Arity-preserving version of `clojure.core/comp`.\n",
      "\n",
      "  The arity of a composition is the arity of the rightmost (that is, first to be\n",
      "  applied) function term in `fns`.\"\n",
      "  [& fns]\n",
      "  (let [a (arity (last fns))]\n",
      "    (with-meta (apply comp fns) {:arity a})))\n"
     ]
    },
    {
     "data": {
      "text/plain": [
       "nil"
      ]
     },
     "execution_count": 7,
     "metadata": {},
     "output_type": "execute_result"
    }
   ],
   "source": [
    "(clojure.repl/source compose)"
   ]
  },
  {
   "cell_type": "code",
   "execution_count": 8,
   "id": "cooked-wheat",
   "metadata": {},
   "outputs": [
    {
     "name": "stdout",
     "output_type": "stream",
     "text": [
      "(defn F->C [F]\n",
      "  (fn [[t _ v :as local]]\n",
      "    (->L-state t\n",
      "               (F local)\n",
      "               (+ (((partial 0) F) local)\n",
      "                  (* (((partial 1) F) local) v)))))\n"
     ]
    },
    {
     "data": {
      "text/plain": [
       "nil"
      ]
     },
     "execution_count": 8,
     "metadata": {},
     "output_type": "execute_result"
    }
   ],
   "source": [
    "(clojure.repl/source F->C)"
   ]
  },
  {
   "cell_type": "code",
   "execution_count": 10,
   "id": "critical-huntington",
   "metadata": {},
   "outputs": [
    {
     "name": "stdout",
     "output_type": "stream",
     "text": [
      "(defn ->L-state\n",
      "  \"Constructs a Lagrangian state, also knows as a local tuple\"\n",
      "  [t q v & as]\n",
      "  (apply up t q v as))\n"
     ]
    },
    {
     "data": {
      "text/plain": [
       "nil"
      ]
     },
     "execution_count": 10,
     "metadata": {},
     "output_type": "execute_result"
    }
   ],
   "source": [
    "(clojure.repl/source ->L-state)"
   ]
  },
  {
   "cell_type": "code",
   "execution_count": 22,
   "id": "supported-motor",
   "metadata": {},
   "outputs": [
    {
     "name": "stdout",
     "output_type": "stream",
     "text": [
      "(defn partial\n",
      "  \"A shim. Dispatches to [[d/partial]] when all the arguments are integers; falls\n",
      "  back to [[clojure.core/partial]] (partial function application) otherwise.\"\n",
      "  [& selectors]\n",
      "  (if (every? integer? selectors)\n",
      "    (apply d/partial selectors)\n",
      "    (apply core-partial selectors)))\n"
     ]
    },
    {
     "data": {
      "text/plain": [
       "nil"
      ]
     },
     "execution_count": 22,
     "metadata": {},
     "output_type": "execute_result"
    }
   ],
   "source": [
    "(clojure.repl/source partial)"
   ]
  },
  {
   "cell_type": "code",
   "execution_count": 13,
   "id": "undefined-stereo",
   "metadata": {},
   "outputs": [
    {
     "data": {
      "text/plain": [
       "#function[sicmutils.structure/up]"
      ]
     },
     "execution_count": 13,
     "metadata": {},
     "output_type": "execute_result"
    }
   ],
   "source": [
    "up"
   ]
  },
  {
   "cell_type": "code",
   "execution_count": 18,
   "id": "medical-shakespeare",
   "metadata": {},
   "outputs": [
    {
     "data": {
      "text/plain": [
       "#'chp1/render"
      ]
     },
     "execution_count": 18,
     "metadata": {},
     "output_type": "execute_result"
    }
   ],
   "source": [
    "(def render (comp ->infix simplify))"
   ]
  },
  {
   "cell_type": "code",
   "execution_count": 19,
   "id": "spanish-native",
   "metadata": {},
   "outputs": [
    {
     "data": {
      "text/plain": [
       "\"1/2 R² m phidot² sin²(theta) + 1/2 R² m thetadot²\""
      ]
     },
     "execution_count": 19,
     "metadata": {},
     "output_type": "execute_result"
    }
   ],
   "source": [
    "(render ((Lsphere 'm 'R) (up 't (up 'theta 'phi) (up 'thetadot 'phidot))))"
   ]
  },
  {
   "cell_type": "markdown",
   "id": "present-piece",
   "metadata": {},
   "source": [
    "## The Metric"
   ]
  },
  {
   "cell_type": "code",
   "execution_count": 25,
   "id": "precious-gamma",
   "metadata": {},
   "outputs": [
    {
     "name": "stderr",
     "output_type": "stream",
     "text": [
      "Syntax error compiling at (REPL:0:0).\n",
      "Unable to resolve symbol: literal-metric in this context\n"
     ]
    },
    {
     "ename": "class clojure.lang.Compiler$CompilerException",
     "evalue": "",
     "output_type": "error",
     "traceback": [
      "  Util.java:   221 clojure.lang.Util/runtimeException",
      "   core.clj:  3214 clojure.core$eval/invokeStatic",
      "   core.clj:  3210 clojure.core$eval/invoke",
      "   main.clj:   437 clojure.main$repl$read_eval_print__9086$fn__9089/invoke",
      "   main.clj:   458 clojure.main$repl$fn__9095/invoke",
      "   main.clj:   368 clojure.main$repl/doInvoke",
      "RestFn.java:  1523 clojure.lang.RestFn/invoke",
      "   AFn.java:    22 clojure.lang.AFn/run",
      "   AFn.java:    22 clojure.lang.AFn/run",
      "Thread.java:   745 java.lang.Thread/run"
     ]
    }
   ],
   "source": [
    "literal-metric"
   ]
  },
  {
   "cell_type": "markdown",
   "id": "ordered-conviction",
   "metadata": {},
   "source": [
    "## Euler-Lagrange Residuals"
   ]
  },
  {
   "cell_type": "code",
   "execution_count": 26,
   "id": "acceptable-retailer",
   "metadata": {},
   "outputs": [
    {
     "data": {
      "text/plain": [
       "#'chp1/gamma"
      ]
     },
     "execution_count": 26,
     "metadata": {},
     "output_type": "execute_result"
    }
   ],
   "source": [
    "(def gamma (literal-manifold-map 'q R1-rect R2-rect))"
   ]
  },
  {
   "cell_type": "code",
   "execution_count": 27,
   "id": "traditional-colors",
   "metadata": {},
   "outputs": [
    {
     "data": {
      "text/plain": [
       "{:type :sicmutils.calculus.manifold/manifold-point, :spec t, :manifold {:manifold-family {:over Real, :name-format \"R(%d)\", :patch {:origin {:name :origin, :coordinate-system {:rectangular #function[sicmutils.calculus.manifold/->Rectangular], :polar-cylindrical #function[sicmutils.calculus.manifold/->PolarCylindrical]}}}}, :name \"R(1)\", :dimension 1, :embedding-dimension 1}, :coordinate-representation #atom[{#object[sicmutils.calculus.manifold$$reify__20397 0x147978b0 \"sicmutils.calculus.manifold$$reify__20397@147978b0\"] t} 0x46b29f0c]}"
      ]
     },
     "execution_count": 27,
     "metadata": {},
     "output_type": "execute_result"
    }
   ],
   "source": [
    "((point R1-rect) 't)"
   ]
  },
  {
   "cell_type": "code",
   "execution_count": 30,
   "id": "handled-picture",
   "metadata": {},
   "outputs": [
    {
     "data": {
      "text/plain": [
       "(up (q↑0 t) (q↑1 t))"
      ]
     },
     "execution_count": 30,
     "metadata": {},
     "output_type": "execute_result"
    }
   ],
   "source": [
    "((chart R2-rect) (gamma ((point R1-rect) 't)))"
   ]
  },
  {
   "cell_type": "code",
   "execution_count": 31,
   "id": "collective-category",
   "metadata": {},
   "outputs": [
    {
     "data": {
      "text/plain": [
       "#'chp1/coordinate-path"
      ]
     },
     "execution_count": 31,
     "metadata": {},
     "output_type": "execute_result"
    }
   ],
   "source": [
    "(def coordinate-path\n",
    "    (compose (chart R2-rect) gamma (point R1-rect)))"
   ]
  },
  {
   "cell_type": "code",
   "execution_count": 32,
   "id": "resistant-flexibility",
   "metadata": {},
   "outputs": [
    {
     "data": {
      "text/plain": [
       "(up (q↑0 t) (q↑1 t))"
      ]
     },
     "execution_count": 32,
     "metadata": {},
     "output_type": "execute_result"
    }
   ],
   "source": [
    "(coordinate-path 't)"
   ]
  },
  {
   "cell_type": "code",
   "execution_count": null,
   "id": "detailed-ceremony",
   "metadata": {},
   "outputs": [],
   "source": []
  }
 ],
 "metadata": {
  "kernelspec": {
   "display_name": "Clojure (clojupyter=0.3.2=1)",
   "language": "clojure",
   "name": "conda-clojupyter"
  },
  "language_info": {
   "file_extension": ".clj",
   "mimetype": "text/x-clojure",
   "name": "clojure",
   "version": "1.10.1"
  }
 },
 "nbformat": 4,
 "nbformat_minor": 5
}
