{
 "cells": [
  {
   "cell_type": "code",
   "execution_count": 22,
   "id": "quantitative-pension",
   "metadata": {},
   "outputs": [
    {
     "data": {
      "text/plain": [
       "#'chp2/render"
      ]
     },
     "execution_count": 22,
     "metadata": {},
     "output_type": "execute_result"
    }
   ],
   "source": [
    "(require '[clojupyter.misc.helper :as helper])\n",
    "(run! helper/add-dependencies '[[sicmutils \"0.16.0\"]])\n",
    "\n",
    "(ns chp2\n",
    "    (:refer-clojure :exclude [partial zero? + - * / ref compare])\n",
    "    (:require [sicmutils.env :refer :all]\n",
    "              [sicmutils.value :as v]\n",
    "              [sicmutils.calculus.manifold :refer [Rn, R2, make-patch]]))\n",
    "(def render (comp ->infix simplify))"
   ]
  },
  {
   "cell_type": "code",
   "execution_count": 23,
   "id": "nuclear-broadcast",
   "metadata": {
    "scrolled": true
   },
   "outputs": [
    {
     "name": "stdout",
     "output_type": "stream",
     "text": [
      "(def R2 (make-manifold Rn 2))\n"
     ]
    },
    {
     "data": {
      "text/plain": [
       "nil"
      ]
     },
     "execution_count": 23,
     "metadata": {},
     "output_type": "execute_result"
    }
   ],
   "source": [
    "(clojure.repl/source R2)"
   ]
  },
  {
   "cell_type": "markdown",
   "id": "automotive-republican",
   "metadata": {},
   "source": [
    "## 3.1 Coordinate Functions"
   ]
  },
  {
   "cell_type": "code",
   "execution_count": 5,
   "id": "consolidated-miami",
   "metadata": {},
   "outputs": [
    {
     "name": "stdout",
     "output_type": "stream",
     "text": [
      "(def R2-rect (coordinate-system-at :rectangular :origin R2))\n"
     ]
    },
    {
     "data": {
      "text/plain": [
       "nil"
      ]
     },
     "execution_count": 5,
     "metadata": {},
     "output_type": "execute_result"
    }
   ],
   "source": [
    "(clojure.repl/source R2-rect)"
   ]
  },
  {
   "cell_type": "code",
   "execution_count": 6,
   "id": "vocal-sterling",
   "metadata": {},
   "outputs": [
    {
     "name": "stdout",
     "output_type": "stream",
     "text": [
      "(def R2-polar (coordinate-system-at :polar-cylindrical :origin R2))\n"
     ]
    },
    {
     "data": {
      "text/plain": [
       "nil"
      ]
     },
     "execution_count": 6,
     "metadata": {},
     "output_type": "execute_result"
    }
   ],
   "source": [
    "(clojure.repl/source R2-polar)"
   ]
  },
  {
   "cell_type": "code",
   "execution_count": 8,
   "id": "increasing-flooring",
   "metadata": {},
   "outputs": [
    {
     "data": {
      "text/plain": [
       "#'chp2/R2-polar-chi-inverse"
      ]
     },
     "execution_count": 8,
     "metadata": {},
     "output_type": "execute_result"
    }
   ],
   "source": [
    "(def R2-rect-chi (chart R2-rect))\n",
    "(def R2-rect-chi-inverse (point R2-rect))\n",
    "(def R2-polar-chi (chart R2-polar))\n",
    "(def R2-polar-chi-inverse (point R2-polar))"
   ]
  },
  {
   "cell_type": "code",
   "execution_count": 10,
   "id": "parallel-vector",
   "metadata": {},
   "outputs": [
    {
     "data": {
      "text/plain": [
       "\"up(sqrt(x0² + y0²), atan(y0, x0))\""
      ]
     },
     "execution_count": 10,
     "metadata": {},
     "output_type": "execute_result"
    }
   ],
   "source": [
    "(render ((compose R2-polar-chi R2-rect-chi-inverse) (up 'x0 'y0)))"
   ]
  },
  {
   "cell_type": "code",
   "execution_count": 11,
   "id": "stock-cleaning",
   "metadata": {},
   "outputs": [
    {
     "data": {
      "text/plain": [
       "\"up(r0 cos(theta0), r0 sin(theta0))\""
      ]
     },
     "execution_count": 11,
     "metadata": {},
     "output_type": "execute_result"
    }
   ],
   "source": [
    "(render ((compose R2-rect-chi R2-polar-chi-inverse) (up 'r0 'theta0)))"
   ]
  },
  {
   "cell_type": "code",
   "execution_count": 14,
   "id": "official-drill",
   "metadata": {},
   "outputs": [
    {
     "data": {
      "text/plain": [
       "(down (up (cos theta0) (sin theta0)) (up (* r0 (- (sin theta0))) (* r0 (cos theta0))))"
      ]
     },
     "execution_count": 14,
     "metadata": {},
     "output_type": "execute_result"
    }
   ],
   "source": [
    " ((D (compose R2-rect-chi R2-polar-chi-inverse)) (up 'r0 'theta0))"
   ]
  },
  {
   "cell_type": "code",
   "execution_count": 15,
   "id": "infectious-investigation",
   "metadata": {},
   "outputs": [
    {
     "data": {
      "text/plain": [
       "\"down(up(cos(theta0), sin(theta0)), up(- r0 sin(theta0), r0 cos(theta0)))\""
      ]
     },
     "execution_count": 15,
     "metadata": {},
     "output_type": "execute_result"
    }
   ],
   "source": [
    "(render ((D (compose R2-rect-chi R2-polar-chi-inverse)) (up 'r0 'theta0)))"
   ]
  },
  {
   "cell_type": "markdown",
   "id": "lasting-genealogy",
   "metadata": {},
   "source": [
    "## 2.2 Manifold Functions\n",
    "### Manifold Functions Are Coordinate Independent"
   ]
  },
  {
   "cell_type": "code",
   "execution_count": 19,
   "id": "foreign-portrait",
   "metadata": {},
   "outputs": [
    {
     "data": {
      "text/plain": [
       "#'chp2/R2->R"
      ]
     },
     "execution_count": 19,
     "metadata": {},
     "output_type": "execute_result"
    }
   ],
   "source": [
    ";; a signiture for functions that map an up structure of two reals to a real.\n",
    "(def R2->R '(-> (UP Real Real) Real))"
   ]
  },
  {
   "cell_type": "code",
   "execution_count": 21,
   "id": "intensive-stewart",
   "metadata": {},
   "outputs": [
    {
     "data": {
      "text/plain": [
       "#'chp2/f"
      ]
     },
     "execution_count": 21,
     "metadata": {},
     "output_type": "execute_result"
    }
   ],
   "source": [
    ";; define the manifold function\n",
    "(def f \n",
    "    (compose (literal-function 'f-rect R2->R) R2-rect-chi))"
   ]
  },
  {
   "cell_type": "code",
   "execution_count": 22,
   "id": "secondary-middle",
   "metadata": {},
   "outputs": [
    {
     "data": {
      "text/plain": [
       "#'chp2/R2-rect-point"
      ]
     },
     "execution_count": 22,
     "metadata": {},
     "output_type": "execute_result"
    }
   ],
   "source": [
    ";; define a manifold point using its rectangular coordinates\n",
    "(def R2-rect-point (R2-rect-chi-inverse (up 'x0 'y0)))"
   ]
  },
  {
   "cell_type": "code",
   "execution_count": 23,
   "id": "prime-attitude",
   "metadata": {},
   "outputs": [
    {
     "data": {
      "text/plain": [
       "#'chp2/cooresponding-polar-point"
      ]
     },
     "execution_count": 23,
     "metadata": {},
     "output_type": "execute_result"
    }
   ],
   "source": [
    ";; describe the same point using its polar coordinates\n",
    "(def cooresponding-polar-point\n",
    "    (R2-polar-chi-inverse\n",
    "     (up (sqrt (+ (square 'x0) (square 'y0)))\n",
    "         (atan 'y0 'x0))))"
   ]
  },
  {
   "cell_type": "code",
   "execution_count": 24,
   "id": "meaningful-registrar",
   "metadata": {},
   "outputs": [
    {
     "data": {
      "text/plain": [
       "(f-rect (up x0 y0))"
      ]
     },
     "execution_count": 24,
     "metadata": {},
     "output_type": "execute_result"
    }
   ],
   "source": [
    "(f R2-rect-point)"
   ]
  },
  {
   "cell_type": "code",
   "execution_count": 25,
   "id": "classical-custody",
   "metadata": {},
   "outputs": [
    {
     "data": {
      "text/plain": [
       "(f-rect (up x0 y0))"
      ]
     },
     "execution_count": 25,
     "metadata": {},
     "output_type": "execute_result"
    }
   ],
   "source": [
    "(f cooresponding-polar-point)"
   ]
  },
  {
   "cell_type": "markdown",
   "id": "facial-commons",
   "metadata": {},
   "source": [
    "### Naming Coordinate Functions\n",
    "\n",
    "These coordinate functions allow us to extrace coordinates from a point, independent of the coordinate system used to specify the point. "
   ]
  },
  {
   "cell_type": "code",
   "execution_count": 37,
   "id": "plain-petersburg",
   "metadata": {},
   "outputs": [
    {
     "data": {
      "text/plain": [
       "x0"
      ]
     },
     "execution_count": 37,
     "metadata": {},
     "output_type": "execute_result"
    }
   ],
   "source": [
    "(let-coordinates\n",
    " [[x y] R2-rect]\n",
    " (x (R2-rect-chi-inverse (up 'x0 'y0))))"
   ]
  },
  {
   "cell_type": "code",
   "execution_count": 38,
   "id": "atmospheric-flooring",
   "metadata": {},
   "outputs": [
    {
     "data": {
      "text/plain": [
       "y0"
      ]
     },
     "execution_count": 38,
     "metadata": {},
     "output_type": "execute_result"
    }
   ],
   "source": [
    "(let-coordinates\n",
    " [[x y] R2-rect]\n",
    " (y (R2-rect-chi-inverse (up 'x0 'y0))))"
   ]
  },
  {
   "cell_type": "code",
   "execution_count": 40,
   "id": "placed-suicide",
   "metadata": {},
   "outputs": [
    {
     "data": {
      "text/plain": [
       "(sqrt (+ (expt x0 2) (expt y0 2)))"
      ]
     },
     "execution_count": 40,
     "metadata": {},
     "output_type": "execute_result"
    }
   ],
   "source": [
    "(let-coordinates\n",
    " [[r theta] R2-polar]\n",
    " (r (R2-rect-chi-inverse (up 'x0 'y0))))"
   ]
  },
  {
   "cell_type": "code",
   "execution_count": 41,
   "id": "stock-avatar",
   "metadata": {},
   "outputs": [
    {
     "data": {
      "text/plain": [
       "(atan y0 x0)"
      ]
     },
     "execution_count": 41,
     "metadata": {},
     "output_type": "execute_result"
    }
   ],
   "source": [
    "(let-coordinates\n",
    " [[r theta] R2-polar]\n",
    " (theta (R2-rect-chi-inverse (up 'x0 'y0))))"
   ]
  },
  {
   "cell_type": "markdown",
   "id": "expected-chamber",
   "metadata": {},
   "source": [
    "With an abuse of notation, we define new manifold functions in terms of the coordinate functions. and expression like `cos(r)` can either mean the cosine of the angle `r` if `r` is a number or the composition `(compose cos r)` if `r` is a function"
   ]
  },
  {
   "cell_type": "code",
   "execution_count": 43,
   "id": "sacred-nickel",
   "metadata": {},
   "outputs": [
    {
     "data": {
      "text/plain": [
       "(+ (* x0 (+ (expt x0 2) (expt y0 2))) (expt y0 3))"
      ]
     },
     "execution_count": 43,
     "metadata": {},
     "output_type": "execute_result"
    }
   ],
   "source": [
    "(let-coordinates\n",
    " [[x y] R2-rect\n",
    "  [r theta] R2-polar]\n",
    " (def h (+ (* x (square r)) (cube y)))\n",
    " (h R2-rect-point))"
   ]
  },
  {
   "cell_type": "code",
   "execution_count": 44,
   "id": "devoted-serum",
   "metadata": {},
   "outputs": [
    {
     "data": {
      "text/plain": [
       "(+ (* r0 (cos theta0) (expt r0 2)) (expt (* r0 (sin theta0)) 3))"
      ]
     },
     "execution_count": 44,
     "metadata": {},
     "output_type": "execute_result"
    }
   ],
   "source": [
    "(let-coordinates\n",
    " [[x y] R2-rect\n",
    "  [r theta] R2-polar]\n",
    " (def h (+ (* x (square r)) (cube y)))\n",
    " (h (R2-polar-chi-inverse (up 'r0 'theta0))))"
   ]
  },
  {
   "cell_type": "code",
   "execution_count": 46,
   "id": "needed-classification",
   "metadata": {},
   "outputs": [
    {
     "name": "stdout",
     "output_type": "stream",
     "text": [
      "(defmacro let-coordinates [& args]\n",
      "  `(cc/let-coordinates ~@args))\n"
     ]
    },
    {
     "data": {
      "text/plain": [
       "nil"
      ]
     },
     "execution_count": 46,
     "metadata": {},
     "output_type": "execute_result"
    }
   ],
   "source": [
    "(clojure.repl/source let-coordinates)"
   ]
  },
  {
   "cell_type": "markdown",
   "id": "differential-cambodia",
   "metadata": {},
   "source": [
    "### Ex 2.1 Curves"
   ]
  },
  {
   "cell_type": "code",
   "execution_count": 47,
   "id": "separated-browser",
   "metadata": {},
   "outputs": [
    {
     "data": {
      "text/plain": [
       "(- (sqrt (+ (expt x 2) (expt y 2))) (* 2 a (+ 1 (cos (atan y x)))))"
      ]
     },
     "execution_count": 47,
     "metadata": {},
     "output_type": "execute_result"
    }
   ],
   "source": [
    "(let-coordinates\n",
    " [[r theta] R2-polar]\n",
    " ((- r (* 2 'a (+ 1 (cos theta))))\n",
    "  ((point R2-rect) (up 'x 'y))))"
   ]
  },
  {
   "cell_type": "code",
   "execution_count": 48,
   "id": "smooth-wisconsin",
   "metadata": {},
   "outputs": [
    {
     "data": {
      "text/plain": [
       "\"(-2 a x -2 a sqrt(x² + y²) + x² + y²) / sqrt(x² + y²)\""
      ]
     },
     "execution_count": 48,
     "metadata": {},
     "output_type": "execute_result"
    }
   ],
   "source": [
    "(let-coordinates\n",
    " [[r theta] R2-polar]\n",
    " (render ((- r (* 2 'a (+ 1 (cos theta))))\n",
    "  ((point R2-rect) (up 'x 'y)))))"
   ]
  },
  {
   "cell_type": "markdown",
   "id": "abstract-southwest",
   "metadata": {},
   "source": [
    "__a.__ The rectangular coordinate equation for the Lemniscate of Bernoulli is \n",
    "$$ (x^2 + y^2)^2 = 2 a^2 (x^2 - y^2) $$\n",
    "FInd the expression in polar coordinates"
   ]
  },
  {
   "cell_type": "code",
   "execution_count": 54,
   "id": "enclosed-inclusion",
   "metadata": {},
   "outputs": [
    {
     "data": {
      "text/plain": [
       "(- (* (+ (* r (cos theta) r (cos theta)) (* r (sin theta) r (sin theta))) (+ (* r (cos theta) r (cos theta)) (* r (sin theta) r (sin theta)))) (* 2 a a (- (* r (cos theta) r (cos theta)) (* r (sin theta) r (sin theta)))))"
      ]
     },
     "execution_count": 54,
     "metadata": {},
     "output_type": "execute_result"
    }
   ],
   "source": [
    "(let-coordinates\n",
    " [[x y] R2-rect]\n",
    " ((- (* (+ (* x x) (* y y)) (+ (* x x) (* y y)))\n",
    "     (* 2 (* 'a 'a) (- (* x x) (* y y))))\n",
    "  ((point R2-polar) (up 'r 'theta))))"
   ]
  },
  {
   "cell_type": "code",
   "execution_count": 55,
   "id": "beautiful-omega",
   "metadata": {},
   "outputs": [
    {
     "data": {
      "text/plain": [
       "\"-4 a² r² cos²(theta) + 2 a² r² + r⁴\""
      ]
     },
     "execution_count": 55,
     "metadata": {},
     "output_type": "execute_result"
    }
   ],
   "source": [
    "(let-coordinates\n",
    " [[x y] R2-rect]\n",
    " (render ((- (* (+ (* x x) (* y y)) (+ (* x x) (* y y)))\n",
    "     (* 2 (* 'a 'a) (- (* x x) (* y y))))\n",
    "  ((point R2-polar) (up 'r 'theta)))))"
   ]
  },
  {
   "cell_type": "markdown",
   "id": "systematic-jewel",
   "metadata": {},
   "source": [
    "This result can be further simplified\n",
    "$$-4 a^2 r^2 \\cos^2 (\\theta) + 2 a^2 r^2 + r^4 = r^2 - 2 a^2 \\cos (2\\theta) = 0$$"
   ]
  },
  {
   "cell_type": "code",
   "execution_count": 59,
   "id": "interpreted-modeling",
   "metadata": {},
   "outputs": [
    {
     "data": {
      "text/plain": [
       "#object[sicmutils.calculus.manifold$$reify__20397 0xb133bbe \"sicmutils.calculus.manifold$$reify__20397@b133bbe\"]"
      ]
     },
     "execution_count": 59,
     "metadata": {},
     "output_type": "execute_result"
    }
   ],
   "source": [
    "R3-rect"
   ]
  },
  {
   "cell_type": "markdown",
   "id": "compact-ireland",
   "metadata": {},
   "source": [
    "__b.__ Describe a helix space curve in both rectangular and cylindrical coordinates.\n",
    "\n",
    "A helix space curve in rectangular coordinates is\n",
    "$$\n",
    "\\begin{align}\n",
    "x(t) &= \\cos(t) \\\\\n",
    "y(t) &= \\sin(t) \\\\\n",
    "z(t) &= t\n",
    "\\end{align}\n",
    "$$\n",
    "\n",
    "A helix space curve in cylindrical coordinates is \n",
    "$$\n",
    "\\begin{align}\n",
    "r(t) &= 1 \\\\\n",
    "\\theta(t) &= t \\\\\n",
    "z(t) &= t\n",
    "\\end{align}\n",
    "$$\n",
    "\n",
    "To derive the rectangular coordinates from the cylindrical coordinates, we can express the cylindrical coordinates in two equations\n",
    "$$\n",
    "\\begin{align}\n",
    "r - 1 &= 0 \\\\\n",
    "\\theta - z &= 0 \\\\\n",
    "\\end{align}\n",
    "$$\n",
    "Expressing these two residuals in rectangular coordinates gives\n"
   ]
  },
  {
   "cell_type": "code",
   "execution_count": 10,
   "id": "dangerous-cycling",
   "metadata": {},
   "outputs": [
    {
     "data": {
      "text/plain": [
       "(- (atan y x) z)"
      ]
     },
     "execution_count": 10,
     "metadata": {},
     "output_type": "execute_result"
    }
   ],
   "source": [
    "(let-coordinates\n",
    " [[r theta z] R3-cyl]\n",
    " ((- theta z)\n",
    "  ((point R3-rect) (up 'x 'y 'z))))"
   ]
  },
  {
   "cell_type": "code",
   "execution_count": 64,
   "id": "progressive-warren",
   "metadata": {},
   "outputs": [
    {
     "data": {
      "text/plain": [
       "(- (sqrt (+ (expt x 2) (expt y 2))) 1)"
      ]
     },
     "execution_count": 64,
     "metadata": {},
     "output_type": "execute_result"
    }
   ],
   "source": [
    "(let-coordinates\n",
    " [[r theta z] R3-cyl]\n",
    " ((- r 1)\n",
    "  ((point R3-rect) (up 'x 'y 'z))))"
   ]
  },
  {
   "cell_type": "markdown",
   "id": "challenging-request",
   "metadata": {},
   "source": [
    "which are \n",
    "$$\n",
    "\\begin{align}\n",
    "\\tan (z)  &= y/x \\\\\n",
    "\\sqrt{x^2 + y^2} &= 1 \\\\\n",
    "\\end{align}\n",
    "$$.\n",
    "We can recover the rectangular form from these two equations.\n",
    "\n",
    "To derive the cylindrical coordinates form from the rectangular coordinate form, we use the equations\n",
    "$$\n",
    "\\begin{align}\n",
    "x - \\cos z &= 0 \\\\\n",
    "y - \\sin z &= 0 \\\\\n",
    "\\end{align}\n",
    "$$\n",
    "Expression these two residuals in cylindrical equation gives"
   ]
  },
  {
   "cell_type": "code",
   "execution_count": 65,
   "id": "complex-individual",
   "metadata": {},
   "outputs": [
    {
     "data": {
      "text/plain": [
       "(- (* r (cos theta)) (cos z))"
      ]
     },
     "execution_count": 65,
     "metadata": {},
     "output_type": "execute_result"
    }
   ],
   "source": [
    "(let-coordinates\n",
    " [[x y z] R3-rect]\n",
    " ((- x (cos z))\n",
    "  ((point R3-cyl) (up 'r 'theta 'z))))"
   ]
  },
  {
   "cell_type": "code",
   "execution_count": 66,
   "id": "flexible-convert",
   "metadata": {},
   "outputs": [
    {
     "data": {
      "text/plain": [
       "(- (* r (sin theta)) (sin z))"
      ]
     },
     "execution_count": 66,
     "metadata": {},
     "output_type": "execute_result"
    }
   ],
   "source": [
    "(let-coordinates\n",
    " [[x y z] R3-rect]\n",
    " ((- y (sin z))\n",
    "  ((point R3-cyl) (up 'r 'theta 'z))))"
   ]
  },
  {
   "cell_type": "markdown",
   "id": "piano-prescription",
   "metadata": {},
   "source": [
    "$$\n",
    "\\begin{align}\n",
    "r \\cos (\\theta)  &= \\cos(z) \\\\\n",
    "r \\sin (\\theta) &= \\sin (z) \\\\\n",
    "\\end{align}\n",
    "$$."
   ]
  },
  {
   "cell_type": "markdown",
   "id": "mighty-description",
   "metadata": {},
   "source": [
    "### Ex 2.2 Stereographic Projection"
   ]
  },
  {
   "cell_type": "code",
   "execution_count": 11,
   "id": "exotic-trash",
   "metadata": {
    "scrolled": true
   },
   "outputs": [
    {
     "data": {
      "text/plain": [
       "#object[sicmutils.calculus.manifold$__GT_Stereographic$ctor$reify__20810 0x34e42893 \"sicmutils.calculus.manifold$__GT_Stereographic$ctor$reify__20810@34e42893\"]"
      ]
     },
     "execution_count": 11,
     "metadata": {},
     "output_type": "execute_result"
    }
   ],
   "source": [
    "S2-Riemann"
   ]
  },
  {
   "cell_type": "code",
   "execution_count": 12,
   "id": "flush-gardening",
   "metadata": {
    "scrolled": false
   },
   "outputs": [
    {
     "data": {
      "text/plain": [
       "#object[sicmutils.calculus.manifold$__GT_S2_coordinates$ctor$reify__20770 0xe9c7019 \"sicmutils.calculus.manifold$__GT_S2_coordinates$ctor$reify__20770@e9c7019\"]"
      ]
     },
     "execution_count": 12,
     "metadata": {},
     "output_type": "execute_result"
    }
   ],
   "source": [
    "S2-spherical"
   ]
  },
  {
   "cell_type": "markdown",
   "id": "continent-wireless",
   "metadata": {},
   "source": [
    "The following procedure gives the colatitude and longitude of a point on the sphere corresponding to a point on the plane. "
   ]
  },
  {
   "cell_type": "code",
   "execution_count": 13,
   "id": "acute-scout",
   "metadata": {},
   "outputs": [
    {
     "data": {
      "text/plain": [
       "(up (acos (/ (+ (expt rho 2) -1) (+ (expt rho 2) 1))) theta)"
      ]
     },
     "execution_count": 13,
     "metadata": {},
     "output_type": "execute_result"
    }
   ],
   "source": [
    "((compose\n",
    "  (chart S2-spherical)\n",
    "  (point S2-Riemann)\n",
    "  (chart R2-rect)\n",
    "  (point R2-polar))\n",
    " (up 'rho 'theta))"
   ]
  },
  {
   "cell_type": "code",
   "execution_count": 16,
   "id": "material-examination",
   "metadata": {},
   "outputs": [
    {
     "data": {
      "text/plain": [
       "\"up(acos((rho² + -1) / (rho² + 1)), theta)\""
      ]
     },
     "execution_count": 16,
     "metadata": {},
     "output_type": "execute_result"
    }
   ],
   "source": [
    "(render *1)"
   ]
  },
  {
   "cell_type": "markdown",
   "id": "handed-nowhere",
   "metadata": {},
   "source": [
    "__Perform an analogous computation to get the polar coordinates of the point on the plane corresponding to a point on the sphere given by its colatitude and longitude__"
   ]
  },
  {
   "cell_type": "code",
   "execution_count": 17,
   "id": "coordinate-sterling",
   "metadata": {},
   "outputs": [
    {
     "data": {
      "text/plain": [
       "(up (sqrt (/ (+ (* -1 (cos colat)) -1N) (+ (cos colat) -1N))) long)"
      ]
     },
     "execution_count": 17,
     "metadata": {},
     "output_type": "execute_result"
    }
   ],
   "source": [
    "((compose\n",
    "  (chart R2-polar)\n",
    "  (point R2-rect)\n",
    "  (chart S2-Riemann)\n",
    "  (point S2-spherical))\n",
    " (up 'colat 'long))"
   ]
  },
  {
   "cell_type": "code",
   "execution_count": 18,
   "id": "hourly-hebrew",
   "metadata": {},
   "outputs": [
    {
     "data": {
      "text/plain": [
       "\"up(sqrt((- cos(colat) + -1) / (cos(colat) + -1)), long)\""
      ]
     },
     "execution_count": 18,
     "metadata": {},
     "output_type": "execute_result"
    }
   ],
   "source": [
    "(render *1)"
   ]
  },
  {
   "cell_type": "code",
   "execution_count": null,
   "id": "given-scientist",
   "metadata": {},
   "outputs": [],
   "source": []
  }
 ],
 "metadata": {
  "kernelspec": {
   "display_name": "Clojure (clojupyter=0.3.2=1)",
   "language": "clojure",
   "name": "conda-clojupyter"
  },
  "language_info": {
   "file_extension": ".clj",
   "mimetype": "text/x-clojure",
   "name": "clojure",
   "version": "1.10.1"
  }
 },
 "nbformat": 4,
 "nbformat_minor": 5
}
