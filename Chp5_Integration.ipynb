{
 "cells": [
  {
   "cell_type": "markdown",
   "id": "american-worse",
   "metadata": {},
   "source": [
    "- extend integration to manifolds in such a way that the integral is independent of the coordinate system used to compute it. "
   ]
  },
  {
   "cell_type": "code",
   "execution_count": 1,
   "id": "becoming-soldier",
   "metadata": {},
   "outputs": [
    {
     "name": "stderr",
     "output_type": "stream",
     "text": [
      "WARNING: = already refers to: #'clojure.core/= in namespace: chp5, being replaced by: #'sicmutils.env/=\n",
      "Execution error (IllegalStateException) at chp5/eval4102$loading (REPL:4).\n",
      "Rn already refers to: #'sicmutils.env/Rn in namespace: chp5\n"
     ]
    },
    {
     "ename": "class java.lang.IllegalStateException",
     "evalue": "",
     "output_type": "error",
     "traceback": [
      "Namespace.java:    88 clojure.lang.Namespace/warnOrFailOnReplace",
      "Namespace.java:   110 clojure.lang.Namespace/reference",
      "Namespace.java:   168 clojure.lang.Namespace/refer",
      "      core.clj:  4252 clojure.core$refer/invokeStatic",
      "      core.clj:  4217 clojure.core$refer/doInvoke",
      "   RestFn.java:   139 clojure.lang.RestFn/applyTo",
      "      core.clj:   667 clojure.core$apply/invokeStatic",
      "      core.clj:  5966 clojure.core$load_lib/invokeStatic",
      "      core.clj:  5928 clojure.core$load_lib/doInvoke",
      "   RestFn.java:   142 clojure.lang.RestFn/applyTo",
      "      core.clj:   667 clojure.core$apply/invokeStatic",
      "      core.clj:  5985 clojure.core$load_libs/invokeStatic",
      "      core.clj:  5969 clojure.core$load_libs/doInvoke",
      "   RestFn.java:   137 clojure.lang.RestFn/applyTo",
      "      core.clj:   667 clojure.core$apply/invokeStatic",
      "      core.clj:  6007 clojure.core$require/invokeStatic",
      "   RestFn.java:   457 clojure.lang.RestFn/invoke",
      "      core.clj:  3214 clojure.core$eval/invokeStatic",
      "      core.clj:  3210 clojure.core$eval/invoke",
      "      main.clj:   437 clojure.main$repl$read_eval_print__9086$fn__9089/invoke",
      "      main.clj:   458 clojure.main$repl$fn__9095/invoke",
      "      main.clj:   368 clojure.main$repl/doInvoke",
      "   RestFn.java:  1523 clojure.lang.RestFn/invoke",
      "      AFn.java:    22 clojure.lang.AFn/run",
      "      AFn.java:    22 clojure.lang.AFn/run",
      "   Thread.java:   745 java.lang.Thread/run"
     ]
    }
   ],
   "source": [
    "(require '[clojupyter.misc.helper :as helper])\n",
    "(run! helper/add-dependencies '[[sicmutils \"0.18.0\"]])\n",
    "\n",
    "(ns chp5\n",
    "    (:refer-clojure :exclude [partial zero? + - * / ref compare])\n",
    "    (:require [sicmutils.env :refer :all]\n",
    "              [sicmutils.value :as v]\n",
    "              [sicmutils.calculus.manifold :refer [Rn, R2, make-patch, make-manifold\n",
    "                                                   coordinate-system-at]]\n",
    "              [sicmutils.mechanics.rotation :refer [Euler->M, rotate-x-matrix\n",
    "                                                    rotate-y-matrix, rotate-z-matrix]]))\n",
    "(def render (comp ->infix simplify))"
   ]
  },
  {
   "cell_type": "code",
   "execution_count": 5,
   "id": "median-newsletter",
   "metadata": {},
   "outputs": [
    {
     "data": {
      "text/plain": [
       "#'chp5/R3-rect-point"
      ]
     },
     "execution_count": 5,
     "metadata": {},
     "output_type": "execute_result"
    }
   ],
   "source": [
    "(def R3-rect-point (typical-point R3-rect))\n",
    ";; (def R3-rect-point ((point R3-rect) (up 'x0 'y0 'z0)))"
   ]
  },
  {
   "cell_type": "code",
   "execution_count": 6,
   "id": "motivated-least",
   "metadata": {},
   "outputs": [
    {
     "data": {
      "text/plain": [
       "(+ (* u↑0 v↑1) (* -1 v↑0 u↑1))"
      ]
     },
     "execution_count": 6,
     "metadata": {},
     "output_type": "execute_result"
    }
   ],
   "source": [
    "(let-coordinates\n",
    " [[x y z] R3-rect]\n",
    " (def u (+ (* 'u↑0 d:dx) (* 'u↑1 d:dy))) ;; constant vector field\n",
    " (def v (+ (* 'v↑0 d:dx) (* 'v↑1 d:dy)))\n",
    " (((wedge dx dy) u v) R3-rect-point))"
   ]
  },
  {
   "cell_type": "code",
   "execution_count": 7,
   "id": "cordless-brush",
   "metadata": {},
   "outputs": [
    {
     "data": {
      "text/plain": [
       "(+ (* a↑0 b↑1) (* -1 b↑0 a↑1))"
      ]
     },
     "execution_count": 7,
     "metadata": {},
     "output_type": "execute_result"
    }
   ],
   "source": [
    "(let-coordinates\n",
    " [[r theta z] R3-cyl]\n",
    " (def a (+ (* 'a↑0 d:dr) (* 'a↑1 d:dtheta)))\n",
    " (def b (+ (* 'b↑0 d:dr) (* 'b↑1 d:dtheta)))\n",
    " (((wedge dr dtheta) a b) ((point R3-cyl) (up 'r0 'theta0 'z0))))"
   ]
  },
  {
   "cell_type": "markdown",
   "id": "signed-temperature",
   "metadata": {},
   "source": [
    "- the two-form field acting on two vector fields $(dx \\wedge dy) (u, v)(m)$ returns the area of the parallelogram in the $(x, y)$ coordinate plane.\n",
    "- the area is in the coordinate plane. It is not the area on the manifold."
   ]
  },
  {
   "cell_type": "code",
   "execution_count": 7,
   "id": "stupid-motorcycle",
   "metadata": {},
   "outputs": [
    {
     "data": {
      "text/plain": [
       "(+ (* u↑0 v↑2) (* -1 v↑0 u↑2))"
      ]
     },
     "execution_count": 7,
     "metadata": {},
     "output_type": "execute_result"
    }
   ],
   "source": [
    "(let-coordinates\n",
    " [[x y z] R3-rect]\n",
    " (def u (+ (* 'u↑0 d:dx) (* 'u↑1 d:dy) (* 'u↑2 d:dz))) ;; constant vector field\n",
    " (def v (+ (* 'v↑0 d:dx) (* 'v↑1 d:dy) (* 'v↑2 d:dz)))\n",
    " (((wedge dx dz) u v) R3-rect-point))"
   ]
  },
  {
   "cell_type": "code",
   "execution_count": 8,
   "id": "christian-fortune",
   "metadata": {},
   "outputs": [
    {
     "data": {
      "text/plain": [
       "#'chp5/R3-rect-volume"
      ]
     },
     "execution_count": 8,
     "metadata": {},
     "output_type": "execute_result"
    }
   ],
   "source": [
    "(let-coordinates\n",
    " [[x y z] R3-rect]\n",
    " (def u (+ (* 'u↑0 d:dx) (* 'u↑1 d:dy) (* 'u↑2 d:dz))) ;; constant vector field\n",
    " (def v (+ (* 'v↑0 d:dx) (* 'v↑1 d:dy) (* 'v↑2 d:dz)))\n",
    " (def w (+ (* 'w↑0 d:dx) (* 'w↑1 d:dy) (* 'w↑2 d:dz)))\n",
    " (def R3-rect-volume (((wedge dx dy dz) u v w) R3-rect-point)))"
   ]
  },
  {
   "cell_type": "code",
   "execution_count": 9,
   "id": "caring-bradford",
   "metadata": {},
   "outputs": [
    {
     "data": {
      "text/plain": [
       "(* 1/2 (+ (* u↑0 (+ (* v↑1 w↑2) (* -1 w↑1 v↑2))) (* -1 u↑0 (+ (* w↑1 v↑2) (* -1 v↑1 w↑2))) (* w↑0 (+ (* u↑1 v↑2) (* -1 v↑1 u↑2))) (* -1 w↑0 (+ (* v↑1 u↑2) (* -1 u↑1 v↑2))) (* v↑0 (+ (* w↑1 u↑2) (* -1 u↑1 w↑2))) (* -1 v↑0 (+ (* u↑1 w↑2) (* -1 w↑1 u↑2)))))"
      ]
     },
     "execution_count": 9,
     "metadata": {},
     "output_type": "execute_result"
    }
   ],
   "source": [
    "R3-rect-volume"
   ]
  },
  {
   "cell_type": "code",
   "execution_count": 10,
   "id": "democratic-calvin",
   "metadata": {},
   "outputs": [
    {
     "data": {
      "text/plain": [
       "\"0\""
      ]
     },
     "execution_count": 10,
     "metadata": {},
     "output_type": "execute_result"
    }
   ],
   "source": [
    "(render\n",
    "(- R3-rect-volume\n",
    "   (determinant\n",
    "    (matrix-by-rows '[u↑0 u↑1 u↑2]\n",
    "                    '[v↑0 v↑1 v↑2]\n",
    "                    '[w↑0 w↑1 w↑2]))))"
   ]
  },
  {
   "cell_type": "markdown",
   "id": "cooperative-telephone",
   "metadata": {},
   "source": [
    "### Ex 5.1 \n",
    "Pick a coordinate system and use the computer to verify that \n",
    "\n",
    "__a.__ the wedge product is associative for forms in your coordinate system;\n",
    "\n",
    "__b.__ formula (5.17) is true in your coordinate system"
   ]
  },
  {
   "cell_type": "markdown",
   "id": "bronze-strike",
   "metadata": {},
   "source": [
    "__Solution:__\n",
    "__a.__ the following block shows\n",
    "$$ (\\mathsf{dx} \\wedge (\\mathsf{dy} \\wedge \\mathsf{dz}))(\\mathsf{u}, \\mathsf{v}, \\mathsf{w})(\\mathsf{m}) - ((\\mathsf{dx} \\wedge \\mathsf{dy}) \\wedge \\mathsf{dz})(\\mathsf{u}, \\mathsf{v}, \\mathsf{w})(\\mathsf{m}) = 0 $$\n",
    "in R3 coordinate"
   ]
  },
  {
   "cell_type": "code",
   "execution_count": 11,
   "id": "equipped-thursday",
   "metadata": {},
   "outputs": [
    {
     "data": {
      "text/plain": [
       "\"0\""
      ]
     },
     "execution_count": 11,
     "metadata": {},
     "output_type": "execute_result"
    }
   ],
   "source": [
    ";; verify associativeness in R3-rect\n",
    "(let-coordinates\n",
    " [[x y z] R3-rect]\n",
    " (def u (+ (* 'u↑0 d:dx) (* 'u↑1 d:dy) (* 'u↑2 d:dz))) ;; constant vector field\n",
    " (def v (+ (* 'v↑0 d:dx) (* 'v↑1 d:dy) (* 'v↑2 d:dz)))\n",
    " (def w (+ (* 'w↑0 d:dx) (* 'w↑1 d:dy) (* 'w↑2 d:dz)))\n",
    " (render\n",
    "  (- (((wedge dx (wedge dy dz)) u v w) R3-rect-point)\n",
    "     (((wedge (wedge dx dy) dz) u v w) R3-rect-point))))"
   ]
  },
  {
   "cell_type": "markdown",
   "id": "ranging-carroll",
   "metadata": {},
   "source": [
    "__Solution: b.__"
   ]
  },
  {
   "cell_type": "code",
   "execution_count": 13,
   "id": "unique-delta",
   "metadata": {},
   "outputs": [
    {
     "data": {
      "text/plain": [
       "\"1\""
      ]
     },
     "execution_count": 13,
     "metadata": {},
     "output_type": "execute_result"
    }
   ],
   "source": [
    "(let-coordinates\n",
    " [[x y z] R3-rect]\n",
    " (render\n",
    "  (((wedge dx dy dz) d:dx d:dy d:dz) R3-rect-point)))"
   ]
  },
  {
   "cell_type": "markdown",
   "id": "introductory-motor",
   "metadata": {},
   "source": [
    "## 5.2 Exterior Derivative\n",
    "\n",
    "The following block shows that for $\\mathsf{\\theta} = \\mathsf{a dx} + \\mathsf{b dy} + \\mathsf{c dz}$,\n",
    "$$\n",
    "\\mathsf{d \\theta} = \\mathsf{da} \\wedge \\mathsf{dx}\n",
    "                   +\\mathsf{db} \\wedge \\mathsf{dy}\n",
    "                   +\\mathsf{dc} \\wedge \\mathsf{dz}\n",
    "$$"
   ]
  },
  {
   "cell_type": "code",
   "execution_count": 14,
   "id": "iraqi-biography",
   "metadata": {},
   "outputs": [
    {
     "data": {
      "text/plain": [
       "\"0\""
      ]
     },
     "execution_count": 14,
     "metadata": {},
     "output_type": "execute_result"
    }
   ],
   "source": [
    "(def a (literal-manifold-function 'alpha R3-rect))\n",
    "(def b (literal-manifold-function 'beta R3-rect))\n",
    "(def c (literal-manifold-function 'gamma R3-rect))\n",
    "(def X (literal-vector-field 'X-rect R3-rect))\n",
    "(def Y (literal-vector-field 'Y-rect R3-rect))\n",
    "\n",
    "\n",
    "(let-coordinates\n",
    " [[x y z] R3-rect]\n",
    " (def theta (+ (* a dx) (* b dy) (* c dz))) ;; general one-form field\n",
    " (render \n",
    "  (((- (d theta) \n",
    "       (+ (wedge (d a) dx)\n",
    "          (wedge (d b) dy)\n",
    "          (wedge (d c) dz)))\n",
    "    X Y)\n",
    "   R3-rect-point)))"
   ]
  },
  {
   "cell_type": "markdown",
   "id": "powerful-basics",
   "metadata": {},
   "source": [
    "The following block shows that for $\\mathsf{\\omega} = \\mathsf{a} \\mathsf{dy} \\wedge \\mathsf{dz} + \n",
    "                                                      \\mathsf{b} \\mathsf{dz} \\wedge \\mathsf{dx} + \n",
    "                                                      \\mathsf{c} \\mathsf{dx} \\wedge \\mathsf{dy}$,\n",
    "$$\n",
    "\\mathsf{d\\omega} = \\mathsf{da} \\wedge \\mathsf{dy} \\wedge \\mathsf{dz} + \n",
    "                  \\mathsf{db} \\wedge \\mathsf{dz} \\wedge \\mathsf{dx} + \n",
    "                  \\mathsf{dc} \\wedge \\mathsf{dx} \\wedge \\mathsf{dy}\n",
    "$$"
   ]
  },
  {
   "cell_type": "code",
   "execution_count": 15,
   "id": "surgical-integer",
   "metadata": {
    "scrolled": true
   },
   "outputs": [
    {
     "data": {
      "text/plain": [
       "\"0\""
      ]
     },
     "execution_count": 15,
     "metadata": {},
     "output_type": "execute_result"
    }
   ],
   "source": [
    "(def Z (literal-vector-field 'Z-rect R3-rect))\n",
    "\n",
    "(let-coordinates\n",
    " [[x y z] R3-rect]\n",
    " (def omega (+ (* a (wedge dy dz))\n",
    "               (* b (wedge dz dx))\n",
    "               (* c (wedge dx dy)))) ;; a general two form field\n",
    " (render\n",
    "  (((- (d omega)\n",
    "       (+ (wedge (d a) dy dz)\n",
    "          (wedge (d b) dz dx)\n",
    "          (wedge (d c) dx dy)))\n",
    "    X Y X)\n",
    "   R3-rect-point)))"
   ]
  },
  {
   "cell_type": "markdown",
   "id": "exciting-humanitarian",
   "metadata": {},
   "source": [
    "- A form field $\\mathsf{\\omega}$ that is the exterior derivative of aother form field $\\mathsf{d\\theta}$ is called _exact_\n",
    "- A form field whose exterior derivative is zero is call _closed_\n",
    "- Every exact form field is a closed form field $\\mathsf{d^2 \\omega} = 0$, this is equivalent to that partial derivatives with respect to different variables commute"
   ]
  },
  {
   "cell_type": "code",
   "execution_count": 17,
   "id": "juvenile-river",
   "metadata": {},
   "outputs": [
    {
     "data": {
      "text/plain": [
       "\"0\""
      ]
     },
     "execution_count": 17,
     "metadata": {},
     "output_type": "execute_result"
    }
   ],
   "source": [
    "(render (((d (d theta)) X Y Z) R3-rect-point))"
   ]
  },
  {
   "cell_type": "markdown",
   "id": "aggregate-baseball",
   "metadata": {},
   "source": [
    "## Vector Integral Theorems\n",
    "Stoke's Theorem\n",
    "$$\n",
    "\\int_{\\partial \\mathsf{M}} \\mathsf{\\omega} = \\int_{\\mathsf{M}} \\mathsf{d\\omega}\n",
    "$$\n",
    "Green's Theorem, for an arbitrary compact set $M \\subset \\mathbb{R}^2$\n",
    "$$\n",
    "\\int_{\\partial \\mathsf{M}} ((\\alpha \\circ \\chi) \\mathsf{dx} + (\\beta \\circ \\chi) \\mathsf{dy})\n",
    "= \\int_{\\mathsf{M}} ((\\partial_0 \\beta - \\partial_1 \\alpha) \\circ \\chi) \\mathsf{dx} \\wedge \\mathsf{dy}\n",
    "$$"
   ]
  },
  {
   "cell_type": "code",
   "execution_count": 35,
   "id": "cheap-representation",
   "metadata": {},
   "outputs": [
    {
     "data": {
      "text/plain": [
       "\"0\""
      ]
     },
     "execution_count": 35,
     "metadata": {},
     "output_type": "execute_result"
    }
   ],
   "source": [
    "(def R2->R '(-> (UP Real Real) Real))\n",
    "(def R2-rect-point ((point R2-rect) (up 'x0 'y0)))\n",
    "(def v (literal-vector-field 'v-rect R2-rect))\n",
    "(def w (literal-vector-field 'w-rect R2-rect))\n",
    "(def α (literal-function 'alpha R2->R))\n",
    "(def β (literal-function 'beta R2->R))\n",
    "\n",
    "(def R2-rect-basis (coordinate-system->basis R2-rect))\n",
    "(def dx (nth (basis->oneform-basis R2-rect-basis) 0))\n",
    "(def dy (nth (basis->oneform-basis R2-rect-basis) 1))\n",
    "(render\n",
    "(((- (d (+ (* (compose α (chart R2-rect)) dx)\n",
    "           (* (compose β (chart R2-rect)) dy)))\n",
    "     (* (compose (- ((partial 0) β)\n",
    "                    ((partial 1) α))\n",
    "                 (chart R2-rect))\n",
    "        (wedge dx dy)))\n",
    "  v w)\n",
    " R2-rect-point))"
   ]
  },
  {
   "cell_type": "markdown",
   "id": "indirect-daily",
   "metadata": {},
   "source": [
    "- Divergence Theorem: for an arbitrary compact set $M \\subset \\mathbb{R}^3$ and a vector field $\\mathsf{w}$\n",
    "$$\n",
    "\\int_{\\partial M} \\mathsf{w \\cdot n} dA = \\int_M \\textrm{div}(\\mathsf{w}) dV\n",
    "$$\n",
    "- the integrands should be related by an exterior derivative, if this is an instance of Stokes's Theorem\n",
    "- for orthonormal rectangular coordinates in $\\mathbb{R}^3$, we can interpret the integrands in terms of forms. Let the vector field be\n",
    "$\n",
    "\\mathsf{w} = \\mathsf{a} \\frac{\\partial}{\\partial \\mathsf{x}} + \n",
    "\\mathsf{b} \\frac{\\partial}{\\partial \\mathsf{y}} +\n",
    "\\mathsf{c} \\frac{\\partial}{\\partial \\mathsf{z}}\n",
    "$\n",
    "- The rate of leakage of stuff through each element of the boundary is $\\mathsf{w} \\cdot \\mathsf{n} dA = \\mathsf{a dy} \\wedge \\mathsf{dz} + \\mathsf{b dz} \\wedge \\mathsf{dx} + \\mathsf{c dx} \\wedge \\mathsf{dy}$\n",
    "- The rate of production of stuff in each element of volume is $\\textrm{div}(\\mathsf{w}) dV = \\big(\\frac{\\partial}{\\partial \\mathsf{x}} \\mathsf{a} + \n",
    "\\frac{\\partial}{\\partial \\mathsf{y}} \\mathsf{b} + \n",
    "\\frac{\\partial}{\\partial \\mathsf{z}} \\mathsf{c} \\big)\n",
    "\\mathsf{dx} \\wedge \\mathsf{dy} \\wedge \\mathsf{dz}$"
   ]
  },
  {
   "cell_type": "code",
   "execution_count": 18,
   "id": "equal-merchandise",
   "metadata": {},
   "outputs": [
    {
     "data": {
      "text/plain": [
       "#'chp5/production-in-volumn-element"
      ]
     },
     "execution_count": 18,
     "metadata": {},
     "output_type": "execute_result"
    }
   ],
   "source": [
    "(def a (literal-manifold-function 'a-rect R3-rect))\n",
    "(def b (literal-manifold-function 'b-rect R3-rect))\n",
    "(def c (literal-manifold-function 'c-rect R3-rect))\n",
    "\n",
    "(let-coordinates\n",
    " [[x y z] R3-rect]\n",
    " (def flux-through-boundary-element\n",
    "     (+ (* a (wedge dy dz))\n",
    "        (* b (wedge dz dx))\n",
    "        (* c (wedge dx dy))))\n",
    " (def production-in-volumn-element\n",
    "     (* (+ (d:dx a) (d:dy b) (d:dz c))\n",
    "        (wedge dx dy dz))))"
   ]
  },
  {
   "cell_type": "code",
   "execution_count": 20,
   "id": "harmful-paste",
   "metadata": {},
   "outputs": [
    {
     "data": {
      "text/plain": [
       "\"0\""
      ]
     },
     "execution_count": 20,
     "metadata": {},
     "output_type": "execute_result"
    }
   ],
   "source": [
    "(render\n",
    "(((- production-in-volumn-element\n",
    "     (d flux-through-boundary-element))\n",
    "  X Y Z)\n",
    " R3-rect-point))"
   ]
  },
  {
   "cell_type": "code",
   "execution_count": null,
   "id": "copyrighted-blackjack",
   "metadata": {},
   "outputs": [],
   "source": []
  }
 ],
 "metadata": {
  "kernelspec": {
   "display_name": "Clojure (clojupyter=0.3.2=1)",
   "language": "clojure",
   "name": "conda-clojupyter"
  },
  "language_info": {
   "file_extension": ".clj",
   "mimetype": "text/x-clojure",
   "name": "clojure",
   "version": "1.10.1"
  }
 },
 "nbformat": 4,
 "nbformat_minor": 5
}
