{
 "cells": [
  {
   "cell_type": "code",
   "execution_count": 1,
   "id": "proof-gregory",
   "metadata": {},
   "outputs": [
    {
     "data": {
      "text/plain": [
       "#'chp6/render"
      ]
     },
     "execution_count": 1,
     "metadata": {},
     "output_type": "execute_result"
    }
   ],
   "source": [
    "(require '[clojupyter.misc.helper :as helper])\n",
    "(run! helper/add-dependencies '[[sicmutils \"0.18.0\"]])\n",
    "\n",
    "(ns chp6\n",
    "    (:refer-clojure :exclude [partial zero? + - * / ref compare =])\n",
    "    (:require [sicmutils.env :refer :all]\n",
    "              [sicmutils.value :as v]))\n",
    "(def render (comp ->infix simplify))"
   ]
  },
  {
   "cell_type": "markdown",
   "id": "geographic-thread",
   "metadata": {},
   "source": [
    "## 6.1 Vector fields Over a map\n",
    "\n",
    "### Restricted Vector Fields\n",
    "- $\\mu$: a map from manifold $\\mathsf{N}$ to manifold $\\mathsf{M}$\n",
    "- $\\mathsf{f}$: a manifold function on $\\mathsf{M}$\n",
    "- $\\mathsf{u}$: a vector field on $\\mathsf{M}$\n",
    "- Then $\\mathsf{u}_{\\mu}$ is a restricted vector field over the map $\\mu$\n",
    "- $\\mathsf{u}_{\\mu}(\\mathsf{f}) (\\mathsf{n}) = \\mathsf{u}(\\mathsf{f}) (\\mu(\\mathsf{n}))$\n",
    "- Note that $\\mathsf{u}_{\\mu}(\\mathsf{f})$ is a manifold function on $\\mathsf{N}$. It is also referred to as a vector over the map $\\mu$"
   ]
  },
  {
   "cell_type": "code",
   "execution_count": 2,
   "id": "matched-distance",
   "metadata": {
    "scrolled": false
   },
   "outputs": [
    {
     "data": {
      "text/plain": [
       "#function[sicmutils.calculus.map/vector-field->vector-field-over-map]"
      ]
     },
     "execution_count": 2,
     "metadata": {},
     "output_type": "execute_result"
    }
   ],
   "source": [
    "vector-field->vector-field-over-map"
   ]
  },
  {
   "cell_type": "markdown",
   "id": "italian-practice",
   "metadata": {},
   "source": [
    "### Differential of a Map\n",
    "- $\\mu$: a map from manifold $\\mathsf{N}$ to manifold $\\mathsf{M}$\n",
    "- $\\mathsf{f}$: a manifold function on $\\mathsf{M}$\n",
    "- $\\mathsf{v}$: a vector field on $\\mathsf{N}$\n",
    "- the differential of a map takes three arguments:\n",
    "- \n",
    "$d\\mu(\\mathsf{v})(\\mathsf{f})(\\mathsf{n}) = \\mathsf{v}(\\mathsf{f}\\circ \\mu) (\\mathsf{n})$\n",
    "- the differential of a map $\\mu$ applied to a vector field $\\mathsf{v}$ on $\\mathsf{N}$ is a vector field over the map $\\mu$.\n",
    "- the differential of the map transport a vector field from the source manifold $\\mathsf{N}$ to the target manifold $\\mathsf{M}$"
   ]
  },
  {
   "cell_type": "code",
   "execution_count": 3,
   "id": "brown-calendar",
   "metadata": {},
   "outputs": [
    {
     "data": {
      "text/plain": [
       "#function[sicmutils.calculus.map/differential-of-map]"
      ]
     },
     "execution_count": 3,
     "metadata": {},
     "output_type": "execute_result"
    }
   ],
   "source": [
    "differential"
   ]
  },
  {
   "cell_type": "markdown",
   "id": "informative-mediterranean",
   "metadata": {},
   "source": [
    "### Velocity at a Time\n",
    "- $\\mu$: a map from the time line to manifold $\\mathsf{M}$\n",
    "- $\\partial/\\partial \\mathsf{t}$: the basis vector on the time line (this is a vector field from the source manifold)\n",
    "- $d\\mu (\\partial/\\partial \\mathsf{t})$: the vector field over the map $\\mu$ that compute the rate of change of functions on $\\mathsf{M}$ along the path that is the image of $\\mu$. Thus, $d\\mu (\\partial/\\partial \\mathsf{t})$ gives the velocity vector at each moment\n",
    "- This solves the issue where a path crosses itself and leads to multiple vectors at a point on the manifold $\\mathsf{M}$"
   ]
  },
  {
   "cell_type": "markdown",
   "id": "closing-omaha",
   "metadata": {},
   "source": [
    "## 6.2 One-Form Fields Over a Map"
   ]
  },
  {
   "cell_type": "markdown",
   "id": "about-painting",
   "metadata": {},
   "source": [
    "- $\\mu$: a map from manifold $\\mathsf{N}$ to manifold $\\mathsf{M}$\n",
    "- $\\mathsf{f}$: a manifold function on $\\mathsf{M}$\n",
    "- $\\mathsf{v}$: a vector field on $\\mathsf{N}$\n",
    "- $\\mathsf{u}$: this is not a vector field on M. This is constructed that the dual vector (one form) can apply to it. $\\mathsf{u}(\\mathsf{f}) (\\mathsf{m}) = \\mathsf{v}_{\\mu}(\\mathsf{f}) (\\mathsf{n})$\n",
    "- one-form over the map: $\\omega^{\\mu}(\\mathsf{v}_{\\mu}) (\\mathsf{n}) = \\omega(\\mathsf{u}) (\\mu(\\mathsf{n}))$\n",
    "- To extend this idea to k-forms, we carry each vector argument over the map"
   ]
  },
  {
   "cell_type": "code",
   "execution_count": 3,
   "id": "convinced-definition",
   "metadata": {},
   "outputs": [
    {
     "name": "stdout",
     "output_type": "stream",
     "text": [
      "(defn form-field->form-field-over-map\n",
      "  [mu:N->M]\n",
      "  (fn [w-on-M]\n",
      "    (letfn [(make-fake-vector-field [V-over-mu n]\n",
      "              (vf/procedure->vector-field\n",
      "               (fn [f]\n",
      "                 (fn [_]\n",
      "                   ((V-over-mu f) n)))\n",
      "               `(~'make-fake-vector-field\n",
      "                 ~(v/freeze V-over-mu))))\n",
      "            (op [& vectors-over-map]\n",
      "              (assert (= (count vectors-over-map)\n",
      "                         (ff/get-rank w-on-M)))\n",
      "              (fn [n]\n",
      "                ((apply w-on-M\n",
      "                        (map (fn [V-over-mu]\n",
      "                               (make-fake-vector-field V-over-mu n))\n",
      "                             vectors-over-map))\n",
      "                 (mu:N->M n))))]\n",
      "      (let [rank (ff/get-rank w-on-M)\n",
      "            name `((~'form-field->form-field-over-map ~(v/freeze mu:N->M))\n",
      "                   ~(v/freeze w-on-M))]\n",
      "        (ff/procedure->nform-field op rank name)))))\n"
     ]
    },
    {
     "data": {
      "text/plain": [
       "nil"
      ]
     },
     "execution_count": 3,
     "metadata": {},
     "output_type": "execute_result"
    }
   ],
   "source": [
    "(clojure.repl/source form-field->form-field-over-map)"
   ]
  },
  {
   "cell_type": "markdown",
   "id": "southeast-racing",
   "metadata": {},
   "source": [
    "## 6.3 Basis Fields Over a Map"
   ]
  },
  {
   "cell_type": "markdown",
   "id": "rocky-fleet",
   "metadata": {},
   "source": [
    "- $\\mathsf{e}$: a tuple of basis vector fields\n",
    "- $\\mathsf{\\tilde{e}}$: the tuple of basis one-forms that is dual to $\\mathsf{e}$\n",
    "\n",
    "We have $\\mathsf{\\tilde{e}}^i (\\mathsf{e}_j) (\\mathsf{m}) = \\delta^i_j$\n",
    "\n",
    "- $\\mathsf{e}^{\\mu}$: _basis vectors over the map_, which are particular cases of vectors over a map $\\mathsf{e}^{\\mu} (\\mathsf{f}) = \\mathsf{e} (\\mathsf{f})\\circ {\\mu}$\n",
    "- $\\mathsf{\\tilde{e}}_{\\mu}$: _dual basis over the map_, which are particular cases of one-forms over the map, which satisfy $\\mathsf{\\tilde{e}}^i_{\\mu} (\\mathsf{e}_j^{\\mu}) (\\mathsf{n}) = \\delta^i_j$\n",
    "\n",
    "**Walking on a Sphere**\n",
    "Let $\\mu$ map the time line to the unit sphere"
   ]
  },
  {
   "cell_type": "code",
   "execution_count": 4,
   "id": "welsh-absorption",
   "metadata": {},
   "outputs": [
    {
     "data": {
      "text/plain": [
       "#'chp6/mu"
      ]
     },
     "execution_count": 4,
     "metadata": {},
     "output_type": "execute_result"
    }
   ],
   "source": [
    ";; the map takes a point in the time line, map it to a real number\n",
    ";; then map the real number to theta(t) and phi(t)\n",
    ";; then the two coordinates are mapped back to the sphere\n",
    "(def mu\n",
    "    (compose (point S2-spherical)\n",
    "             (up (literal-function 'theta)\n",
    "                 (literal-function 'phi))\n",
    "             (chart R1-rect)))"
   ]
  },
  {
   "cell_type": "markdown",
   "id": "raising-diana",
   "metadata": {},
   "source": [
    "- the basis over map is constructed from the basis on the sphere"
   ]
  },
  {
   "cell_type": "code",
   "execution_count": 5,
   "id": "round-automation",
   "metadata": {},
   "outputs": [
    {
     "data": {
      "text/plain": [
       "#'chp6/h"
      ]
     },
     "execution_count": 5,
     "metadata": {},
     "output_type": "execute_result"
    }
   ],
   "source": [
    "(def S2-basis (coordinate-system->basis S2-spherical))\n",
    "(def S2-basis-over-mu\n",
    "    (basis->basis-over-map mu S2-basis))\n",
    "(def h\n",
    "    (literal-manifold-function 'h-spherical S2-spherical))"
   ]
  },
  {
   "cell_type": "markdown",
   "id": "aquatic-apartment",
   "metadata": {},
   "source": [
    "- The following shows the basis vectors over the map compute derivatives of the funciton $h$ evaluated on the path at the given time"
   ]
  },
  {
   "cell_type": "code",
   "execution_count": 6,
   "id": "pharmaceutical-lawsuit",
   "metadata": {},
   "outputs": [
    {
     "data": {
      "text/plain": [
       "\"down(∂₀h-spherical(up(θ(t0), φ(t0))), ∂₁h-spherical(up(θ(t0), φ(t0))))\""
      ]
     },
     "execution_count": 6,
     "metadata": {},
     "output_type": "execute_result"
    }
   ],
   "source": [
    "(render\n",
    " (((basis->vector-basis S2-basis-over-mu) h)\n",
    "  ((point R1-rect) 't0)))"
   ]
  },
  {
   "cell_type": "code",
   "execution_count": 7,
   "id": "maritime-inflation",
   "metadata": {
    "scrolled": true
   },
   "outputs": [
    {
     "name": "stdout",
     "output_type": "stream",
     "text": [
      "(defn basis->vector-basis\n",
      "  \"Extract the vector basis from the given basis object `b`.\"\n",
      "  [b]\n",
      "  {:pre [(basis? b)]}\n",
      "  (:vector-basis b))\n"
     ]
    },
    {
     "data": {
      "text/plain": [
       "nil"
      ]
     },
     "execution_count": 7,
     "metadata": {},
     "output_type": "execute_result"
    }
   ],
   "source": [
    "(clojure.repl/source basis->vector-basis)"
   ]
  },
  {
   "cell_type": "code",
   "execution_count": 8,
   "id": "involved-daily",
   "metadata": {},
   "outputs": [
    {
     "data": {
      "text/plain": [
       "{:type :sicmutils.calculus.basis/basis, :dimension 2, :vector-basis (down ((vector-field->vector-field-over-map #function[clojure.lang.AFunction/1]) d:dx0) ((vector-field->vector-field-over-map #function[clojure.lang.AFunction/1]) d:dx1)), :oneform-basis (up ((form-field->form-field-over-map #function[clojure.lang.AFunction/1]) dx0) ((form-field->form-field-over-map #function[clojure.lang.AFunction/1]) dx1))}"
      ]
     },
     "execution_count": 8,
     "metadata": {},
     "output_type": "execute_result"
    }
   ],
   "source": [
    "S2-basis-over-mu"
   ]
  },
  {
   "cell_type": "markdown",
   "id": "covered-african",
   "metadata": {},
   "source": [
    "- the dual basis over the map does the correct thing"
   ]
  },
  {
   "cell_type": "code",
   "execution_count": 9,
   "id": "together-spectacular",
   "metadata": {},
   "outputs": [
    {
     "data": {
      "text/plain": [
       "(up (down 1 0) (down 0 1))"
      ]
     },
     "execution_count": 9,
     "metadata": {},
     "output_type": "execute_result"
    }
   ],
   "source": [
    "(((basis->oneform-basis S2-basis-over-mu)\n",
    "  (basis->vector-basis S2-basis-over-mu))\n",
    " ((point R1-rect) 't0))"
   ]
  },
  {
   "cell_type": "markdown",
   "id": "acquired-vertical",
   "metadata": {},
   "source": [
    "__Components of the Velocity__\n",
    "- $\\chi$: a tuple of coordinates on $\\mathsf{M}$\n",
    "- $\\mathsf{X}_i$: basis vectors associates with $\\chi$\n",
    "- $\\mathsf{dx}^i$: dual basis elements associates with $\\chi$\n",
    "- $\\mathsf{X}_i^{\\mu}$: basis vectors over the map $\\mu$ associates with $\\chi$\n",
    "- $\\mathsf{dx}^i_{\\mu}$: dual basis elements over the map $\\mu$ associates with $\\chi$\n",
    "\n",
    "The components of the velocity (rates of change of coordinates along the path $\\mu$) are obtained by applying the dual basis over the map to the velocity\n",
    "$$ v^i(t) = \\mathsf{dx}^i_{\\mu} (d\\mu (\\partial/\\partial \\mathsf{t})) (\\mathsf{t}) $$\n",
    "\n",
    "the coordinate velocities on a sphere are"
   ]
  },
  {
   "cell_type": "code",
   "execution_count": 12,
   "id": "rising-sheep",
   "metadata": {},
   "outputs": [
    {
     "data": {
      "text/plain": [
       "(up ((D theta) t0) ((D phi) t0))"
      ]
     },
     "execution_count": 12,
     "metadata": {},
     "output_type": "execute_result"
    }
   ],
   "source": [
    "(let-coordinates [t R1-rect]\n",
    " (((basis->oneform-basis S2-basis-over-mu)\n",
    "   ((differential mu) d:dt))\n",
    "  a-point))"
   ]
  },
  {
   "cell_type": "markdown",
   "id": "restricted-commercial",
   "metadata": {},
   "source": [
    "## 6.4 Pullbacks and Pushforwards"
   ]
  },
  {
   "cell_type": "markdown",
   "id": "plain-edmonton",
   "metadata": {},
   "source": [
    "__For manifold functions__\n",
    "- $\\mu$: a map from manifold $\\mathsf{N}$ to manifold $\\mathsf{M}$\n",
    "- pushforward of the function $\\mathsf{g}$ on $\\mathsf{N}$ over the map $\\mu$: \n",
    "    - $\\mu_*\\mathsf{g} = \\mathsf{g} \\circ \\mu^{-1}$ (we assume the inverse of the map $\\mu$ exists)\n",
    "- pullback of a function $\\mathsf{f}$ on $\\mathsf{M}$ over the map $\\mu$: \n",
    "    - $\\mu^*\\mathsf{f} = \\mathsf{f} \\circ \\mu$"
   ]
  },
  {
   "cell_type": "code",
   "execution_count": 10,
   "id": "hundred-president",
   "metadata": {
    "scrolled": true
   },
   "outputs": [
    {
     "name": "stdout",
     "output_type": "stream",
     "text": [
      "(defn pushforward-function [mu-inverse:M->N]\n",
      "  (fn [f-on-N]\n",
      "    (f/compose f-on-N mu-inverse:M->N)))\n"
     ]
    },
    {
     "data": {
      "text/plain": [
       "nil"
      ]
     },
     "execution_count": 10,
     "metadata": {},
     "output_type": "execute_result"
    }
   ],
   "source": [
    "(clojure.repl/source pushforward-function)"
   ]
  },
  {
   "cell_type": "code",
   "execution_count": 11,
   "id": "political-going",
   "metadata": {
    "scrolled": false
   },
   "outputs": [
    {
     "name": "stdout",
     "output_type": "stream",
     "text": [
      "(defn pullback-function\n",
      "  [mu:N->M]\n",
      "  (fn [f-on-M]\n",
      "    (f/compose f-on-M mu:N->M)))\n"
     ]
    },
    {
     "data": {
      "text/plain": [
       "nil"
      ]
     },
     "execution_count": 11,
     "metadata": {},
     "output_type": "execute_result"
    }
   ],
   "source": [
    "(clojure.repl/source pullback-function)"
   ]
  },
  {
   "cell_type": "markdown",
   "id": "permanent-scottish",
   "metadata": {},
   "source": [
    "Examples of pullback of manifold functions\n",
    "- a vector field over the map constructed by restriction can be seen as the pullback of the function constructed by appication of the vector field to a function: $\\mathsf{u}_{\\mu}(\\mathsf{f}) = \\mathsf{u}(\\mathsf{f})\\circ {\\mu} = \\mu^*(\\mathsf{u}(\\mathsf{f}))$\n",
    "- a vector field over the map constructed by a differential can be seen as the vector field applied to the pullback of the function: $d\\mu(\\mathsf{v})(\\mathsf{f})(\\mathsf{n}) = \\mathsf{v}(\\mathsf{f}\\circ \\mu) (\\mathsf{n}) = \\mathsf{v}(\\mu^*\\mathsf{f} ) (\\mathsf{n})$"
   ]
  },
  {
   "cell_type": "markdown",
   "id": "responsible-three",
   "metadata": {},
   "source": [
    "__For vector fields__\n",
    "- $\\mu$: a map from manifold $\\mathsf{N}$ to manifold $\\mathsf{M}$\n",
    "- pushforward of a vector field $\\mathsf{v}$ defined on $\\mathsf{N}$ over the map $\\mu$: \n",
    "    - $\\mu_*\\mathsf{v}(\\mathsf{f}) (\\mathsf{m}) = (\\mathsf{v} (\\mathsf{f} \\circ \\mu)) (\\mu^{-1} (\\mathsf{m})) = \\mu_*(\\mathsf{v} (\\mu^*\\mathsf{f}))$\n",
    "    - The RHS is expressed in pushback and pushforward of manifold functions\n",
    "    - for a map from time to some configuration manifold. The pushforward of a vector field is the velocity measured at a point on the trajectory in the configuration manifold. However, the pushforward is not defined at any point where crosssing occurs. By contrast, the differential of the map applied to the (source) vector field gives us the velocity vector at each moment in time and is always defined. \n",
    "- pullback of a vector field $\\mathsf{u}$ on $\\mathsf{M}$ over the map $\\mu$: \n",
    "    - $\\mu^*\\mathsf{u}(\\mathsf{g}) (\\mathsf{n}) = (\\mathsf{u} (\\mathsf{g} \\circ \\mu^{-1})) (\\mu (\\mathsf{n})) = \\mu^*(\\mathsf{u} (\\mu_*\\mathsf{g}))$"
   ]
  },
  {
   "cell_type": "code",
   "execution_count": 12,
   "id": "heated-gravity",
   "metadata": {},
   "outputs": [
    {
     "name": "stdout",
     "output_type": "stream",
     "text": [
      "(defn pushforward-vector\n",
      "  [mu:N->M mu-inverse:M->N]\n",
      "  (fn [v-on-N]\n",
      "    (let [op (fn [f]\n",
      "               (f/compose (v-on-N (f/compose f mu:N->M))\n",
      "                          mu-inverse:M->N))\n",
      "          name `((~'pushforward ~(v/freeze mu:N->M))\n",
      "                 ~(v/freeze v-on-N))]\n",
      "      (vf/procedure->vector-field op name))))\n"
     ]
    },
    {
     "data": {
      "text/plain": [
       "nil"
      ]
     },
     "execution_count": 12,
     "metadata": {},
     "output_type": "execute_result"
    }
   ],
   "source": [
    "(clojure.repl/source pushforward-vector)"
   ]
  },
  {
   "cell_type": "code",
   "execution_count": 13,
   "id": "subjective-arnold",
   "metadata": {
    "scrolled": false
   },
   "outputs": [
    {
     "name": "stdout",
     "output_type": "stream",
     "text": [
      "(defn pullback-vector-field\n",
      "  [mu:N->M mu-inverse:M->N]\n",
      "  (pushforward-vector mu-inverse:M->N mu:N->M))\n"
     ]
    },
    {
     "data": {
      "text/plain": [
       "nil"
      ]
     },
     "execution_count": 13,
     "metadata": {},
     "output_type": "execute_result"
    }
   ],
   "source": [
    "(clojure.repl/source pullback-vector-field)"
   ]
  },
  {
   "cell_type": "markdown",
   "id": "ancient-restriction",
   "metadata": {},
   "source": [
    "__Integral Curves__\n",
    "- $\\phi_t^{\\mathsf{w}}(\\mathsf{m})$: the integral curve of $\\mathsf{w}$ evolved for time $t$ as a function of the initial manifold point $\\mathsf{m}$, it is a map of the manifold onto itself.\n",
    "    - The evolution of the function $\\mathsf{f}$ along an integral curve can be written in terms of the pullback over $\\phi_t^{\\mathsf{w}}$: $(E_{t, \\mathsf{w}}) (\\mathsf{m}) = \\mathsf{f} (\\phi_t^{\\mathsf{w}}(\\mathsf{m})) = ((\\phi_t^{\\mathsf{w}})^*\\mathsf{f}) (\\mathsf{m})$. \n",
    "- Since the map induced by integral curves is always invertible (uniqueness of the solutions of the initial-value problem fro ODE), we can push a vector field $\\mathsf{v}$ forward over the map generated by an integral curve of a vector field $\\mathsf{w}$\n",
    "\n",
    "$$ (\\phi_t^{\\mathsf{w}})_*\\mathsf{v}(\\mathsf{f}) (\\mathsf{m}) = (\\mathsf{v} (\\mathsf{f} \\circ \\phi_t^{\\mathsf{w}})) (\\phi_{-t}^{\\mathsf{w}} (\\mathsf{m}))$$\n",
    "This is implemented as"
   ]
  },
  {
   "cell_type": "code",
   "execution_count": 14,
   "id": "reliable-recycling",
   "metadata": {},
   "outputs": [
    {
     "name": "stdout",
     "output_type": "stream",
     "text": [
      "(defn pushforward-vector\n",
      "  [mu:N->M mu-inverse:M->N]\n",
      "  (fn [v-on-N]\n",
      "    (let [op (fn [f]\n",
      "               (f/compose (v-on-N (f/compose f mu:N->M))\n",
      "                          mu-inverse:M->N))\n",
      "          name `((~'pushforward ~(v/freeze mu:N->M))\n",
      "                 ~(v/freeze v-on-N))]\n",
      "      (vf/procedure->vector-field op name))))\n"
     ]
    },
    {
     "data": {
      "text/plain": [
       "nil"
      ]
     },
     "execution_count": 14,
     "metadata": {},
     "output_type": "execute_result"
    }
   ],
   "source": [
    "(clojure.repl/source pushforward-vector)"
   ]
  },
  {
   "cell_type": "markdown",
   "id": "artistic-rider",
   "metadata": {},
   "source": [
    "__For Form Field__\n",
    "- $\\mu$: a map from manifold $\\mathsf{N}$ to manifold $\\mathsf{M}$\n",
    "- Pushforward of a one-form field $\\omega$ defined on $\\mathsf{N}$ over a map $\\mu$\n",
    "    - $\\mu_* \\omega (\\mathsf{u}) = \\mu_* (\\omega (\\mu^* \\mathsf{u}))$\n",
    "    - it is rarely useful\n",
    "- Pullback of a one-form field $\\omega$ defined on $\\mathsf{M}$ over a map $\\mu$\n",
    "    - $\\mu^* \\omega (\\mathsf{v}) = \\mu^* (\\omega (\\mu_*\\mathsf{v}))$\n",
    "    - The above is accurate, but not effective, because computing the pushforward of a vector field requires the inverse of the map $\\mu$. However, we can avoid needing the inverse by leveraging the differential of a map.\n",
    "    - $\\mu^* \\omega (\\mathsf{v}) = \\omega^{\\mu} (d\\mu(\\mathsf{v})))$\n",
    "    - This equation is valid because of the following reasoning. Imagine the map $\\mu$ is invertible. Then for each integral curve in $\\mathsf{N}$ generated by a vector field $\\mathsf{v}$, its image on $\\mathsf{M}$ is an integral curve generated by $\\mu_*\\mathsf{v}$. The pushforward of vector field exist since the map is invertible. Now, $\\mu^* \\omega (\\mathsf{v}) (\\mathsf{n}) = (\\omega (\\mu_*\\mathsf{v})) (\\mathsf{m}) $. The pushforward of $\\mathsf{v}$ can also be viewed as transporting $\\mathsf{v}$ from $\\mathsf{N}$ to $\\mathsf{M}$. This is similar to _differential_ of the map $\\mu$ acting on $\\mathsf{v}$! But the differential of the map is a vector field over the map, which means it is evaluated at $\\mathsf{N}$, by definition of the one-form field over a map, it is not hard to see the above equation holds. It holds even if the the map is not invertible. In this case, we can visually think of calculating the pullback of a one-form field restricted to an intergral curve. \n",
    "- pullback of a _k_-form.\n",
    "    - $\\mu^* \\omega (\\mathsf{u}, \\mathsf{v}, ...) (\\mathsf{n}) = \\omega (\\mu_*\\mathsf{u}, \\mu_*\\mathsf{v}, ...) (\\mu(\\mathsf{n}))$"
   ]
  },
  {
   "cell_type": "code",
   "execution_count": 15,
   "id": "different-taiwan",
   "metadata": {},
   "outputs": [
    {
     "name": "stdout",
     "output_type": "stream",
     "text": [
      "(defn pullback-form\n",
      "  \"Returns a function which will pull a form back across a map (without needing\n",
      "  its inverse)\"\n",
      "  [mu:N->M]\n",
      "  (fn [omega-on-M]\n",
      "    (let [k (ff/get-rank omega-on-M)]\n",
      "      (if (zero? k)\n",
      "        ((pullback-function mu:N->M) omega-on-M)\n",
      "        (let [op (fn [& vectors-on-N]\n",
      "                   (apply ((form-field->form-field-over-map mu:N->M) omega-on-M)\n",
      "                          (map (differential mu:N->M)\n",
      "                               vectors-on-N)))\n",
      "              name `((~'pullback ~(v/freeze mu:N->M))\n",
      "                     ~(v/freeze omega-on-M))]\n",
      "          (ff/procedure->nform-field op k name))))))\n"
     ]
    },
    {
     "data": {
      "text/plain": [
       "nil"
      ]
     },
     "execution_count": 15,
     "metadata": {},
     "output_type": "execute_result"
    }
   ],
   "source": [
    "(clojure.repl/source pullback-form)"
   ]
  },
  {
   "cell_type": "markdown",
   "id": "institutional-corps",
   "metadata": {},
   "source": [
    "__Properties of Pullback__\n",
    "- distributes through addition and through wedge product\n",
    "$$\n",
    "\\begin{align}\n",
    "    \\mu^*(\\theta + \\phi) &= \\mu^*\\theta + \\mu^*\\phi \\\\\n",
    "    \\mu^*(\\theta \\wedge \\phi) &= \\mu^*\\theta \\wedge \\mu^*\\phi\n",
    "\\end{align}\n",
    "$$\n",
    "- commutes with the exterior derivative (here $\\theta$ is a manifold function or a k-form field)\n",
    "$$ \\mathsf{d}(\\mu^*\\theta) = \\mu^*(\\mathsf{d}\\theta)$$"
   ]
  },
  {
   "cell_type": "code",
   "execution_count": 18,
   "id": "front-tokyo",
   "metadata": {},
   "outputs": [
    {
     "data": {
      "text/plain": [
       "#'chp6/mu"
      ]
     },
     "execution_count": 18,
     "metadata": {},
     "output_type": "execute_result"
    }
   ],
   "source": [
    ";; a map from the rectangular plane to rectangular 3-space\n",
    "(def mu\n",
    "    (literal-manifold-map 'MU R2-rect R3-rect))"
   ]
  },
  {
   "cell_type": "code",
   "execution_count": 19,
   "id": "necessary-christopher",
   "metadata": {},
   "outputs": [
    {
     "data": {
      "text/plain": [
       "\"0\""
      ]
     },
     "execution_count": 19,
     "metadata": {},
     "output_type": "execute_result"
    }
   ],
   "source": [
    ";; verify statement with manifold function \n",
    "(def f (literal-manifold-function 'f-rect R3-rect))\n",
    "(def X (literal-vector-field 'X-rect R2-rect))\n",
    "(render\n",
    " (((- ((pullback mu) (d f)) (d ((pullback mu) f))) X)\n",
    "  ((point R2-rect) (up 'x0 'y0))))"
   ]
  },
  {
   "cell_type": "code",
   "execution_count": 21,
   "id": "commercial-handling",
   "metadata": {},
   "outputs": [
    {
     "data": {
      "text/plain": [
       "\"0\""
      ]
     },
     "execution_count": 21,
     "metadata": {},
     "output_type": "execute_result"
    }
   ],
   "source": [
    ";; verify statement with a form field\n",
    "(def theta (literal-oneform-field 'THETA R3-rect))\n",
    "(def Y (literal-vector-field 'Y-rect R2-rect))\n",
    "(render\n",
    " (((- ((pullback mu) (d theta)) (d ((pullback mu) theta))) X Y)\n",
    "  ((point R2-rect) (up 'x0 'y0))))"
   ]
  },
  {
   "cell_type": "markdown",
   "id": "general-blocking",
   "metadata": {},
   "source": [
    "### Ex 6.1 Velocities on a Globe\n",
    "__a.__ Suppose that a vehicle is traveling east on the Earth at a given rate of change of longitude. That is the actual ground speed of the vehicle?"
   ]
  },
  {
   "cell_type": "code",
   "execution_count": 53,
   "id": "average-landing",
   "metadata": {
    "scrolled": true
   },
   "outputs": [
    {
     "data": {
      "text/plain": [
       "#'chp6/mu-a"
      ]
     },
     "execution_count": 53,
     "metadata": {},
     "output_type": "execute_result"
    }
   ],
   "source": [
    "(defn v-colatitude\n",
    "    [t]\n",
    "    'init-colatitude)\n",
    "(defn v-longtitude\n",
    "    [t]\n",
    "    (* t 'v-long))\n",
    "(def mu-a\n",
    "    (compose (point S2-spherical)\n",
    "             (up v-colatitude ;; colatitude\n",
    "                 v-longtitude)  ;; longtitude\n",
    "             (chart R1-rect)))"
   ]
  },
  {
   "cell_type": "code",
   "execution_count": 54,
   "id": "casual-copyright",
   "metadata": {},
   "outputs": [
    {
     "data": {
      "text/plain": [
       "#'chp6/S2-basis-over-mu-a"
      ]
     },
     "execution_count": 54,
     "metadata": {},
     "output_type": "execute_result"
    }
   ],
   "source": [
    "(def S2-basis (coordinate-system->basis S2-spherical))\n",
    "(def S2-basis-over-mu-a\n",
    "    (basis->basis-over-map mu-a S2-basis))"
   ]
  },
  {
   "cell_type": "markdown",
   "id": "timely-liver",
   "metadata": {},
   "source": [
    "- since we haven't defined a metric yet, the following speed is the speed on the coordinate plane."
   ]
  },
  {
   "cell_type": "code",
   "execution_count": 61,
   "id": "agreed-birmingham",
   "metadata": {},
   "outputs": [
    {
     "data": {
      "text/plain": [
       "(up 0 v-long)"
      ]
     },
     "execution_count": 61,
     "metadata": {},
     "output_type": "execute_result"
    }
   ],
   "source": [
    "(let-coordinates\n",
    " [t R1-rect]\n",
    " (((basis->oneform-basis S2-basis-over-mu-a)\n",
    "   ((differential mu-a) d:dt))\n",
    "   ((point R1-rect) 't0)))"
   ]
  },
  {
   "cell_type": "markdown",
   "id": "maritime-geometry",
   "metadata": {},
   "source": [
    "__b__. Sterographic projection is useful for navigation because it is conformal (it preserves angles). For the situation of part __a__, what is the spped measured on a stereographic map? "
   ]
  },
  {
   "cell_type": "code",
   "execution_count": 56,
   "id": "surprised-chapter",
   "metadata": {},
   "outputs": [
    {
     "data": {
      "text/plain": [
       "#'chp6/mu-b"
      ]
     },
     "execution_count": 56,
     "metadata": {},
     "output_type": "execute_result"
    }
   ],
   "source": [
    ";; map from R1 to R2\n",
    "(def mu-b\n",
    "    (compose (point R2-rect)\n",
    "             (chart S2-Riemann)\n",
    "             (point S2-spherical)\n",
    "             (up v-colatitude ;; colatitude\n",
    "                 v-longtitude)  ;; longtitude\n",
    "             (chart R1-rect)))"
   ]
  },
  {
   "cell_type": "code",
   "execution_count": 57,
   "id": "incoming-atlas",
   "metadata": {},
   "outputs": [
    {
     "data": {
      "text/plain": [
       "#'chp6/R2-basis-over-mu-b"
      ]
     },
     "execution_count": 57,
     "metadata": {},
     "output_type": "execute_result"
    }
   ],
   "source": [
    "(def R2-basis (coordinate-system->basis R2-rect))\n",
    "(def R2-basis-over-mu-b\n",
    "    (basis->basis-over-map mu-b R2-basis))"
   ]
  },
  {
   "cell_type": "code",
   "execution_count": 60,
   "id": "clean-interpretation",
   "metadata": {},
   "outputs": [
    {
     "data": {
      "text/plain": [
       "\"up((v-long sin(init-colatitude) sin(t0 v-long)) / (cos(init-colatitude) + -1), - v-long sin(init-colatitude) cos(t0 v-long) / (cos(init-colatitude) + -1))\""
      ]
     },
     "execution_count": 60,
     "metadata": {},
     "output_type": "execute_result"
    }
   ],
   "source": [
    "(let-coordinates\n",
    " [t R1-rect]\n",
    " (render\n",
    "  (((basis->oneform-basis R2-basis-over-mu-b)\n",
    "    ((differential mu-b) d:dt))\n",
    "    ((point R1-rect) 't0))))"
   ]
  },
  {
   "cell_type": "code",
   "execution_count": null,
   "id": "handed-director",
   "metadata": {},
   "outputs": [],
   "source": []
  }
 ],
 "metadata": {
  "kernelspec": {
   "display_name": "Clojure (clojupyter=0.3.2=1)",
   "language": "clojure",
   "name": "conda-clojupyter"
  },
  "language_info": {
   "file_extension": ".clj",
   "mimetype": "text/x-clojure",
   "name": "clojure",
   "version": "1.10.1"
  }
 },
 "nbformat": 4,
 "nbformat_minor": 5
}
