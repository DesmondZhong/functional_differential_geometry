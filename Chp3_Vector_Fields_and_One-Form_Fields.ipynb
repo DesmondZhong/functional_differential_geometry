{
 "cells": [
  {
   "cell_type": "code",
   "execution_count": 1,
   "id": "piano-israeli",
   "metadata": {},
   "outputs": [
    {
     "data": {
      "text/plain": [
       "#'chp3/render"
      ]
     },
     "execution_count": 1,
     "metadata": {},
     "output_type": "execute_result"
    }
   ],
   "source": [
    "(require '[clojupyter.misc.helper :as helper])\n",
    "(run! helper/add-dependencies '[[sicmutils \"0.16.0\"]])\n",
    "\n",
    "(ns chp3\n",
    "    (:refer-clojure :exclude [partial zero? + - * / ref compare])\n",
    "    (:require [sicmutils.env :refer :all]\n",
    "              [sicmutils.value :as v]\n",
    "              [sicmutils.calculus.manifold :refer [Rn, R2, make-patch, make-manifold\n",
    "                                                   coordinate-system-at]]))\n",
    "(def render (comp ->infix simplify))"
   ]
  },
  {
   "cell_type": "markdown",
   "id": "subtle-chick",
   "metadata": {},
   "source": [
    "## 3.1 Vector Fields"
   ]
  },
  {
   "cell_type": "markdown",
   "id": "minor-hamburg",
   "metadata": {},
   "source": [
    "For a function $f$ on $R^n$, \n",
    "$$ f(x + \\Delta x) \\approx f(x) + (D f(x)) \\Delta x$$\n",
    "\n",
    "- the derivative $Df(x)$ is independent of $\\Delta x$, but depends on the coordinates\n",
    "- The product $(D f(x)) \\Delta x$ is invariant under change of coordinates. (directional derivative)\n",
    "- $(D f(x)) \\Delta x$ is the directional derivative of $f$ at $x$ w.r.t. the vector specified by the tuple of components $\\Delta x$ in the coordinate system. (This is at a single point)\n",
    "- generalize this idea to assign a vector ($\\Delta x$) to every point, making a __vector field__\n",
    "- let $b$ be a map from coordinates ($x$) to vectors ($\\Delta x$), we have a directional derivative of $f$ at each point $x$ determined by $b$\n",
    "$$ D_b (f) (x) = (Df(x)) b(x) $$\n",
    "\n",
    "Now we bring this idea back to the manifold. \n",
    "- A __vector field on a manifold__ is an assignment of a vector to each point on the manifold. \n",
    "- In differential geometry, a __vector__  is an operator that maps a manifold function, to directional derivatives at each point. \n",
    "\n",
    "Notation explained\n",
    "- $\\mathsf{m}$: a point on a manifold\n",
    "- $\\mathsf{v}$: a vector field on the manifold\n",
    "- $\\mathsf{f}$: a real-valued function on the manifold. (a manifold function)\n",
    "- $\\mathsf{v}(\\mathsf{f})$: directional derivative of the function $\\mathsf{f}$ determined by $\\mathsf{v}$, which is a manifold function\n",
    "- $\\mathsf{v}(\\mathsf{f})(\\mathsf{m})$: directional derivative of the function $\\mathsf{f}$ determined by $\\mathsf{v}$ at point $\\mathsf{m}$. A scalar number. "
   ]
  },
  {
   "cell_type": "code",
   "execution_count": 2,
   "id": "under-foster",
   "metadata": {
    "scrolled": true
   },
   "outputs": [
    {
     "name": "stdout",
     "output_type": "stream",
     "text": [
      "(defn components->vector-field\n",
      "  [components coordinate-system & [name]]\n",
      "  (let [name (or name `(~'vector-field ~components))]\n",
      "    (procedure->vector-field (vector-field-procedure components coordinate-system) name)))\n"
     ]
    },
    {
     "data": {
      "text/plain": [
       "nil"
      ]
     },
     "execution_count": 2,
     "metadata": {},
     "output_type": "execute_result"
    }
   ],
   "source": [
    "(clojure.repl/source components->vector-field)"
   ]
  },
  {
   "cell_type": "code",
   "execution_count": 3,
   "id": "level-tribute",
   "metadata": {},
   "outputs": [
    {
     "data": {
      "text/plain": [
       "#'chp3/R2->R"
      ]
     },
     "execution_count": 3,
     "metadata": {},
     "output_type": "execute_result"
    }
   ],
   "source": [
    ";; a signiture for functions that map an up structure of two reals to a real.\n",
    "(def R2->R '(-> (UP Real Real) Real))"
   ]
  },
  {
   "cell_type": "code",
   "execution_count": 4,
   "id": "necessary-hostel",
   "metadata": {},
   "outputs": [
    {
     "data": {
      "text/plain": [
       "#'chp3/R2-rect-point"
      ]
     },
     "execution_count": 4,
     "metadata": {},
     "output_type": "execute_result"
    }
   ],
   "source": [
    ";; define a manifold point using its rectangular coordinates\n",
    "(def R2-rect-point ((point R2-rect) (up 'x0 'y0)))"
   ]
  },
  {
   "cell_type": "code",
   "execution_count": 5,
   "id": "brown-snake",
   "metadata": {},
   "outputs": [
    {
     "data": {
      "text/plain": [
       "#'chp3/v"
      ]
     },
     "execution_count": 5,
     "metadata": {},
     "output_type": "execute_result"
    }
   ],
   "source": [
    ";; a vector field v with coordinate component functions named b0 and b1\n",
    ";; coordinate component functions are also called coefficient functions\n",
    "(def v\n",
    "    (components->vector-field\n",
    "     (up (literal-function 'b0 R2->R)   ;; coefficient function\n",
    "         (literal-function 'b1 R2->R))  ;; coefficient function\n",
    "     R2-rect))"
   ]
  },
  {
   "cell_type": "code",
   "execution_count": 6,
   "id": "creative-worth",
   "metadata": {},
   "outputs": [
    {
     "data": {
      "text/plain": [
       "#'chp3/v2"
      ]
     },
     "execution_count": 6,
     "metadata": {},
     "output_type": "execute_result"
    }
   ],
   "source": [
    ";; a literal vector field\n",
    "(def v2\n",
    "    (literal-vector-field 'b R2-rect))"
   ]
  },
  {
   "cell_type": "markdown",
   "id": "charming-photographer",
   "metadata": {},
   "source": [
    "A useful way to characterize a vector field in a particular coordinate system is by applying it to coordinate functions, so that we get the following _coordinate component functions_ or _coefficient functions_ of the vector field.\n",
    "$$ b_{\\chi, \\mathsf{v}}^{i} = \\mathsf{v}(\\chi^i) \\circ \\chi^{-1} $$\n",
    "- coordinate components are function of the coordinate tuple, not of a manifold point\n",
    "- the derectional derivatives can be written in terms of coordinate components\n",
    "\n",
    "Notation explained\n",
    "- $\\mathsf{f} \\circ \\chi^{-1}$: the coordinate representation of the manifold function $\\mathsf{f}$.\n",
    "- $D(\\mathsf{f} \\circ \\chi^{-1})$: derivative of the manifold function in a coordinate frome. \n",
    "- $D(\\mathsf{f} \\circ \\chi^{-1}) b_{\\chi, \\mathsf{v}}$: weight the components of derivative of the function with the coordinate components of the vector field and sum up. This gives the directional derivative of a coordinate point!\n",
    "\n",
    "$$\\mathsf{v}(\\mathsf{f})(\\mathsf{m}) \n",
    "= D(\\mathsf{f} \\circ \\chi^{-1}) (\\chi(\\mathsf{m})) \n",
    "  b_{\\chi, \\mathsf{v}} (\\chi(\\mathsf{m}))$$\n",
    "$$\\mathsf{v}(\\mathsf{f})(\\mathsf{m}) \n",
    "= \\sum_i \\partial_i (\\mathsf{f} \\circ \\chi^{-1}) (\\chi(\\mathsf{m})) \n",
    "  b_{\\chi, \\mathsf{v}}^i (\\chi(\\mathsf{m}))$$\n",
    "  \n",
    "- The coordinate tuple $b_{\\chi, \\mathsf{v}} (x)$ is an up structure.\n",
    "- For any vector field $\\mathsf{v}$ the coefficients $b_{\\chi, \\mathsf{v}} (x)$ are different for different coordinate functions $\\chi$\n",
    "- we'll drop the subscripts on $b$ for brevity"
   ]
  },
  {
   "cell_type": "code",
   "execution_count": 20,
   "id": "polished-peace",
   "metadata": {
    "scrolled": false
   },
   "outputs": [
    {
     "data": {
      "text/plain": [
       "(+ (* (((partial 0) f-rect) (up x0 y0)) (b0 (up x0 y0))) (* (((partial 1) f-rect) (up x0 y0)) (b1 (up x0 y0))))"
      ]
     },
     "execution_count": 20,
     "metadata": {},
     "output_type": "execute_result"
    }
   ],
   "source": [
    ";; apply the vector field (as an operator) to an arbitrary manifold function\n",
    ";; v(f)(m)\n",
    "((v (literal-manifold-function 'f-rect R2-rect)) R2-rect-point)"
   ]
  },
  {
   "cell_type": "code",
   "execution_count": 21,
   "id": "incorrect-steel",
   "metadata": {
    "scrolled": true
   },
   "outputs": [
    {
     "data": {
      "text/plain": [
       "\"∂₀f-rect(up(x0, y0)) b0(up(x0, y0)) + ∂₁f-rect(up(x0, y0)) b1(up(x0, y0))\""
      ]
     },
     "execution_count": 21,
     "metadata": {},
     "output_type": "execute_result"
    }
   ],
   "source": [
    ";; This is Equation 3.6\n",
    "(render *1)"
   ]
  },
  {
   "cell_type": "code",
   "execution_count": 9,
   "id": "rising-phase",
   "metadata": {},
   "outputs": [
    {
     "data": {
      "text/plain": [
       "(+ (* (((partial 0) f-rect) (up x0 y0)) (b↑0 (up x0 y0))) (* (((partial 1) f-rect) (up x0 y0)) (b↑1 (up x0 y0))))"
      ]
     },
     "execution_count": 9,
     "metadata": {},
     "output_type": "execute_result"
    }
   ],
   "source": [
    "((v2 (literal-manifold-function 'f-rect R2-rect)) R2-rect-point)"
   ]
  },
  {
   "cell_type": "code",
   "execution_count": 10,
   "id": "stable-niger",
   "metadata": {},
   "outputs": [
    {
     "data": {
      "text/plain": [
       "\"∂₀f-rect(up(x0, y0)) b↑0(up(x0, y0)) + ∂₁f-rect(up(x0, y0)) b↑1(up(x0, y0))\""
      ]
     },
     "execution_count": 10,
     "metadata": {},
     "output_type": "execute_result"
    }
   ],
   "source": [
    ";; This is Equation 3.6\n",
    "(render *1)"
   ]
  },
  {
   "cell_type": "code",
   "execution_count": 11,
   "id": "lucky-clarity",
   "metadata": {},
   "outputs": [
    {
     "data": {
      "text/plain": [
       "(up (b↑0 (up x0 y0)) (b↑1 (up x0 y0)))"
      ]
     },
     "execution_count": 11,
     "metadata": {},
     "output_type": "execute_result"
    }
   ],
   "source": [
    ";; recover the coordinate components of the vector field \n",
    ";; by applying the vector field to the coordinate chart\n",
    "((v2 (chart R2-rect)) R2-rect-point)"
   ]
  },
  {
   "cell_type": "code",
   "execution_count": 12,
   "id": "loving-headset",
   "metadata": {},
   "outputs": [
    {
     "data": {
      "text/plain": [
       "(up x0 y0)"
      ]
     },
     "execution_count": 12,
     "metadata": {},
     "output_type": "execute_result"
    }
   ],
   "source": [
    "((chart R2-rect) R2-rect-point)"
   ]
  },
  {
   "cell_type": "markdown",
   "id": "returning-london",
   "metadata": {},
   "source": [
    "the procedure chart returns the \"chart\" which takes a manifold point and gives the coordinates under the chart. Technically speaking, the \"chart\" is not a manifold function. "
   ]
  },
  {
   "cell_type": "code",
   "execution_count": 14,
   "id": "meaningful-subscriber",
   "metadata": {},
   "outputs": [
    {
     "data": {
      "text/plain": [
       "#'chp3/R2->R2"
      ]
     },
     "execution_count": 14,
     "metadata": {},
     "output_type": "execute_result"
    }
   ],
   "source": [
    ";; a signiture for functions that map an up structure of two reals to two reals.\n",
    ";; (def R2->R2 '(-> (UP Real Real) (UP Real Real)))"
   ]
  },
  {
   "cell_type": "code",
   "execution_count": 18,
   "id": "magnetic-bowling",
   "metadata": {},
   "outputs": [
    {
     "data": {
      "text/plain": [
       "#'chp3/f-R2->R2"
      ]
     },
     "execution_count": 18,
     "metadata": {},
     "output_type": "execute_result"
    }
   ],
   "source": [
    ";; (def f-R2->R2 (literal-manifold-function 'f-R2->R2 R2->R2))"
   ]
  },
  {
   "cell_type": "code",
   "execution_count": 22,
   "id": "final-savannah",
   "metadata": {
    "scrolled": false
   },
   "outputs": [
    {
     "name": "stdout",
     "output_type": "stream",
     "text": [
      "(defn coordinatize\n",
      "  [v coordinate-system]\n",
      "  (let [coordinatized-v (fn [f]\n",
      "                          (fn [x]\n",
      "                            (let [b (f/compose (v (m/chart coordinate-system))\n",
      "                                               (m/point coordinate-system))]\n",
      "                              (g/* ((D f) x) (b x)))))]\n",
      "    (o/make-operator coordinatized-v `(~'coordinatized ~v))))\n"
     ]
    },
    {
     "data": {
      "text/plain": [
       "nil"
      ]
     },
     "execution_count": 22,
     "metadata": {},
     "output_type": "execute_result"
    }
   ],
   "source": [
    "(clojure.repl/source coordinatize)"
   ]
  },
  {
   "cell_type": "code",
   "execution_count": 23,
   "id": "expected-theorem",
   "metadata": {},
   "outputs": [
    {
     "data": {
      "text/plain": [
       "(coordinatized (vector-field (up b0 b1)))"
      ]
     },
     "execution_count": 23,
     "metadata": {},
     "output_type": "execute_result"
    }
   ],
   "source": [
    ";; given a vector field and a coordinate system,\n",
    ";; we can construct the coordinate representation of the vector field\n",
    "(coordinatize v R2-rect)"
   ]
  },
  {
   "cell_type": "markdown",
   "id": "pending-miracle",
   "metadata": {},
   "source": [
    "$\\mathsf{v}(\\mathsf{f})(\\mathsf{m}) = v(f) (x)$"
   ]
  },
  {
   "cell_type": "code",
   "execution_count": 29,
   "id": "separate-equity",
   "metadata": {},
   "outputs": [
    {
     "data": {
      "text/plain": [
       "(+ (* (((partial 0) f-rect) (up x0 y0)) (b0 (up x0 y0))) (* (((partial 1) f-rect) (up x0 y0)) (b1 (up x0 y0))))"
      ]
     },
     "execution_count": 29,
     "metadata": {},
     "output_type": "execute_result"
    }
   ],
   "source": [
    ";; we can apply a coordinatized vector field to \n",
    ";; a function of coordinates (instead of a function of manifold point)\n",
    "(((coordinatize v R2-rect) (literal-function 'f-rect R2->R))\n",
    " (up 'x0 'y0))"
   ]
  },
  {
   "cell_type": "code",
   "execution_count": 30,
   "id": "typical-second",
   "metadata": {
    "scrolled": true
   },
   "outputs": [
    {
     "data": {
      "text/plain": [
       "\"∂₀f-rect(up(x0, y0)) b0(up(x0, y0)) + ∂₁f-rect(up(x0, y0)) b1(up(x0, y0))\""
      ]
     },
     "execution_count": 30,
     "metadata": {},
     "output_type": "execute_result"
    }
   ],
   "source": [
    "(render *1)"
   ]
  },
  {
   "cell_type": "markdown",
   "id": "complicated-florence",
   "metadata": {},
   "source": [
    "## 3.2 Coordinate-Basis Vector Fields\n",
    "- for an n-dimensional manifold, any set of n linearly independent vector fields form a _basis_ in that any vector field can be expressed as a linear combination of the basis fields, with manifold-function coefficients. \n",
    "- The ith basis vector field is an operator that computes the directional derivative in the ith coordinate direction.\n",
    "- $\\mathsf{X}_i (\\mathsf{f}) (\\mathsf{m}) = \\partial_i (\\mathsf{f} \\circ \\chi^{-1}) (\\chi(\\mathsf{m})) $\n",
    "- we can then express directional derivative in terms of basis vector fields\n",
    "- $\\mathsf{v}(\\mathsf{f})(\\mathsf{m}) \n",
    "= \\sum_i \\mathsf{X}_i (\\mathsf{f}) (\\mathsf{m})\n",
    "  b^i (\\chi(\\mathsf{m}))$\n",
    "- $\\mathsf{v}(\\mathsf{f})(\\mathsf{m}) \n",
    "= \\mathsf{X} (\\mathsf{f}) (\\mathsf{m})\n",
    "  b (\\chi(\\mathsf{m}))$\n",
    "- note that $b (\\chi(\\mathsf{m}))$ can be viewed as a coordinate tuple (coefficients) of the vector field under the basis vector filed $\\mathsf{X}$\n",
    "- the basis vector field is often written as $\\mathsf{X}_i = \\partial / \\partial \\mathsf{x}^i$"
   ]
  },
  {
   "cell_type": "code",
   "execution_count": 24,
   "id": "imperial-lesson",
   "metadata": {},
   "outputs": [
    {
     "data": {
      "text/plain": [
       "(down d:dx0 d:dx1)"
      ]
     },
     "execution_count": 24,
     "metadata": {},
     "output_type": "execute_result"
    }
   ],
   "source": [
    "(coordinate-system->vector-basis R2-rect)"
   ]
  },
  {
   "cell_type": "code",
   "execution_count": 25,
   "id": "rocky-frederick",
   "metadata": {},
   "outputs": [
    {
     "data": {
      "text/plain": [
       "#'chp3/d:dy"
      ]
     },
     "execution_count": 25,
     "metadata": {},
     "output_type": "execute_result"
    }
   ],
   "source": [
    "(def d:dx (first (coordinate-system->vector-basis R2-rect)))\n",
    "(def d:dy (second (coordinate-system->vector-basis R2-rect)))"
   ]
  },
  {
   "cell_type": "code",
   "execution_count": 30,
   "id": "eleven-stanley",
   "metadata": {
    "scrolled": true
   },
   "outputs": [
    {
     "data": {
      "text/plain": [
       "(+ (* (sqrt (+ (* x0 x0) (expt y0 2))) (/ 1 (* (sqrt (+ (* x0 x0) (expt y0 2))) 2)) (+ x0 x0)) (* (sqrt (+ (* x0 x0) (expt y0 2))) (/ 1 (* (sqrt (+ (* x0 x0) (expt y0 2))) 2)) (+ x0 x0)))"
      ]
     },
     "execution_count": 30,
     "metadata": {},
     "output_type": "execute_result"
    }
   ],
   "source": [
    ";; d:dx is a basis vector filed\n",
    ";; (square r) is a coordinate function (a manifold function)\n",
    ";; apply d:dx to (square r) gives another manifold function\n",
    ";; in this way, we can construct more general manifold functions\n",
    "\n",
    "(let-coordinates\n",
    " [[r theta] R2-polar]\n",
    " ((d:dx (square r)) R2-rect-point))"
   ]
  },
  {
   "cell_type": "code",
   "execution_count": 27,
   "id": "norwegian-extraction",
   "metadata": {},
   "outputs": [
    {
     "data": {
      "text/plain": [
       "\"2 x0\""
      ]
     },
     "execution_count": 27,
     "metadata": {},
     "output_type": "execute_result"
    }
   ],
   "source": [
    "(render *1)"
   ]
  },
  {
   "cell_type": "code",
   "execution_count": 28,
   "id": "respective-spectacular",
   "metadata": {},
   "outputs": [
    {
     "data": {
      "text/plain": [
       "(+ (* (sqrt (+ (* x0 x0) (expt y0 2))) (/ 1 (* (sqrt (+ (* x0 x0) (expt y0 2))) 2)) (+ x0 x0)) (* (sqrt (+ (* x0 x0) (expt y0 2))) (/ 1 (* (sqrt (+ (* x0 x0) (expt y0 2))) 2)) (+ x0 x0)) 3 (* 2 (+ (* (sqrt (+ (expt x0 2) (* y0 y0))) (/ 1 (* (sqrt (+ (expt x0 2) (* y0 y0))) 2)) (+ y0 y0)) (* (sqrt (+ (expt x0 2) (* y0 y0))) (/ 1 (* (sqrt (+ (expt x0 2) (* y0 y0))) 2)) (+ y0 y0)))))"
      ]
     },
     "execution_count": 28,
     "metadata": {},
     "output_type": "execute_result"
    }
   ],
   "source": [
    "(let-coordinates\n",
    " [[x y] R2-rect\n",
    "  [r theta] R2-polar]\n",
    " (((+ d:dx (* 2 d:dy)) (+ (square r) (* 3 x))) R2-rect-point))"
   ]
  },
  {
   "cell_type": "code",
   "execution_count": 29,
   "id": "shaped-consciousness",
   "metadata": {},
   "outputs": [
    {
     "data": {
      "text/plain": [
       "\"2 x0 + 4 y0 + 3\""
      ]
     },
     "execution_count": 29,
     "metadata": {},
     "output_type": "execute_result"
    }
   ],
   "source": [
    "(render *1)"
   ]
  },
  {
   "cell_type": "markdown",
   "id": "signal-level",
   "metadata": {},
   "source": [
    "### Coordinate Transformations\n",
    "- the basis elements transform _covariantly_ \n",
    "- the coefficients of a vector in terms of a basis transform _contravariantly_"
   ]
  },
  {
   "cell_type": "markdown",
   "id": "compressed-flesh",
   "metadata": {},
   "source": [
    "## 3.3. Integral Curves\n",
    "Notation explained:\n",
    "- $\\mathsf{v}$: a vector field on the manifold $\\mathsf{M}$\n",
    "- $\\gamma_{\\mathsf{m}}^{\\mathsf{v}}: \\mathsf{R} \\rightarrow \\mathsf{M}$ __integral curve__ is a parametric path on the manifold satisfying\n",
    "    - $D(\\mathsf{f} \\circ \\gamma_{\\mathsf{m}}^{\\mathsf{v}}) (t) = \\mathsf{v}(\\mathsf{f})(\\gamma_{\\mathsf{m}}^{\\mathsf{v}}(t)) = (\\mathsf{v}(\\mathsf{f}) \\circ \\gamma_{\\mathsf{m}}^{\\mathsf{v}}) (t)$\n",
    "    - $\\gamma_{\\mathsf{m}}^{\\mathsf{v}}(0) = \\mathsf{m}$\n",
    "- $\\phi_t^{\\mathsf{v}}(\\mathsf{m}) = \\gamma_{\\mathsf{m}}^{\\mathsf{v}} (t)$\n",
    "\n"
   ]
  },
  {
   "cell_type": "code",
   "execution_count": 46,
   "id": "unnecessary-province",
   "metadata": {},
   "outputs": [
    {
     "data": {
      "text/plain": [
       "#'chp3/circular"
      ]
     },
     "execution_count": 46,
     "metadata": {},
     "output_type": "execute_result"
    }
   ],
   "source": [
    ";; a convenient way to define a vector field\n",
    "(let-coordinates\n",
    " [[x y] R2-rect]\n",
    " (def circular (- (* d:dy x) (* d:dx y))))"
   ]
  },
  {
   "cell_type": "code",
   "execution_count": 47,
   "id": "every-authentication",
   "metadata": {},
   "outputs": [
    {
     "data": {
      "text/plain": [
       "(- (* d:dy #function[clojure.core/comp/fn--5807]) (* d:dx #function[clojure.core/comp/fn--5807]))"
      ]
     },
     "execution_count": 47,
     "metadata": {},
     "output_type": "execute_result"
    }
   ],
   "source": [
    "circular"
   ]
  },
  {
   "cell_type": "code",
   "execution_count": 48,
   "id": "recorded-overhead",
   "metadata": {},
   "outputs": [
    {
     "data": {
      "text/plain": [
       "((up 1 0) (up 0 t) (up (* 1/2 t t -1) 0) (up 0 (* 1/6 t t -1 t)) (up (* 1/24 t t -1 t t -1) 0) (up 0 (* 1/120 t t -1 t t -1 t)))"
      ]
     },
     "execution_count": 48,
     "metadata": {},
     "output_type": "execute_result"
    }
   ],
   "source": [
    ";; exponentiate the vector field, \n",
    ";; and generate an evolution in a circle around the origin starting at (1, 0)\n",
    "(take 6 \n",
    "      (seq\n",
    "       (((exp (* 't circular)) (chart R2-rect))\n",
    "        ((point R2-rect) (up 1 0)))))"
   ]
  },
  {
   "cell_type": "code",
   "execution_count": 49,
   "id": "wireless-guidance",
   "metadata": {},
   "outputs": [
    {
     "data": {
      "text/plain": [
       "\"up(1, 0)(up(0, t), up(-1/2 t², 0), up(0, -1/6 t³), up(1/24 t⁴, 0), up(0, 1/120 t⁵))\""
      ]
     },
     "execution_count": 49,
     "metadata": {},
     "output_type": "execute_result"
    }
   ],
   "source": [
    "(render *1)"
   ]
  },
  {
   "cell_type": "code",
   "execution_count": 61,
   "id": "scientific-graphic",
   "metadata": {},
   "outputs": [
    {
     "data": {
      "text/plain": [
       "(up (+ 1 (* 1/2 delta-t delta-t -1) (* 1/24 delta-t delta-t -1 delta-t delta-t -1) (* 1/720 delta-t delta-t -1 delta-t delta-t -1 delta-t delta-t -1)) (+ delta-t (* 1/6 delta-t delta-t -1 delta-t) (* 1/120 delta-t delta-t -1 delta-t delta-t -1 delta-t)))"
      ]
     },
     "execution_count": 61,
     "metadata": {},
     "output_type": "execute_result"
    }
   ],
   "source": [
    "((((evolution 6) 'delta-t circular) (chart R2-rect))\n",
    " ((point R2-rect) (up 1 0)))"
   ]
  },
  {
   "cell_type": "code",
   "execution_count": 62,
   "id": "interpreted-lafayette",
   "metadata": {},
   "outputs": [
    {
     "data": {
      "text/plain": [
       "\"up(-1/720 delta-t⁶ + 1/24 delta-t⁴ -1/2 delta-t² + 1, 1/120 delta-t⁵ -1/6 delta-t³ + delta-t)\""
      ]
     },
     "execution_count": 62,
     "metadata": {},
     "output_type": "execute_result"
    }
   ],
   "source": [
    "(render *1)"
   ]
  },
  {
   "cell_type": "markdown",
   "id": "macro-intro",
   "metadata": {},
   "source": [
    "### Ex. 3.1: State Derivatives"
   ]
  },
  {
   "cell_type": "markdown",
   "id": "tamil-flush",
   "metadata": {},
   "source": [
    "define manifold $R^5$ and the rectangular coordinate system"
   ]
  },
  {
   "cell_type": "code",
   "execution_count": 35,
   "id": "labeled-island",
   "metadata": {},
   "outputs": [
    {
     "data": {
      "text/plain": [
       "#'chp3/R5"
      ]
     },
     "execution_count": 35,
     "metadata": {},
     "output_type": "execute_result"
    }
   ],
   "source": [
    "(def R5 (make-manifold Rn 5))\n",
    "(def R5-rect (coordinate-system-at :rectangular :origin R5))"
   ]
  },
  {
   "cell_type": "markdown",
   "id": "collective-leone",
   "metadata": {},
   "source": [
    "get basis vector fields"
   ]
  },
  {
   "cell_type": "code",
   "execution_count": 39,
   "id": "acoustic-technical",
   "metadata": {},
   "outputs": [
    {
     "data": {
      "text/plain": [
       "(down d:dx0 d:dx1 d:dx2 d:dx3 d:dx4)"
      ]
     },
     "execution_count": 39,
     "metadata": {},
     "output_type": "execute_result"
    }
   ],
   "source": [
    "(coordinate-system->vector-basis R5-rect)"
   ]
  },
  {
   "cell_type": "code",
   "execution_count": 37,
   "id": "mental-permission",
   "metadata": {
    "scrolled": false
   },
   "outputs": [
    {
     "data": {
      "text/plain": [
       "#'chp3/R5-rect-vector-basis"
      ]
     },
     "execution_count": 37,
     "metadata": {},
     "output_type": "execute_result"
    }
   ],
   "source": []
  },
  {
   "cell_type": "code",
   "execution_count": 79,
   "id": "adapted-person",
   "metadata": {},
   "outputs": [
    {
     "data": {
      "text/plain": [
       "#'chp3/d:dx4"
      ]
     },
     "execution_count": 79,
     "metadata": {},
     "output_type": "execute_result"
    }
   ],
   "source": [
    "(def d:dx0 (nth (coordinate-system->vector-basis R5-rect) 0))\n",
    "(def d:dx1 (nth (coordinate-system->vector-basis R5-rect) 1))\n",
    "(def d:dx2 (nth (coordinate-system->vector-basis R5-rect) 2))\n",
    "(def d:dx3 (nth (coordinate-system->vector-basis R5-rect) 3))\n",
    "(def d:dx4 (nth (coordinate-system->vector-basis R5-rect) 4))"
   ]
  },
  {
   "cell_type": "code",
   "execution_count": 80,
   "id": "municipal-bikini",
   "metadata": {},
   "outputs": [
    {
     "data": {
      "text/plain": [
       "#'chp3/A_y"
      ]
     },
     "execution_count": 80,
     "metadata": {},
     "output_type": "execute_result"
    }
   ],
   "source": [
    "(def A_x (literal-function 'A_x R2->R))\n",
    "(def A_y (literal-function 'A_y R2->R))"
   ]
  },
  {
   "cell_type": "code",
   "execution_count": 81,
   "id": "statutory-pennsylvania",
   "metadata": {},
   "outputs": [
    {
     "data": {
      "text/plain": [
       "#'chp3/R5-vector-field"
      ]
     },
     "execution_count": 81,
     "metadata": {},
     "output_type": "execute_result"
    }
   ],
   "source": [
    "(let-coordinates\n",
    " [[t x y v_x v_y] R5-rect]\n",
    " (def R5-vector-field\n",
    "     (+ d:dx0\n",
    "        (* d:dx1 v_x)\n",
    "        (* d:dx2 v_y)\n",
    "        (* d:dx3 (compose A_x (up x y)))\n",
    "        (* d:dx4 (compose A_y (up x y))))))"
   ]
  },
  {
   "cell_type": "code",
   "execution_count": 82,
   "id": "elegant-jaguar",
   "metadata": {},
   "outputs": [
    {
     "data": {
      "text/plain": [
       "((up 1 1 2 0 0) (up t 0 0 (* t (A_x (up 1 2))) (* t (A_y (up 1 2)))) (up 0 (* 1/2 t (A_x (up 1 2)) t) (* 1/2 t (A_y (up 1 2)) t) 0 0) (up 0 0 0 (* 1/6 t (+ (* (A_x (up 1 2)) t t (((partial 0) A_x) (up 1 2))) (* (A_y (up 1 2)) t t (((partial 1) A_x) (up 1 2))))) (* 1/6 t (+ (* (A_x (up 1 2)) t t (((partial 0) A_y) (up 1 2))) (* (A_y (up 1 2)) t t (((partial 1) A_y) (up 1 2)))))))"
      ]
     },
     "execution_count": 82,
     "metadata": {},
     "output_type": "execute_result"
    }
   ],
   "source": [
    "(take 4\n",
    "      (seq\n",
    "       (((exp (* 't R5-vector-field)) (chart R5-rect))\n",
    "        ((point R5-rect) (up 1 1 2 0 0)))))"
   ]
  },
  {
   "cell_type": "code",
   "execution_count": 83,
   "id": "electoral-mixer",
   "metadata": {},
   "outputs": [
    {
     "data": {
      "text/plain": [
       "\"up(1, 1, 2, 0, 0)(up(t, 0, 0, t A_x(up(1, 2)), t A_y(up(1, 2))), up(0, 1/2 t² A_x(up(1, 2)), 1/2 t² A_y(up(1, 2)), 0, 0), up(0, 0, 0, 1/6 t³ A_x(up(1, 2)) ∂₀A_x(up(1, 2)) + 1/6 t³ A_y(up(1, 2)) ∂₁A_x(up(1, 2)), 1/6 t³ A_x(up(1, 2)) ∂₀A_y(up(1, 2)) + 1/6 t³ A_y(up(1, 2)) ∂₁A_y(up(1, 2))))\""
      ]
     },
     "execution_count": 83,
     "metadata": {},
     "output_type": "execute_result"
    }
   ],
   "source": [
    "(render *1)"
   ]
  },
  {
   "cell_type": "markdown",
   "id": "blocked-value",
   "metadata": {},
   "source": [
    "We can also get the vector field by inner product, so that we don't have to name those basis vector fields"
   ]
  },
  {
   "cell_type": "code",
   "execution_count": 86,
   "id": "current-exhibition",
   "metadata": {},
   "outputs": [
    {
     "data": {
      "text/plain": [
       "#'chp3/R5-rect-vector-basis"
      ]
     },
     "execution_count": 86,
     "metadata": {},
     "output_type": "execute_result"
    }
   ],
   "source": [
    "(def R5-rect-vector-basis (coordinate-system->vector-basis R5-rect))"
   ]
  },
  {
   "cell_type": "code",
   "execution_count": 87,
   "id": "satisfactory-rover",
   "metadata": {},
   "outputs": [
    {
     "data": {
      "text/plain": [
       "#'chp3/R5-vector-field2"
      ]
     },
     "execution_count": 87,
     "metadata": {},
     "output_type": "execute_result"
    }
   ],
   "source": [
    "(let-coordinates\n",
    " [[t x y v_x v_y] R5-rect]\n",
    " (def R5-vector-field-coefs\n",
    "     (up 1\n",
    "         v_x\n",
    "         v_y\n",
    "         (compose A_x (up x y))\n",
    "         (compose A_y (up x y))))\n",
    " (def R5-vector-field2\n",
    "     (* R5-rect-vector-basis R5-vector-field-coefs)))"
   ]
  },
  {
   "cell_type": "code",
   "execution_count": 88,
   "id": "polished-knock",
   "metadata": {},
   "outputs": [
    {
     "data": {
      "text/plain": [
       "((up 1 1 2 0 0) (up t 0 0 (* t (A_x (up 1 2))) (* t (A_y (up 1 2)))) (up 0 (* 1/2 t (A_x (up 1 2)) t) (* 1/2 t (A_y (up 1 2)) t) 0 0) (up 0 0 0 (* 1/6 t (+ (* (A_x (up 1 2)) t t (((partial 0) A_x) (up 1 2))) (* (A_y (up 1 2)) t t (((partial 1) A_x) (up 1 2))))) (* 1/6 t (+ (* (A_x (up 1 2)) t t (((partial 0) A_y) (up 1 2))) (* (A_y (up 1 2)) t t (((partial 1) A_y) (up 1 2)))))))"
      ]
     },
     "execution_count": 88,
     "metadata": {},
     "output_type": "execute_result"
    }
   ],
   "source": [
    "(take 4\n",
    "      (seq\n",
    "       (((exp (* 't R5-vector-field2)) (chart R5-rect))\n",
    "        ((point R5-rect) (up 1 1 2 0 0)))))"
   ]
  },
  {
   "cell_type": "code",
   "execution_count": 89,
   "id": "urban-giving",
   "metadata": {},
   "outputs": [
    {
     "data": {
      "text/plain": [
       "\"up(1, 1, 2, 0, 0)(up(t, 0, 0, t A_x(up(1, 2)), t A_y(up(1, 2))), up(0, 1/2 t² A_x(up(1, 2)), 1/2 t² A_y(up(1, 2)), 0, 0), up(0, 0, 0, 1/6 t³ A_x(up(1, 2)) ∂₀A_x(up(1, 2)) + 1/6 t³ A_y(up(1, 2)) ∂₁A_x(up(1, 2)), 1/6 t³ A_x(up(1, 2)) ∂₀A_y(up(1, 2)) + 1/6 t³ A_y(up(1, 2)) ∂₁A_y(up(1, 2))))\""
      ]
     },
     "execution_count": 89,
     "metadata": {},
     "output_type": "execute_result"
    }
   ],
   "source": [
    "(render *1)"
   ]
  },
  {
   "cell_type": "markdown",
   "id": "passing-witness",
   "metadata": {},
   "source": [
    "### 3.5 Coordinate-Basis One-Form Fields"
   ]
  },
  {
   "cell_type": "code",
   "execution_count": 91,
   "id": "focal-placement",
   "metadata": {},
   "outputs": [
    {
     "data": {
      "text/plain": [
       "#'chp3/R2->R"
      ]
     },
     "execution_count": 91,
     "metadata": {},
     "output_type": "execute_result"
    }
   ],
   "source": [
    "(def R2->R '(-> (UP Real Real) Real))"
   ]
  },
  {
   "cell_type": "code",
   "execution_count": 92,
   "id": "biblical-capital",
   "metadata": {},
   "outputs": [
    {
     "data": {
      "text/plain": [
       "#'chp3/omega"
      ]
     },
     "execution_count": 92,
     "metadata": {},
     "output_type": "execute_result"
    }
   ],
   "source": [
    "(def omega \n",
    "    (components->oneform-field\n",
    "     (down (literal-function 'a_0 R2->R)\n",
    "           (literal-function 'a_1 R2->R))\n",
    "     R2-rect))"
   ]
  },
  {
   "cell_type": "code",
   "execution_count": 95,
   "id": "manual-complement",
   "metadata": {},
   "outputs": [
    {
     "data": {
      "text/plain": [
       "(a_0 (up x0 y0))"
      ]
     },
     "execution_count": 95,
     "metadata": {},
     "output_type": "execute_result"
    }
   ],
   "source": [
    "((omega d:dx) R2-rect-point)"
   ]
  },
  {
   "cell_type": "code",
   "execution_count": 96,
   "id": "scientific-biography",
   "metadata": {},
   "outputs": [
    {
     "data": {
      "text/plain": [
       "(down (a_0 (up x0 y0)) (a_1 (up x0 y0)))"
      ]
     },
     "execution_count": 96,
     "metadata": {},
     "output_type": "execute_result"
    }
   ],
   "source": [
    "((omega (down d:dx d:dy)) R2-rect-point)"
   ]
  },
  {
   "cell_type": "code",
   "execution_count": 97,
   "id": "dynamic-success",
   "metadata": {},
   "outputs": [
    {
     "data": {
      "text/plain": [
       "#'chp3/omega2"
      ]
     },
     "execution_count": 97,
     "metadata": {},
     "output_type": "execute_result"
    }
   ],
   "source": [
    "(def omega2 (literal-oneform-field 'a R2-rect))"
   ]
  },
  {
   "cell_type": "code",
   "execution_count": 101,
   "id": "romance-concert",
   "metadata": {},
   "outputs": [
    {
     "data": {
      "text/plain": [
       "(down (((partial 0) f-rect) (up x0 y0)) (((partial 1) f-rect) (up x0 y0)))"
      ]
     },
     "execution_count": 101,
     "metadata": {},
     "output_type": "execute_result"
    }
   ],
   "source": [
    "(((d (literal-manifold-function 'f-rect R2-rect))\n",
    "  (coordinate-system->vector-basis R2-rect))\n",
    " R2-rect-point)"
   ]
  },
  {
   "cell_type": "code",
   "execution_count": 103,
   "id": "friendly-perth",
   "metadata": {},
   "outputs": [
    {
     "data": {
      "text/plain": [
       "(down (+ (* (((partial 0) f-polar) (up (sqrt (+ (* r (cos theta) r (cos theta)) (expt (* r (sin theta)) 2))) (atan (* r (sin theta)) (* r (cos theta))))) (/ 1 (* (sqrt (+ (* r (cos theta) r (cos theta)) (expt (* r (sin theta)) 2))) 2)) (+ (* r (cos theta)) (* r (cos theta)))) (* (((partial 1) f-polar) (up (sqrt (+ (* r (cos theta) r (cos theta)) (expt (* r (sin theta)) 2))) (atan (* r (sin theta)) (* r (cos theta))))) (/ (- (* r (sin theta))) (+ (expt (* r (cos theta)) 2) (expt (* r (sin theta)) 2))))) (+ (* (((partial 0) f-polar) (up (sqrt (+ (expt (* r (cos theta)) 2) (* r (sin theta) r (sin theta)))) (atan (* r (sin theta)) (* r (cos theta))))) (/ 1 (* (sqrt (+ (expt (* r (cos theta)) 2) (* r (sin theta) r (sin theta)))) 2)) (+ (* r (sin theta)) (* r (sin theta)))) (* (((partial 1) f-polar) (up (sqrt (+ (expt (* r (cos theta)) 2) (* r (sin theta) r (sin theta)))) (atan (* r (sin theta)) (* r (cos theta))))) (/ (* r (cos theta)) (+ (expt (* r (cos theta)) 2) (expt (* r (sin theta)) 2))))))"
      ]
     },
     "execution_count": 103,
     "metadata": {},
     "output_type": "execute_result"
    }
   ],
   "source": [
    "(((d (literal-manifold-function 'f-polar R2-polar))\n",
    "  (coordinate-system->vector-basis R2-rect))\n",
    " ((point R2-polar) (up 'r 'theta)))"
   ]
  },
  {
   "cell_type": "code",
   "execution_count": 104,
   "id": "blocked-equation",
   "metadata": {},
   "outputs": [
    {
     "data": {
      "text/plain": [
       "\"down((r cos(theta) ∂₀f-polar(up(r, theta)) - sin(theta) ∂₁f-polar(up(r, theta))) / r, (r sin(theta) ∂₀f-polar(up(r, theta)) + cos(theta) ∂₁f-polar(up(r, theta))) / r)\""
      ]
     },
     "execution_count": 104,
     "metadata": {},
     "output_type": "execute_result"
    }
   ],
   "source": [
    "(render *1)"
   ]
  },
  {
   "cell_type": "markdown",
   "id": "ultimate-power",
   "metadata": {},
   "source": [
    "duality of the coordinate-basis vector fields and the coordinate-basis one-form fields"
   ]
  },
  {
   "cell_type": "code",
   "execution_count": 114,
   "id": "acute-result",
   "metadata": {},
   "outputs": [
    {
     "data": {
      "text/plain": [
       "0"
      ]
     },
     "execution_count": 114,
     "metadata": {},
     "output_type": "execute_result"
    }
   ],
   "source": [
    "(let-coordinates\n",
    " [[x y] R2-rect]\n",
    " ((dx d:dy) R2-rect-point))"
   ]
  },
  {
   "cell_type": "code",
   "execution_count": 115,
   "id": "unlikely-peace",
   "metadata": {},
   "outputs": [
    {
     "data": {
      "text/plain": [
       "1"
      ]
     },
     "execution_count": 115,
     "metadata": {},
     "output_type": "execute_result"
    }
   ],
   "source": [
    "(let-coordinates\n",
    " [[x y] R2-rect]\n",
    " ((dx d:dx) R2-rect-point))"
   ]
  },
  {
   "cell_type": "markdown",
   "id": "proof-locator",
   "metadata": {},
   "source": [
    "use coordinate-basis one-form fields to find the coefficients of vector fields in the coresponding coordinate vector-field basis. Here we basically get the coefficient functions evaluated at an arbitrary point."
   ]
  },
  {
   "cell_type": "code",
   "execution_count": 116,
   "id": "threaded-intention",
   "metadata": {},
   "outputs": [
    {
     "data": {
      "text/plain": [
       "(- y0)"
      ]
     },
     "execution_count": 116,
     "metadata": {},
     "output_type": "execute_result"
    }
   ],
   "source": [
    "(let-coordinates\n",
    " [[x y] R2-rect]\n",
    " ((dx circular) R2-rect-point))"
   ]
  },
  {
   "cell_type": "code",
   "execution_count": 117,
   "id": "anticipated-message",
   "metadata": {},
   "outputs": [
    {
     "data": {
      "text/plain": [
       "x0"
      ]
     },
     "execution_count": 117,
     "metadata": {},
     "output_type": "execute_result"
    }
   ],
   "source": [
    "(let-coordinates\n",
    " [[x y] R2-rect]\n",
    " ((dy circular) R2-rect-point))"
   ]
  },
  {
   "cell_type": "code",
   "execution_count": 119,
   "id": "endless-instrumentation",
   "metadata": {},
   "outputs": [
    {
     "data": {
      "text/plain": [
       "(- (* d:dy #function[clojure.core/comp/fn--5807]) (* d:dx #function[clojure.core/comp/fn--5807]))"
      ]
     },
     "execution_count": 119,
     "metadata": {},
     "output_type": "execute_result"
    }
   ],
   "source": [
    ";; remember how the circular function is defined\n",
    "circular"
   ]
  },
  {
   "cell_type": "markdown",
   "id": "approved-syndication",
   "metadata": {},
   "source": [
    "find coefficients on the polar vector basis."
   ]
  },
  {
   "cell_type": "code",
   "execution_count": 120,
   "id": "removed-vintage",
   "metadata": {},
   "outputs": [
    {
     "data": {
      "text/plain": [
       "(- (* x0 (/ 1 (* (sqrt (+ (expt x0 2) (* y0 y0))) 2)) (+ y0 y0)) (* y0 (/ 1 (* (sqrt (+ (* x0 x0) (expt y0 2))) 2)) (+ x0 x0)))"
      ]
     },
     "execution_count": 120,
     "metadata": {},
     "output_type": "execute_result"
    }
   ],
   "source": [
    "(let-coordinates\n",
    " [[r theta] R2-polar]\n",
    " ((dr circular) R2-rect-point))"
   ]
  },
  {
   "cell_type": "code",
   "execution_count": 121,
   "id": "known-building",
   "metadata": {},
   "outputs": [
    {
     "data": {
      "text/plain": [
       "\"0\""
      ]
     },
     "execution_count": 121,
     "metadata": {},
     "output_type": "execute_result"
    }
   ],
   "source": [
    "(render *1)"
   ]
  },
  {
   "cell_type": "code",
   "execution_count": 122,
   "id": "subsequent-child",
   "metadata": {},
   "outputs": [
    {
     "data": {
      "text/plain": [
       "(- (* x0 (/ x0 (+ (expt x0 2) (expt y0 2)))) (* y0 (/ (- y0) (+ (expt x0 2) (expt y0 2)))))"
      ]
     },
     "execution_count": 122,
     "metadata": {},
     "output_type": "execute_result"
    }
   ],
   "source": [
    "(let-coordinates\n",
    " [[r theta] R2-polar]\n",
    " ((dtheta circular) R2-rect-point))"
   ]
  },
  {
   "cell_type": "code",
   "execution_count": 123,
   "id": "boring-perth",
   "metadata": {},
   "outputs": [
    {
     "data": {
      "text/plain": [
       "\"1\""
      ]
     },
     "execution_count": 123,
     "metadata": {},
     "output_type": "execute_result"
    }
   ],
   "source": [
    "(render *1)"
   ]
  },
  {
   "cell_type": "code",
   "execution_count": 126,
   "id": "plain-remark",
   "metadata": {},
   "outputs": [
    {
     "data": {
      "text/plain": [
       "(- (- (* x0 (((partial 1) f-rect) (up x0 y0))) (* y0 (((partial 0) f-rect) (up x0 y0)))) (+ (* (((partial 0) f-rect) (up (* (sqrt (+ (expt x0 2) (expt y0 2))) (cos (atan y0 x0))) (* (sqrt (+ (expt x0 2) (expt y0 2))) (sin (atan y0 x0))))) (sqrt (+ (expt x0 2) (expt y0 2))) (- (sin (atan y0 x0)))) (* (((partial 1) f-rect) (up (* (sqrt (+ (expt x0 2) (expt y0 2))) (cos (atan y0 x0))) (* (sqrt (+ (expt x0 2) (expt y0 2))) (sin (atan y0 x0))))) (sqrt (+ (expt x0 2) (expt y0 2))) (cos (atan y0 x0)))))"
      ]
     },
     "execution_count": 126,
     "metadata": {},
     "output_type": "execute_result"
    }
   ],
   "source": [
    "(def f (literal-manifold-function 'f-rect R2-rect))\n",
    "(let-coordinates\n",
    " [[r theta] R2-polar]\n",
    " (((- circular d:dtheta) f) R2-rect-point))"
   ]
  },
  {
   "cell_type": "code",
   "execution_count": 127,
   "id": "retired-relationship",
   "metadata": {},
   "outputs": [
    {
     "data": {
      "text/plain": [
       "\"0\""
      ]
     },
     "execution_count": 127,
     "metadata": {},
     "output_type": "execute_result"
    }
   ],
   "source": [
    "(render *1)"
   ]
  },
  {
   "cell_type": "markdown",
   "id": "expressed-offering",
   "metadata": {},
   "source": [
    "### Coordinate Transformations"
   ]
  },
  {
   "cell_type": "code",
   "execution_count": 129,
   "id": "hydraulic-brook",
   "metadata": {},
   "outputs": [
    {
     "data": {
      "text/plain": [
       "#'chp3/v"
      ]
     },
     "execution_count": 129,
     "metadata": {},
     "output_type": "execute_result"
    }
   ],
   "source": [
    "(def omega (literal-oneform-field 'a R2-rect))\n",
    "(def v (literal-vector-field 'b R2-rect))"
   ]
  },
  {
   "cell_type": "code",
   "execution_count": 130,
   "id": "infrared-violation",
   "metadata": {},
   "outputs": [
    {
     "data": {
      "text/plain": [
       "(+ (* (a_0 (up x0 y0)) (b↑0 (up x0 y0))) (* (a_1 (up x0 y0)) (b↑1 (up x0 y0))))"
      ]
     },
     "execution_count": 130,
     "metadata": {},
     "output_type": "execute_result"
    }
   ],
   "source": [
    "((omega v) R2-rect-point)"
   ]
  },
  {
   "cell_type": "markdown",
   "id": "waiting-reggae",
   "metadata": {},
   "source": [
    "### Ex3.2: Verification\n",
    "Verify that the coefficients of a one-form field transform as described in equation (3.56). You should use equation (3.44) in your derivation.\n",
    "\n",
    "__Solution__: We use the transform between rectangular coordinate system and polar coordinate system in $R_2$ to verigy equation (3.56)"
   ]
  },
  {
   "cell_type": "code",
   "execution_count": 177,
   "id": "standard-conversion",
   "metadata": {},
   "outputs": [
    {
     "data": {
      "text/plain": [
       "#'chp3/a1"
      ]
     },
     "execution_count": 177,
     "metadata": {},
     "output_type": "execute_result"
    }
   ],
   "source": [
    ";; this is essentially Eqn. 3.44 for system 1\n",
    "(let-coordinates\n",
    " [[x y] R2-rect]\n",
    " (def a1 ((omega (down d:dx d:dy)) R2-rect-point)))"
   ]
  },
  {
   "cell_type": "code",
   "execution_count": 179,
   "id": "detailed-detail",
   "metadata": {},
   "outputs": [
    {
     "data": {
      "text/plain": [
       "\"down(a₀(up(x0, y0)), a₁(up(x0, y0)))\""
      ]
     },
     "execution_count": 179,
     "metadata": {},
     "output_type": "execute_result"
    }
   ],
   "source": [
    "(render a1)"
   ]
  },
  {
   "cell_type": "code",
   "execution_count": 178,
   "id": "current-victim",
   "metadata": {},
   "outputs": [
    {
     "data": {
      "text/plain": [
       "#'chp3/a2"
      ]
     },
     "execution_count": 178,
     "metadata": {},
     "output_type": "execute_result"
    }
   ],
   "source": [
    ";; this is essentially Eqn. 3.44 for system 2\n",
    "(let-coordinates\n",
    " [[r theta] R2-polar]\n",
    " (def a2 ((omega (down d:dr d:dtheta)) R2-rect-point)))"
   ]
  },
  {
   "cell_type": "code",
   "execution_count": 162,
   "id": "amazing-triangle",
   "metadata": {},
   "outputs": [
    {
     "data": {
      "text/plain": [
       "\"down((x0 a₀(up(x0, y0)) + y0 a₁(up(x0, y0))) / sqrt(x0² + y0²), x0 a₁(up(x0, y0)) - y0 a₀(up(x0, y0)))\""
      ]
     },
     "execution_count": 162,
     "metadata": {},
     "output_type": "execute_result"
    }
   ],
   "source": [
    "(render a2)"
   ]
  },
  {
   "cell_type": "markdown",
   "id": "seeing-glossary",
   "metadata": {},
   "source": [
    "We get the jacobian evaluated at an arbitrary point $D(\\chi_1 \\circ (\\chi_2)^{-1}) \\circ (\\chi_2) (\\mathsf{m})$"
   ]
  },
  {
   "cell_type": "code",
   "execution_count": 164,
   "id": "wicked-forth",
   "metadata": {
    "scrolled": true
   },
   "outputs": [
    {
     "data": {
      "text/plain": [
       "#'chp3/jacobian"
      ]
     },
     "execution_count": 164,
     "metadata": {},
     "output_type": "execute_result"
    }
   ],
   "source": [
    "(def jacobian\n",
    "    ((compose (D (compose (chart R2-rect) (point R2-polar))) \n",
    "              (chart R2-polar))\n",
    "     R2-rect-point))"
   ]
  },
  {
   "cell_type": "code",
   "execution_count": 180,
   "id": "union-billion",
   "metadata": {},
   "outputs": [
    {
     "data": {
      "text/plain": [
       "\"down(up(x0 / sqrt(x0² + y0²), y0 / sqrt(x0² + y0²)), up(- y0, x0))\""
      ]
     },
     "execution_count": 180,
     "metadata": {},
     "output_type": "execute_result"
    }
   ],
   "source": [
    "(render jacobian)"
   ]
  },
  {
   "cell_type": "code",
   "execution_count": 168,
   "id": "enormous-profile",
   "metadata": {
    "scrolled": false
   },
   "outputs": [
    {
     "data": {
      "text/plain": [
       "(down 0 0)"
      ]
     },
     "execution_count": 168,
     "metadata": {},
     "output_type": "execute_result"
    }
   ],
   "source": [
    ";; this is essentially verifying Eqn. (3.55)\n",
    "(- a2 (* a1 jacobian))"
   ]
  },
  {
   "cell_type": "code",
   "execution_count": 175,
   "id": "toxic-firewall",
   "metadata": {},
   "outputs": [
    {
     "data": {
      "text/plain": [
       "(down (- (a_0 (up x0 y0)) (+ (* (+ (* (a_0 (up x0 y0)) (cos (atan y0 x0))) (* (a_1 (up x0 y0)) (sin (atan y0 x0)))) (/ (* (sqrt (+ (expt x0 2) (expt y0 2))) (cos (atan y0 x0))) (+ (* (cos (atan y0 x0)) (sqrt (+ (expt x0 2) (expt y0 2))) (cos (atan y0 x0))) (* (sqrt (+ (expt x0 2) (expt y0 2))) (- (sin (atan y0 x0))) (- (sin (atan y0 x0))))))) (* (+ (* (a_0 (up x0 y0)) (sqrt (+ (expt x0 2) (expt y0 2))) (- (sin (atan y0 x0)))) (* (a_1 (up x0 y0)) (sqrt (+ (expt x0 2) (expt y0 2))) (cos (atan y0 x0)))) (/ (- (sin (atan y0 x0))) (+ (* (cos (atan y0 x0)) (sqrt (+ (expt x0 2) (expt y0 2))) (cos (atan y0 x0))) (* (sqrt (+ (expt x0 2) (expt y0 2))) (- (sin (atan y0 x0))) (- (sin (atan y0 x0))))))))) (- (a_1 (up x0 y0)) (+ (* (+ (* (a_0 (up x0 y0)) (cos (atan y0 x0))) (* (a_1 (up x0 y0)) (sin (atan y0 x0)))) (/ (- (* (sqrt (+ (expt x0 2) (expt y0 2))) (- (sin (atan y0 x0))))) (+ (* (cos (atan y0 x0)) (sqrt (+ (expt x0 2) (expt y0 2))) (cos (atan y0 x0))) (* (sqrt (+ (expt x0 2) (expt y0 2))) (- (sin (atan y0 x0))) (- (sin (atan y0 x0))))))) (* (+ (* (a_0 (up x0 y0)) (sqrt (+ (expt x0 2) (expt y0 2))) (- (sin (atan y0 x0)))) (* (a_1 (up x0 y0)) (sqrt (+ (expt x0 2) (expt y0 2))) (cos (atan y0 x0)))) (/ (cos (atan y0 x0)) (+ (* (cos (atan y0 x0)) (sqrt (+ (expt x0 2) (expt y0 2))) (cos (atan y0 x0))) (* (sqrt (+ (expt x0 2) (expt y0 2))) (- (sin (atan y0 x0))) (- (sin (atan y0 x0))))))))))"
      ]
     },
     "execution_count": 175,
     "metadata": {},
     "output_type": "execute_result"
    }
   ],
   "source": [
    ";; this is essentially verifying Eqn. (3.56)\n",
    "(- a1 (* a2 (/ 1 jacobian)))"
   ]
  },
  {
   "cell_type": "code",
   "execution_count": 176,
   "id": "adapted-garage",
   "metadata": {},
   "outputs": [
    {
     "data": {
      "text/plain": [
       "\"down(0, 0)\""
      ]
     },
     "execution_count": 176,
     "metadata": {},
     "output_type": "execute_result"
    }
   ],
   "source": [
    "(render *1)"
   ]
  },
  {
   "cell_type": "markdown",
   "id": "mechanical-colleague",
   "metadata": {},
   "source": [
    "### Ex 3.3 Hill Climbing\n",
    "- The topography of a region on the Earth can be specified by a manifold function $\\mathsf{h}$ that gives the altitude at each point on the manifold. \n",
    "- Let $\\mathsf{v}$ be a vector field on the manifold, specifying a direction and rate of walking at every point on the manifold\n",
    "\n",
    "__a.__ Form an expression that gives the power that must be expended to follow the vector field at each point. \n",
    "\n",
    "__Solution:__ for a mass $m$ and the standard gravity $g$ the manifold function $mg\\cdot\\mathsf{v} (\\mathsf{h})$ gives the required power at each point. This is because $\\mathsf{v} (\\mathsf{h})$ gives the rate of change of height as one moves in the way described by the vector field (see Section 3.4.)\n",
    "\n",
    "__b.__ Write this as a computational expression.\n",
    "\n",
    "__Solution:__"
   ]
  },
  {
   "cell_type": "code",
   "execution_count": 182,
   "id": "everyday-kenya",
   "metadata": {},
   "outputs": [
    {
     "data": {
      "text/plain": [
       "#object[sicmutils.calculus.manifold$__GT_Stereographic$ctor$reify__20810 0x2ca95893 \"sicmutils.calculus.manifold$__GT_Stereographic$ctor$reify__20810@2ca95893\"]"
      ]
     },
     "execution_count": 182,
     "metadata": {},
     "output_type": "execute_result"
    }
   ],
   "source": [
    "(point S2-Riemann)"
   ]
  },
  {
   "cell_type": "code",
   "execution_count": 183,
   "id": "fitting-jewel",
   "metadata": {},
   "outputs": [
    {
     "data": {
      "text/plain": [
       "#'chp3/v"
      ]
     },
     "execution_count": 183,
     "metadata": {},
     "output_type": "execute_result"
    }
   ],
   "source": [
    ";; a literal vector field\n",
    "(def v\n",
    "    (literal-vector-field 'b S2-Riemann))"
   ]
  },
  {
   "cell_type": "code",
   "execution_count": 184,
   "id": "rising-society",
   "metadata": {},
   "outputs": [
    {
     "data": {
      "text/plain": [
       "#'chp3/h"
      ]
     },
     "execution_count": 184,
     "metadata": {},
     "output_type": "execute_result"
    }
   ],
   "source": [
    "(def h\n",
    "    (literal-manifold-function 'h S2-Riemann))"
   ]
  },
  {
   "cell_type": "code",
   "execution_count": 185,
   "id": "extreme-purpose",
   "metadata": {},
   "outputs": [
    {
     "data": {
      "text/plain": [
       "#'chp3/S2-Riemann-point"
      ]
     },
     "execution_count": 185,
     "metadata": {},
     "output_type": "execute_result"
    }
   ],
   "source": [
    "(def S2-Riemann-point ((point S2-Riemann) (up 'x0 'y0)))"
   ]
  },
  {
   "cell_type": "code",
   "execution_count": 189,
   "id": "comparative-rates",
   "metadata": {},
   "outputs": [
    {
     "data": {
      "text/plain": [
       "(* m g (+ (* (((partial 0) h) (up x0 y0)) (b↑0 (up x0 y0))) (* (((partial 1) h) (up x0 y0)) (b↑1 (up x0 y0)))))"
      ]
     },
     "execution_count": 189,
     "metadata": {},
     "output_type": "execute_result"
    }
   ],
   "source": [
    "(* 'm 'g ((v h) S2-Riemann-point))"
   ]
  },
  {
   "cell_type": "code",
   "execution_count": 190,
   "id": "devoted-medicare",
   "metadata": {},
   "outputs": [
    {
     "data": {
      "text/plain": [
       "\"g m b↑0(up(x0, y0)) ∂₀h(up(x0, y0)) + g m b↑1(up(x0, y0)) ∂₁h(up(x0, y0))\""
      ]
     },
     "execution_count": 190,
     "metadata": {},
     "output_type": "execute_result"
    }
   ],
   "source": [
    "(render *1)"
   ]
  },
  {
   "cell_type": "code",
   "execution_count": null,
   "id": "paperback-syria",
   "metadata": {},
   "outputs": [],
   "source": []
  }
 ],
 "metadata": {
  "kernelspec": {
   "display_name": "Clojure (clojupyter=0.3.2=1)",
   "language": "clojure",
   "name": "conda-clojupyter"
  },
  "language_info": {
   "file_extension": ".clj",
   "mimetype": "text/x-clojure",
   "name": "clojure",
   "version": "1.10.1"
  }
 },
 "nbformat": 4,
 "nbformat_minor": 5
}
