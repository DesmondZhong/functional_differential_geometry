{
 "cells": [
  {
   "cell_type": "code",
   "execution_count": 1,
   "id": "alike-german",
   "metadata": {},
   "outputs": [
    {
     "data": {
      "text/plain": [
       "#'chp7/render"
      ]
     },
     "execution_count": 1,
     "metadata": {},
     "output_type": "execute_result"
    }
   ],
   "source": [
    "(require '[clojupyter.misc.helper :as helper])\n",
    "(run! helper/add-dependencies '[[sicmutils \"0.18.0\"]])\n",
    "\n",
    "(ns chp7\n",
    "    (:refer-clojure :exclude [partial zero? + - * / ref compare =])\n",
    "    (:require [sicmutils.env :refer :all]\n",
    "              [sicmutils.value :as v]))\n",
    "(def render (comp ->infix simplify))"
   ]
  },
  {
   "cell_type": "markdown",
   "id": "supreme-validation",
   "metadata": {},
   "source": [
    "- the vector field is a generalization of the directional derivative to functions on a manifold. \n",
    "- we want to generalize the directional derivatives to other objects, such as vector fields or form fields.\n",
    "- There are several useful choices. Different choices will give different results for the rate of change of vector fields and form fields along integral curves, but all choices of directional derivative operators must agree when computing rates of change of functions along integral curves, i.e., when applied to functions, all firectional derivative operators give\n",
    "$$ \\mathcal{D}_{\\mathsf{v}}(\\mathsf{f}) = \\mathsf{v} (\\mathsf{f})$$"
   ]
  },
  {
   "cell_type": "markdown",
   "id": "academic-public",
   "metadata": {},
   "source": [
    "__the directional derivative of a vector field $\\mathsf{u}$ with respect to a vector field $\\mathsf{v}$. __\n",
    "- $\\gamma$: an integral curve of the vector field $\\mathsf{v}$, parametrized by $t$\n",
    "- $\\mathsf{m} = \\gamma (t)$\n",
    "- $\\mathsf{u}'$: a vector field that results from transporting the vector field $\\mathsf{u}$ along $\\gamma$ for a parameter increment $\\delta$.\n",
    "- How $\\mathsf{u}$ is transported to make $\\mathsf{u}'$ determines the type of derivative. \n",
    "- We formulate the method of transport by $\\mathsf{u}' = F_{\\delta}^{\\mathsf{v}} \\mathsf{u}$.\n",
    "- $F_{\\delta}^{\\mathsf{v}} \\mathsf{u}$ is a linear transformation over the reals on $\\mathsf{u}$, since we care about its behavior only in an incremental region around $\\delta=0$\n",
    "- $g(\\delta) = \\mathsf{u}(\\mathsf{f})(\\mathsf{m}) - (F_{\\delta}^{\\mathsf{v}} \\mathsf{u}) (\\mathsf{f})(\\mathsf{m})$: the comparison of the original vector field at a point with the transported vector field at that point. This is a scalar function!\n",
    "- we can compute the directional derivative operator using only ordinary derivatives\n",
    "$$ \\mathcal{D}_{\\mathsf{v}} \\mathsf{u}(\\mathsf{f})(\\mathsf{m}) = Dg(0)$$"
   ]
  },
  {
   "cell_type": "code",
   "execution_count": 4,
   "id": "agreed-happening",
   "metadata": {},
   "outputs": [
    {
     "data": {
      "text/plain": [
       "#'chp7/F->directional-derivative"
      ]
     },
     "execution_count": 4,
     "metadata": {},
     "output_type": "execute_result"
    }
   ],
   "source": [
    "(defn F->directional-derivative\n",
    "    [F]\n",
    "    (fn [v]\n",
    "        (fn [u]\n",
    "            (fn [f]\n",
    "                (fn [m]\n",
    "                    (let [g (fn [delta]\n",
    "                                (- ((u f) m) (((((F v) delta) u) f) m)))]\n",
    "                        ((D g) 0)))))))"
   ]
  },
  {
   "cell_type": "markdown",
   "id": "experienced-fiber",
   "metadata": {},
   "source": [
    "## 7.1 Lie Derivative\n",
    "### Functions\n",
    "$\\mathcal{L}_{\\mathsf{v}} \\mathsf{f} = \\mathsf{v}(\\mathsf{f})$\n",
    "### Vector Fields\n",
    "- choose transport operator $F_{\\delta}^{\\mathsf{v}} \\mathsf{y}$ to be the pushforward of $\\mathsf{y}$ along the integral curves of $\\mathsf{v}$, i.e. $F_{\\delta}^{\\mathsf{v}} \\mathsf{y} = (\\phi_{\\delta}^{\\mathsf{v}})_* \\mathsf{y}$\n",
    "- $(\\mathcal{L}_{\\mathsf{v}} \\mathsf{y}) (\\mathsf{f})(\\mathsf{m}) = D g(0)$, where $g(\\delta) = \\mathsf{y}(\\mathsf{f})(\\mathsf{m}) - ((\\phi_{\\delta}^{\\mathsf{v}})_* \\mathsf{y}) (\\mathsf{f})(\\mathsf{m})$\n"
   ]
  },
  {
   "cell_type": "code",
   "execution_count": 6,
   "id": "engaged-colleague",
   "metadata": {},
   "outputs": [
    {
     "data": {
      "text/plain": [
       "#'chp7/Lie-directional"
      ]
     },
     "execution_count": 6,
     "metadata": {},
     "output_type": "execute_result"
    }
   ],
   "source": [
    "(defn phi-0\n",
    "    [coordsys order]\n",
    "    (fn [v]\n",
    "        (fn [delta]\n",
    "            (fn [m]\n",
    "                ((point coordsys)\n",
    "                 (series:sum (((exp (* delta v)) (chart coordsys)) m)\n",
    "                             order))))))\n",
    "(defn F-Lie\n",
    "    [Phi]\n",
    "    (fn [v]\n",
    "        (fn [delta]\n",
    "            (pushforward-vector ((Phi v) delta) ((Phi v) (- delta))))))\n",
    "(defn Lie-directional\n",
    "    [coordsys order]\n",
    "    (let [Phi (phi-0 coordsys order)]\n",
    "        (F->directional-derivative (F-Lie Phi))))"
   ]
  },
  {
   "cell_type": "markdown",
   "id": "charming-berlin",
   "metadata": {},
   "source": [
    "- Remember, the pushforward of vector fields can be expressed as pullback and pushforward of manifold functions $(\\phi_{\\delta}^{\\mathsf{v}})_* \\mathsf{y} (\\mathsf{f})(\\mathsf{m}) = (\\mathsf{y} (\\mathsf{f} \\circ \\phi_{\\delta}^{\\mathsf{v}})) (\\phi_{-\\delta}^{\\mathsf{v}} (\\mathsf{m}))$\n",
    "- In fact, when $\\delta$ is small, we can approximate the pushforward of the vector field by first order approximation of pullback and pushforward fo manifold functions\n",
    "    - $\\mathsf{f} \\circ \\phi_{\\delta}^{\\mathsf{v}} = \\mathsf{f} + \\delta \\mathsf{v} (\\mathsf{f})$\n",
    "    - by viewing $\\mathsf{y} (\\mathsf{f} \\circ \\phi_{\\delta}^{\\mathsf{v}})$ as a manifold function, we can approximate the pushforward of it by \n",
    "    $$\n",
    "    \\begin{align}\n",
    "    \\mathsf{y} (\\mathsf{f} \\circ \\phi_{\\delta}^{\\mathsf{v}})\\circ \\phi_{-\\delta}^{\\mathsf{v}} &= \\mathsf{y} (\\mathsf{f} \\circ \\phi_{\\delta}^{\\mathsf{v}}) - \\delta \\mathsf{v} (\\mathsf{y} (\\mathsf{f} \\circ \\phi_{\\delta}^{\\mathsf{v}}))\\\\\n",
    "    &= \\mathsf{y} (\\mathsf{f} + \\delta \\mathsf{v} (\\mathsf{f})) - \\delta \\mathsf{v} (\\mathsf{y} (\\mathsf{f} + \\delta \\mathsf{v} (\\mathsf{f})))\n",
    "    \\end{align}$$\n",
    "- Now, it is not hard to see\n",
    "    $$ \\begin{align}\n",
    "    g(\\delta) &= \\mathsf{y}(\\mathsf{f})(\\mathsf{m}) - ((\\phi_{\\delta}^{\\mathsf{v}})_* \\mathsf{y}) (\\mathsf{f})(\\mathsf{m})\\\\\n",
    "    &= (-\\delta\\mathsf{y}(\\mathsf{v}(\\mathsf{f})) + \\delta \\mathsf{v}(\\mathsf{y}(\\mathsf{f}))) (\\mathsf{m}) + \\mathcal{O}(\\delta^2)\\\\\n",
    "    &= \\delta [\\mathsf{v}, \\mathsf{y}] (\\mathsf{f}) (\\mathsf{m}) + \\mathcal{O}(\\delta^2)\n",
    "    \\end{align}$$\n",
    "- the Lie derivative of a vector field $\\mathsf{y}$ w.r.t. a vector field $\\mathsf{v}$ is a vector field which is specified by the commutator.\n",
    "$$ (\\mathcal{L}_{\\mathsf{v}}\\mathsf{y}) (\\mathsf{f}) = [\\mathsf{v}, \\mathsf{y}] (\\mathsf{f})$$"
   ]
  },
  {
   "cell_type": "code",
   "execution_count": 8,
   "id": "south-roots",
   "metadata": {},
   "outputs": [
    {
     "data": {
      "text/plain": [
       "\"0\""
      ]
     },
     "execution_count": 8,
     "metadata": {},
     "output_type": "execute_result"
    }
   ],
   "source": [
    ";; verify the Lie derivative is the commutator in R3\n",
    "(def v (literal-vector-field 'v-rect R3-rect))\n",
    "(def w (literal-vector-field 'w-rect R3-rect))\n",
    "(def f (literal-manifold-function 'f-rect R3-rect))\n",
    "(render\n",
    " ((- ((((Lie-directional R3-rect 2) v) w) f)\n",
    "     ((commutator v w) f))\n",
    "  ((point R3-rect) (up 'x0 'y0 'z0))))"
   ]
  },
  {
   "cell_type": "code",
   "execution_count": 10,
   "id": "drawn-salem",
   "metadata": {},
   "outputs": [
    {
     "data": {
      "text/plain": [
       "#'chp7/Lie-derivative-vector"
      ]
     },
     "execution_count": 10,
     "metadata": {},
     "output_type": "execute_result"
    }
   ],
   "source": [
    "(defn Lie-derivative-vector\n",
    "    [V]\n",
    "    (fn [Y]\n",
    "        (commutator V Y)))"
   ]
  },
  {
   "cell_type": "markdown",
   "id": "historic-burner",
   "metadata": {},
   "source": [
    "$$\\begin{align}\n",
    "(\\mathcal{L}_{\\mathsf{v}}\\mathsf{y}) (\\mathsf{f}) &= [\\mathsf{v}, \\mathsf{y}] (\\mathsf{f}) \\\\\n",
    "&= \\mathsf{v}(\\mathsf{y}(\\mathsf{f})) - \\mathsf{y}(\\mathsf{v}(\\mathsf{f})) \\\\\n",
    "&= \\mathsf{v}(\\mathsf{y}(\\mathsf{f})) - \\mathsf{y}(\\mathcal{L}_{\\mathsf{v}}(\\mathsf{f}))\n",
    "\\end{align}$$"
   ]
  },
  {
   "cell_type": "markdown",
   "id": "promotional-twins",
   "metadata": {},
   "source": [
    "- $\\mathsf{v}(\\mathsf{y}(\\mathsf{f}))$ measures the rate of change of the manifold function $\\mathsf{y}(\\mathsf{f})$ along the integral curves of $\\mathsf{v}$\n",
    "- the change in $\\mathsf{y}(\\mathsf{f})$ is due to\n",
    "    1. the intrinsic change in $\\mathsf{y}$ along the curve\n",
    "    2. the change in $\\mathsf{f}$ along the curve: $\\mathsf{v}(\\mathsf{f})$\n",
    "- The second term in the commutator subtracts this latter quantity.\n",
    "- To better understand this perspective, let's analyze the changes with a small $\\delta$ along the curve\n",
    "    - the change in $\\mathsf{y}(\\mathsf{f})$ is $\\mathsf{y}(\\mathsf{f})(\\phi_{\\delta}^{\\mathsf{v}}(\\mathsf{m})) - \\mathsf{y}(\\mathsf{f})(\\mathsf{m}) = \\delta \\mathsf{v}(\\mathsf{y}(\\mathsf{f}))$\n",
    "    - a portion of the above change is due to the change of $\\mathsf{f}$ along the curve, which is $\\mathsf{y} (\\mathsf{f} \\circ \\phi_{\\delta}^{\\mathsf{v}} - \\mathsf{f}) (\\mathsf{m}) = \\delta \\mathsf{y} (\\mathsf{v}(\\mathsf{f}))$\n",
    "- our conclusion is that Lie derivative measures the intrinsic change in $\\mathsf{y}$ along the integral curves of $\\mathsf{v}$"
   ]
  },
  {
   "cell_type": "markdown",
   "id": "stretch-refrigerator",
   "metadata": {},
   "source": [
    "### An Alternative View\n",
    "- the directional derivative operators satisfy Leibniz's rule $\\mathcal{D}_{\\mathsf{v}} (\\mathsf{gu}) = \\mathsf{g} (\\mathcal{D}_{\\mathsf{v}} \\mathsf{u}) + (\\mathcal{D}_{\\mathsf{v}} \\mathsf{g}) \\mathsf{u}$\n",
    "- $\\mathsf{g}$: manifold function\n",
    "- $\\mathsf{u}$: a vector field\n",
    "- product rule of Lie derivative acting on the multiplication of manifold function and vector field\n",
    "$$\\begin{align}\n",
    "(\\mathcal{L}_{\\mathsf{v}}\\mathsf{gu}) (\\mathsf{f})\n",
    "&= [\\mathsf{v}, \\mathsf{gu}](\\mathsf{f}) \\\\\n",
    "&= \\mathsf{v}(\\mathsf{gu}(\\mathsf{f})) - \\mathsf{gu}(\\mathsf{v}(\\mathsf{f})) \\\\\n",
    "&= \\mathsf{v}(\\mathsf{g})\\mathsf{u}(\\mathsf{f})+\\mathsf{gv}(\\mathsf{u}(\\mathsf{f}))- \\mathsf{gu}(\\mathsf{v}(\\mathsf{f}))\\\\\n",
    "&= \\mathsf{v}(\\mathsf{g})\\mathsf{u}(\\mathsf{f}) + \\mathsf{g}[\\mathsf{v}, \\mathsf{u}](\\mathsf{f}) \\\\\n",
    "&= (\\mathcal{L}_{\\mathsf{v}}\\mathsf{g})\\mathsf{u}(\\mathsf{f}) + \\mathsf{g}(\\mathcal{L}_{\\mathsf{v}}\\mathsf{u}) (\\mathsf{f})\n",
    "\\end{align}$$\n",
    "- we express the vector field in terms of vector basis $\\mathsf{y}(\\mathsf{f}) = \\sum_{i} \\mathsf{y}^i \\mathsf{e}_i (\\mathsf{f})$\n",
    "- using the product rule , we have $\\mathcal{L}_{\\mathsf{v}}\\mathsf{y}(\\mathsf{f}) = \\sum_{i} \\big((\\mathcal{L}_{\\mathsf{v}}\\mathsf{y}^i)\\mathsf{e}_i(\\mathsf{f}) + \\mathsf{y}^i(\\mathcal{L}_{\\mathsf{v}}\\mathsf{e}_i) (\\mathsf{f})\\big)$\n",
    "- the Lie derivative of a vector field is also a vector field, we can extract the components of $\\mathcal{L}_{\\mathsf{v}}\\mathsf{e}_i$ using the dual basis. \n",
    "- define these components as $\\Delta_j^i (\\mathsf{v}) = \\tilde{\\mathsf{e}}^i (\\mathcal{L}_{\\mathsf{v}}\\mathsf{e}_j) = \\tilde{\\mathsf{e}}^i ([\\mathsf{v}, \\mathsf{e}_j])$\n",
    "- the Lie derivative can be written as $\\mathcal{L}_{\\mathsf{v}}\\mathsf{y}(\\mathsf{f}) = \\sum_{i} \\big((\\mathcal{L}_{\\mathsf{v}}\\mathsf{y}^i) + \\sum_j \\Delta_j^i (\\mathsf{v}) \\mathsf{y}^j(\\mathsf{f})\\big)\\mathsf{e}_i(\\mathsf{f})$"
   ]
  },
  {
   "cell_type": "markdown",
   "id": "indirect-carroll",
   "metadata": {},
   "source": [
    "### Form Fields\n",
    "- Extended Leibniz rule of directional derivative operators $\\mathcal{D}_{\\mathsf{v}}(\\omega (\\mathsf{y})) = \\omega (\\mathcal{D}_{\\mathsf{v}} \\mathsf{y}) + (\\mathcal{D}_{\\mathsf{v}}\\omega) (\\mathsf{y})$\n",
    "- We can then define the Lie derivative of a form field $\\omega$ w.r.t. the vector field $\\mathsf{v}$\n",
    "- $(\\mathcal{L}_{\\mathsf{v}}(\\omega))(\\mathsf{y}) = \\mathsf{v}(\\omega(\\mathsf{y})) - \\omega(\\mathcal{L}_{\\mathsf{v}}\\mathsf{y})$\n",
    "- the first term computes the range of change of the combination $\\omega(\\mathsf{y})$ along the integral curve of $\\mathsf{v}$.\n",
    "- the second term substracts $\\omega$ applied to the change in $\\mathsf{y}$\n",
    "- The equation can be generalized to the Lie derivative of a k-form field $\\omega$\n",
    "- $\\mathcal{L}_{\\mathsf{v}}\\omega(\\mathsf{w}_0, ..., \\mathsf{w}_{k-1}) = \\mathsf{v}(\\omega(\\mathsf{w}_0, ..., \\mathsf{w}_{k-1})) - \\sum_{i=0}^{k-1} \\omega(\\mathsf{w}_0, ..., \\mathcal{L}_{\\mathsf{v}}\\mathsf{w}_i, ..., \\mathsf{w}_{k-1})$"
   ]
  },
  {
   "cell_type": "markdown",
   "id": "median-language",
   "metadata": {},
   "source": [
    "### Uniform Interpretation\n",
    "- abstracting the idea of Lie derivative\n",
    "- The Lie derivative of an object $\\mathsf{a}$, that can apply to other objects $\\mathsf{b}$, to produce manifold functions $\\mathsf{a}(\\mathsf{b}): \\mathsf{M} \\rightarrow \\mathsf{R}^n$\n",
    "\n",
    "### Properties of the Lie Derivative\n",
    "- linear in arguments\n",
    "    - $\\mathcal{L}_{\\alpha \\mathsf{v} + \\beta \\mathsf{w}} = \\alpha \\mathcal{L}_{\\mathsf{v}} + \\beta \\mathcal{L}_{\\mathsf{w}}$\n",
    "    - $\\mathcal{L}_{\\mathsf{v}} (\\alpha \\mathsf{a} + \\beta \\mathsf{b}) = \\alpha \\mathcal{L}_{\\mathsf{v}} \\mathsf{a} + \\beta\\mathcal{L}_{\\mathsf{v}} \\mathsf{b}$\n",
    "- For any k-form field $\\omega$ and any vector field $\\mathsf{v}$, the exterior derivative commutes with the Lie derivative w.r.t to the vector field\n",
    "    - $\\mathcal{L}_{\\mathsf{v}}(\\mathsf{d}\\omega) = \\mathsf{d} (\\mathcal{L}_{\\mathsf{v}} \\omega)$\n",
    "    - if $\\omega$ is an element of surface, then $\\mathsf{d}\\omega$ is an element of volume. \n",
    "    - The Lie derivative computes the rate of change of its argument under a deformation described by the vector field. \n",
    "    - The answer is the same whether we deform the surface before computing the volume or compute the volume and then deform it. "
   ]
  },
  {
   "cell_type": "code",
   "execution_count": 11,
   "id": "entitled-champion",
   "metadata": {},
   "outputs": [
    {
     "data": {
      "text/plain": [
       "\"0\""
      ]
     },
     "execution_count": 11,
     "metadata": {},
     "output_type": "execute_result"
    }
   ],
   "source": [
    ";; verify exterior derivative commutes with the Lie derivative in 3-d rectangular space\n",
    ";; of a general one-form field\n",
    "(def X (literal-vector-field 'X-rect R3-rect))\n",
    "(def Y (literal-vector-field 'Y-rect R3-rect))\n",
    "(def V (literal-vector-field 'V-rect R3-rect))\n",
    "(def a (literal-manifold-function 'alpha R3-rect))\n",
    "(def b (literal-manifold-function 'beta R3-rect))\n",
    "(def c (literal-manifold-function 'gamma R3-rect))\n",
    "(def R3-rect-point \n",
    "    ((point R3-rect) (up 'x0 'y0 'z0)))\n",
    "(let-coordinates\n",
    " [[x y z] R3-rect]\n",
    " (def theta\n",
    "     (+ (* a dx) (* b dy) (* c dz))))\n",
    "(render\n",
    " (((- ((Lie-derivative V) (d theta))\n",
    "      (d ((Lie-derivative V) theta)))\n",
    "   X Y)\n",
    "  R3-rect-point))"
   ]
  },
  {
   "cell_type": "code",
   "execution_count": 13,
   "id": "progressive-ghost",
   "metadata": {},
   "outputs": [
    {
     "data": {
      "text/plain": [
       "\"0\""
      ]
     },
     "execution_count": 13,
     "metadata": {},
     "output_type": "execute_result"
    }
   ],
   "source": [
    ";; of a general two-form field\n",
    "(let-coordinates\n",
    " [[x y z] R3-rect]\n",
    " (def omega\n",
    "     (+ (* a (wedge dy dz))\n",
    "        (* b (wedge dz dx))\n",
    "        (* c (wedge dx dy)))))\n",
    "(def Z (literal-vector-field 'Z-rect R3-rect))\n",
    "(render\n",
    " (((- ((Lie-derivative V) (d omega))\n",
    "      (d ((Lie-derivative V) omega)))\n",
    "   X Y Z)\n",
    "  R3-rect-point))"
   ]
  },
  {
   "cell_type": "markdown",
   "id": "substantial-chuck",
   "metadata": {},
   "source": [
    "- If $\\mathsf{v}$ and $\\mathsf{w}$ are two vector fields, then \n",
    "    - $[\\mathcal{L}_{\\mathsf{v}}, \\mathcal{L}_{\\mathsf{w}}] = \\mathcal{L}_{[\\mathsf{v}, \\mathsf{w}]}$"
   ]
  },
  {
   "cell_type": "code",
   "execution_count": 15,
   "id": "agreed-seating",
   "metadata": {},
   "outputs": [
    {
     "data": {
      "text/plain": [
       "\"0\""
      ]
     },
     "execution_count": 15,
     "metadata": {},
     "output_type": "execute_result"
    }
   ],
   "source": [
    ";; verify using an one-form field\n",
    "(render\n",
    " ((((- (commutator (Lie-derivative X) (Lie-derivative Y))\n",
    "       (Lie-derivative (commutator X Y)))\n",
    "    theta)\n",
    "   Z)\n",
    "  R3-rect-point))"
   ]
  },
  {
   "cell_type": "code",
   "execution_count": 16,
   "id": "personalized-checkout",
   "metadata": {},
   "outputs": [
    {
     "data": {
      "text/plain": [
       "\"0\""
      ]
     },
     "execution_count": 16,
     "metadata": {},
     "output_type": "execute_result"
    }
   ],
   "source": [
    ";; verify using a two-form field\n",
    "(render\n",
    " ((((- (commutator (Lie-derivative X) (Lie-derivative Y))\n",
    "       (Lie-derivative (commutator X Y)))\n",
    "    omega)\n",
    "   Z V)\n",
    "  R3-rect-point))"
   ]
  },
  {
   "cell_type": "markdown",
   "id": "sufficient-lawsuit",
   "metadata": {},
   "source": [
    "### Exponentiating Lie Derivatives\n",
    "- The Lie derivative computes the rate of change of objects as they are advanced along integral curves. \n",
    "- The Lie derivative of an object produces another object of the same type, which allows us to iterate Lie derivatives. \n",
    "- The operator $e^{t\\mathcal{L}_{\\mathsf{v}}} = 1 + t \\mathcal{L}_{\\mathsf{v}} + \\frac{t^2}{2!}\\mathcal{L}_{\\mathsf{v}}^2 + ...$ evolves objects along the curve by parameter $t$\n",
    "- Consider the simple case of advancing the coordinate-basis vector field $\\partial / \\partial \\mathsf{y}$ by an angle $a$ around the circle. \n",
    "- Let $\\mathsf{J}_z = x \\partial / \\partial \\mathsf{y} - y \\partial / \\partial \\mathsf{x}$, the circular vector field"
   ]
  },
  {
   "cell_type": "code",
   "execution_count": 27,
   "id": "civil-oregon",
   "metadata": {},
   "outputs": [
    {
     "data": {
      "text/plain": [
       "#'chp7/evolved-vector"
      ]
     },
     "execution_count": 27,
     "metadata": {},
     "output_type": "execute_result"
    }
   ],
   "source": [
    "(let-coordinates\n",
    " [[x y] R2-rect]\n",
    " (def Jz (- (* x d:dy) (* y d:dx)))\n",
    " (def evolved-vector\n",
    "   (seq \n",
    "    ((((exp (* 'a (Lie-derivative Jz)))\n",
    "       d:dy)\n",
    "      (literal-manifold-function 'f-rect R2-rect))\n",
    "     ((point R2-rect) (up 1 0))))))"
   ]
  },
  {
   "cell_type": "code",
   "execution_count": 30,
   "id": "blank-washington",
   "metadata": {},
   "outputs": [
    {
     "data": {
      "text/plain": [
       "\"∂₁f-rect(up(1, 0))\""
      ]
     },
     "execution_count": 30,
     "metadata": {},
     "output_type": "execute_result"
    }
   ],
   "source": [
    "(render (nth evolved-vector 0))"
   ]
  },
  {
   "cell_type": "code",
   "execution_count": 31,
   "id": "atmospheric-bracket",
   "metadata": {},
   "outputs": [
    {
     "data": {
      "text/plain": [
       "\"a ∂₀f-rect(up(1, 0))\""
      ]
     },
     "execution_count": 31,
     "metadata": {},
     "output_type": "execute_result"
    }
   ],
   "source": [
    "(render (nth evolved-vector 1))"
   ]
  },
  {
   "cell_type": "code",
   "execution_count": 32,
   "id": "meaningful-detroit",
   "metadata": {},
   "outputs": [
    {
     "data": {
      "text/plain": [
       "\"-1/2 a² ∂₁f-rect(up(1, 0))\""
      ]
     },
     "execution_count": 32,
     "metadata": {},
     "output_type": "execute_result"
    }
   ],
   "source": [
    "(render (nth evolved-vector 2))"
   ]
  },
  {
   "cell_type": "code",
   "execution_count": 33,
   "id": "above-representative",
   "metadata": {},
   "outputs": [
    {
     "data": {
      "text/plain": [
       "\"-1/6 a³ ∂₀f-rect(up(1, 0))\""
      ]
     },
     "execution_count": 33,
     "metadata": {},
     "output_type": "execute_result"
    }
   ],
   "source": [
    "(render (nth evolved-vector 3))"
   ]
  },
  {
   "cell_type": "code",
   "execution_count": 34,
   "id": "distributed-queen",
   "metadata": {},
   "outputs": [
    {
     "data": {
      "text/plain": [
       "\"1/24 a⁴ ∂₁f-rect(up(1, 0))\""
      ]
     },
     "execution_count": 34,
     "metadata": {},
     "output_type": "execute_result"
    }
   ],
   "source": [
    "(render (nth evolved-vector 4))"
   ]
  },
  {
   "cell_type": "markdown",
   "id": "proved-reverse",
   "metadata": {},
   "source": [
    "- By inspecting the results, we conclude that \n",
    "$$ exp \\big(a \\mathcal{L}_{\\mathsf{x} \\partial / \\partial \\mathsf{y} - \\mathsf{y} \\partial /\\partial \\mathsf{x}}\\big) \\frac{\\partial} {\\partial \\mathsf{y}} = -\\mathrm{sin}(a)\\frac{\\partial}{\\partial \\mathsf{x}} + \\mathrm{cos}(a) \\frac{\\partial} {\\partial \\mathsf{y}} $$\n",
    "\n",
    "### Interior Product\n",
    "- substitute a vector field $\\mathsf{v}$ into the first argument of a $p$-form field $\\omega$ to produce a $p-1$-form field.\n",
    "- $(i_{\\mathsf{v}}\\omega)(\\mathsf{v}_1, ..., \\mathsf{v}_{p-1}) = \\omega (\\mathsf{v}, \\mathsf{v}_1, ..., \\mathsf{v}_{p-1})$\n",
    "- product rule: $\\mathcal{L}_{\\mathsf{v}} (i_{\\mathsf{y}}\\omega) = i_{\\mathcal{L}_{\\mathsf{v}}\\mathsf{y}}\\omega + i_{\\mathsf{y}}(\\mathcal{L}_{\\mathsf{v}}\\omega)$\n",
    "- Cartan's formula: $\\mathcal{L}_{\\mathsf{v}}\\omega = i_{\\mathsf{v}}(\\mathsf{d}\\omega) + \\mathsf{d}(i_{\\mathsf{v}}\\omega)$"
   ]
  },
  {
   "cell_type": "code",
   "execution_count": null,
   "id": "saving-princess",
   "metadata": {},
   "outputs": [],
   "source": []
  }
 ],
 "metadata": {
  "kernelspec": {
   "display_name": "Clojure (clojupyter=0.3.2=1)",
   "language": "clojure",
   "name": "conda-clojupyter"
  },
  "language_info": {
   "file_extension": ".clj",
   "mimetype": "text/x-clojure",
   "name": "clojure",
   "version": "1.10.1"
  }
 },
 "nbformat": 4,
 "nbformat_minor": 5
}
